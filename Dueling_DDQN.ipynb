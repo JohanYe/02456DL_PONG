{
  "nbformat": 4,
  "nbformat_minor": 0,
  "metadata": {
    "colab": {
      "name": "Copy of Kopi af Kopi af DuelDQN.ipynb",
      "provenance": [],
      "collapsed_sections": [],
      "machine_shape": "hm"
    },
    "kernelspec": {
      "name": "python3",
      "display_name": "Python 3"
    },
    "accelerator": "GPU"
  },
  "cells": [
    {
      "cell_type": "code",
      "metadata": {
        "id": "xRh7s0R8khkI",
        "colab_type": "code",
        "colab": {}
      },
      "source": [
        "import gym\n",
        "from google.colab import drive\n",
        "import math\n",
        "import numpy as np\n",
        "import matplotlib.pyplot as plt\n",
        "import random\n",
        "from matplotlib import animation\n",
        "from collections import deque\n",
        "import time\n",
        "import torch.nn as nn\n",
        "import torch\n",
        "cuda = torch.cuda.is_available()\n",
        "import torch.optim as optim\n",
        "from torch.utils.data import DataLoader\n",
        "from torch.utils.data.sampler import SubsetRandomSampler\n",
        "from torch.autograd import Variable\n",
        "from torchvision.transforms import ToTensor\n",
        "from functools import reduce\n",
        "import torch.nn.functional as F"
      ],
      "execution_count": 0,
      "outputs": []
    },
    {
      "cell_type": "code",
      "metadata": {
        "id": "QceOjjsbuLNg",
        "colab_type": "code",
        "outputId": "5c5aecad-4a3d-40a0-f2b7-23b6ae7c3b30",
        "colab": {
          "base_uri": "https://localhost:8080/",
          "height": 122
        }
      },
      "source": [
        "drive.mount('/content/gdrive')"
      ],
      "execution_count": 2,
      "outputs": [
        {
          "output_type": "stream",
          "text": [
            "Go to this URL in a browser: https://accounts.google.com/o/oauth2/auth?client_id=947318989803-6bn6qk8qdgf4n4g3pfee6491hc0brc4i.apps.googleusercontent.com&redirect_uri=urn%3aietf%3awg%3aoauth%3a2.0%3aoob&response_type=code&scope=email%20https%3a%2f%2fwww.googleapis.com%2fauth%2fdocs.test%20https%3a%2f%2fwww.googleapis.com%2fauth%2fdrive%20https%3a%2f%2fwww.googleapis.com%2fauth%2fdrive.photos.readonly%20https%3a%2f%2fwww.googleapis.com%2fauth%2fpeopleapi.readonly\n",
            "\n",
            "Enter your authorization code:\n",
            "··········\n",
            "Mounted at /content/gdrive\n"
          ],
          "name": "stdout"
        }
      ]
    },
    {
      "cell_type": "code",
      "metadata": {
        "id": "ARIZkKy7kiMO",
        "colab_type": "code",
        "colab": {}
      },
      "source": [
        "env = gym.make(\"PongDeterministic-v4\")\n",
        "device = torch.device(\"cuda\" if torch.cuda.is_available() else \"cpu\")"
      ],
      "execution_count": 0,
      "outputs": []
    },
    {
      "cell_type": "code",
      "metadata": {
        "id": "mdMjMxHPkiOU",
        "colab_type": "code",
        "colab": {}
      },
      "source": [
        "# dueling used by Higgsfield (cf. https://github.com/higgsfield/RL-Adventure/blob/master/3.dueling%20dqn.ipynb)\n",
        "def compute_loss(ss, aa, rr, ss1, dd):\n",
        "    for i in range(len(aa)):\n",
        "        if aa[i] > 0: aa[i] -= 1\n",
        "            \n",
        "    state      = Variable(torch.from_numpy(np.stack(ss)).float().to(device))\n",
        "    next_state = Variable(torch.from_numpy(np.stack(ss1)).float().to(device))\n",
        "    action     = Variable(torch.from_numpy(np.stack(aa)).long().to(device))\n",
        "    reward     = Variable(torch.from_numpy(np.stack(rr)).float().to(device))\n",
        "    done       = Variable(torch.from_numpy(np.stack(dd)).float().to(device))\n",
        "\n",
        "    q_values      = policy_dqn(state)\n",
        "    q_values_next = policy_dqn(next_state)\n",
        "    next_q_values = target_dqn(next_state)\n",
        "\n",
        "    q_value = q_values.gather(1, action.unsqueeze(1)).squeeze(1)\n",
        "    next_q_value = next_q_values.gather(1, torch.max(q_values_next, 1)[1].unsqueeze(1)).squeeze(1)\n",
        "\n",
        "    next_q_value     = next_q_values.max(1)[0]\n",
        "    expected_q_value = reward + gamma * next_q_value * (1 - done)\n",
        "    \n",
        "    loss = (q_value - expected_q_value.detach()).pow(2).mean()\n",
        "        \n",
        "    policy_dqn.optimizer.zero_grad()\n",
        "    loss.backward()\n",
        "    policy_dqn.optimizer.step()\n",
        "    \n",
        "    return loss"
      ],
      "execution_count": 0,
      "outputs": []
    },
    {
      "cell_type": "code",
      "metadata": {
        "id": "c9xVnLsfkiQY",
        "colab_type": "code",
        "colab": {}
      },
      "source": [
        "# preprocessing used by Karpathy (cf. https://gist.github.com/karpathy/a4166c7fe253700972fcbc77e4ea32c5)\n",
        "def prepro(I):\n",
        "    \"\"\" prepro 210x160x3 uint8 frame into 6400 (80x80) 1D float vector \"\"\"\n",
        "    I = I[35:195] # crop\n",
        "    I = I[::2,::2,0] # downsample by factor of 2\n",
        "    I[I == 144] = 0 # erase background (background type 1)\n",
        "    I[I == 109] = 0 # erase background (background type 2)\n",
        "    I[I != 0] = 1 # everything else (paddles, ball) just set to 1\n",
        "    return I.astype(np.float)"
      ],
      "execution_count": 0,
      "outputs": []
    },
    {
      "cell_type": "code",
      "metadata": {
        "id": "wBL-PZxykiSP",
        "colab_type": "code",
        "colab": {}
      },
      "source": [
        "class ReplayMemory(object):\n",
        "    \"\"\"Experience Replay Memory\"\"\"\n",
        "    \n",
        "    def __init__(self, capacity):\n",
        "        #self.size = size\n",
        "        self.memory = deque(maxlen=capacity)\n",
        "\n",
        "    \n",
        "    def add(self, *args):\n",
        "        \"\"\"Add experience to memory.\"\"\"\n",
        "        self.memory.append([*args])\n",
        "    \n",
        "    def sample(self, batch_size):\n",
        "        \"\"\"Sample batch of experiences from memory with replacement.\"\"\"\n",
        "        return random.sample(self.memory, batch_size)\n",
        "    \n",
        "    def count(self):\n",
        "        return len(self.memory)"
      ],
      "execution_count": 0,
      "outputs": []
    },
    {
      "cell_type": "code",
      "metadata": {
        "id": "jh5iMiH4kiUX",
        "colab_type": "code",
        "outputId": "151412ac-0878-42ad-b114-31c785523aab",
        "colab": {
          "base_uri": "https://localhost:8080/",
          "height": 1000
        }
      },
      "source": [
        "replay_memory_capacity = 50000\n",
        "prefill_memory = True\n",
        "\n",
        "replay_memory = ReplayMemory(replay_memory_capacity)\n",
        "\n",
        "def sample_action():\n",
        "    n = np.random.uniform(0,1)\n",
        "    if n <= 1/3:\n",
        "        return 0\n",
        "    elif n <= 2/3:\n",
        "        return 2\n",
        "    else:\n",
        "        return 3\n",
        "\n",
        "if prefill_memory:\n",
        "\n",
        "    env.reset()\n",
        "    prev_input = np.zeros((80,80))\n",
        "    for i in range(15):\n",
        "        env.step(0)\n",
        "    state0,_,_,_ = env.step(0)\n",
        "    cur_input = prepro(state0)\n",
        "    state = (cur_input - prev_input).reshape(1,80,80)\n",
        "    prev_input = cur_input \n",
        "\n",
        "    while replay_memory.count() <= 0.2*replay_memory_capacity:\n",
        "        action = sample_action()\n",
        "        state_raw, reward, done, _ = env.step(action)\n",
        "        cur_input = prepro(state_raw)\n",
        "        state1 = (cur_input - prev_input).reshape(1,80,80)\n",
        "        replay_memory.add(state, action, reward, state1, done)\n",
        "        if not done:\n",
        "            prev_input,state = cur_input,state1\n",
        "        else:\n",
        "            env.reset()\n",
        "            for i in range(15):\n",
        "                env.step(0)\n",
        "            state_raw,_,_,_ = env.step(0)\n",
        "            prev_input = prepro(state_raw).reshape(1,80,80)\n",
        "            state = prev_input\n",
        "            \n",
        "        if replay_memory.count() % 1000 == 0:\n",
        "            print('replay #:',replay_memory.count())\n",
        "            patch = plt.imshow(state1[0])\n",
        "            plt.axis('off')\n",
        "            plt.colorbar()\n",
        "            plt.show()"
      ],
      "execution_count": 7,
      "outputs": [
        {
          "output_type": "stream",
          "text": [
            "replay #: 1000\n"
          ],
          "name": "stdout"
        },
        {
          "output_type": "display_data",
          "data": {
            "image/png": "[encoded data removed]",
            "text/plain": [
              "<Figure size 432x288 with 2 Axes>"
            ]
          },
          "metadata": {
            "tags": []
          }
        },
        {
          "output_type": "stream",
          "text": [
            "replay #: 2000\n"
          ],
          "name": "stdout"
        },
        {
          "output_type": "display_data",
          "data": {
            "image/png": "[encoded data removed]",
            "text/plain": [
              "<Figure size 432x288 with 2 Axes>"
            ]
          },
          "metadata": {
            "tags": []
          }
        },
        {
          "output_type": "stream",
          "text": [
            "replay #: 3000\n"
          ],
          "name": "stdout"
        },
        {
          "output_type": "display_data",
          "data": {
            "image/png": "[encoded data removed]",
            "text/plain": [
              "<Figure size 432x288 with 2 Axes>"
            ]
          },
          "metadata": {
            "tags": []
          }
        },
        {
          "output_type": "stream",
          "text": [
            "replay #: 4000\n"
          ],
          "name": "stdout"
        },
        {
          "output_type": "display_data",
          "data": {
            "image/png": "[encoded data removed]",
            "text/plain": [
              "<Figure size 432x288 with 2 Axes>"
            ]
          },
          "metadata": {
            "tags": []
          }
        },
        {
          "output_type": "stream",
          "text": [
            "replay #: 5000\n"
          ],
          "name": "stdout"
        },
        {
          "output_type": "display_data",
          "data": {
            "image/png": "[encoded data removed]",
            "text/plain": [
              "<Figure size 432x288 with 2 Axes>"
            ]
          },
          "metadata": {
            "tags": []
          }
        },
        {
          "output_type": "stream",
          "text": [
            "replay #: 6000\n"
          ],
          "name": "stdout"
        },
        {
          "output_type": "display_data",
          "data": {
            "image/png": "[encoded data removed]",
            "text/plain": [
              "<Figure size 432x288 with 2 Axes>"
            ]
          },
          "metadata": {
            "tags": []
          }
        },
        {
          "output_type": "stream",
          "text": [
            "replay #: 7000\n"
          ],
          "name": "stdout"
        },
        {
          "output_type": "display_data",
          "data": {
            "image/png": "[encoded data removed]",
            "text/plain": [
              "<Figure size 432x288 with 2 Axes>"
            ]
          },
          "metadata": {
            "tags": []
          }
        },
        {
          "output_type": "stream",
          "text": [
            "replay #: 8000\n"
          ],
          "name": "stdout"
        },
        {
          "output_type": "display_data",
          "data": {
            "image/png": "[encoded data removed]",
            "text/plain": [
              "<Figure size 432x288 with 2 Axes>"
            ]
          },
          "metadata": {
            "tags": []
          }
        },
        {
          "output_type": "stream",
          "text": [
            "replay #: 9000\n"
          ],
          "name": "stdout"
        },
        {
          "output_type": "display_data",
          "data": {
            "image/png": "[encoded data removed]",
            "text/plain": [
              "<Figure size 432x288 with 2 Axes>"
            ]
          },
          "metadata": {
            "tags": []
          }
        },
        {
          "output_type": "stream",
          "text": [
            "replay #: 10000\n"
          ],
          "name": "stdout"
        },
        {
          "output_type": "display_data",
          "data": {
            "image/png": "[encoded data removed]",
            "text/plain": [
              "<Figure size 432x288 with 2 Axes>"
            ]
          },
          "metadata": {
            "tags": []
          }
        }
      ]
    },
    {
      "cell_type": "code",
      "metadata": {
        "id": "YIviLJpf6PFO",
        "colab_type": "code",
        "colab": {}
      },
      "source": [
        "class Print(nn.Module):\n",
        "    def forward(self, x):\n",
        "        print(x.size())\n",
        "        return x"
      ],
      "execution_count": 0,
      "outputs": []
    },
    {
      "cell_type": "code",
      "metadata": {
        "id": "we_t8cWOkiWh",
        "colab_type": "code",
        "colab": {}
      },
      "source": [
        "class DuelingCnnDQN(nn.Module):\n",
        "    def __init__(self, input_features = 1568, output_layer = 3):\n",
        "        super(DuelingCnnDQN,self).__init__()\n",
        "\n",
        "        self.out = nn.Sequential(\n",
        "            nn.Linear(input_features, 512),\n",
        "            nn.LeakyReLU(0.1),\n",
        "            nn.Linear(512, 1)\n",
        "        )\n",
        "            \n",
        "\n",
        "            \n",
        "        self.advantage = nn.Sequential(\n",
        "            nn.Linear(input_features, 512),\n",
        "            nn.LeakyReLU(0.1),\n",
        "            nn.Linear(512, output_layer)\n",
        "        )\n",
        "\n",
        "        self.convolutions = nn.Sequential(\n",
        "            nn.Conv2d(in_channels = 1, out_channels=4, kernel_size = 5, stride = 2),\n",
        "            nn.LeakyReLU(0.1),\n",
        "            nn.Conv2d(4,16,5,2),\n",
        "            nn.LeakyReLU(0.1),\n",
        "            nn.Conv2d(16,32,5,2),\n",
        "            nn.LeakyReLU(0.1)\n",
        "        )\n",
        "    \n",
        "    def forward(self,x):\n",
        "        x = self.convolutions(x)\n",
        "        x = x.view(x.size(0), -1)\n",
        "        advantage = self.advantage(x)\n",
        "        out = self.out(x)\n",
        "        return out + advantage - advantage.mean()\n",
        "\n",
        "    #sum squared diff\n",
        "    def loss(self, q_outputs, q_targets):\n",
        "        return torch.sum(torch.pow(q_targets - q_outputs, 2))\n",
        "    \n",
        "    def update_params(self,new_params,tau):\n",
        "        params = self.state_dict()\n",
        "        for k in params.keys():\n",
        "            params[k] = (1-tau) * params[k] + tau * new_params[k]\n",
        "        self.load_state_dict(params)"
      ],
      "execution_count": 0,
      "outputs": []
    },
    {
      "cell_type": "code",
      "metadata": {
        "id": "0yrsFQ9RkiYa",
        "colab_type": "code",
        "colab": {}
      },
      "source": [
        "num_episodes = 1000\n",
        "episode_limit = 1100\n",
        "batch_size = 32\n",
        "epsilon = 1\n",
        "epsilon_start = 1\n",
        "epsilon_end = 0.02\n",
        "epsilon_decay_rate = 150*1000\n",
        "frames_list = []\n",
        "epsilon_greedy = 1/(num_episodes*0.5)\n",
        "\n",
        "\n",
        "step_play = 4\n",
        "gamma = 0.99 # discount rate\n",
        "tau = 0.01 # target network update rate\n",
        "replay_memory_capacity = 10000\n",
        "prefill_memory = True\n",
        "val_freq = 50 # validation frequency\n",
        "capture = True\n",
        "\n",
        "\n",
        "# initialize DQN and replay memory\n",
        "policy_dqn = DuelingCnnDQN().to(device)\n",
        "target_dqn = DuelingCnnDQN().to(device)\n",
        "\n",
        "target_dqn.load_state_dict(policy_dqn.state_dict())\n",
        "\n",
        "policy_dqn.optimizer = optim.Adam(policy_dqn.parameters(),lr=0.0001)\n",
        "\n",
        "rewards, lengths, losses, epsilons = [], [], [], []"
      ],
      "execution_count": 0,
      "outputs": []
    },
    {
      "cell_type": "code",
      "metadata": {
        "id": "cDEA4rUyuHNF",
        "colab_type": "code",
        "colab": {}
      },
      "source": [
        "load = False\n",
        "\n",
        "if load:\n",
        "    model_save_name = 'classifier.pt'\n",
        "    path = F\"/content/gdrive/My Drive/\" + model_save_name\n",
        "\n",
        "    checkpoint = torch.load(path)\n",
        "    policy_dqn.load_state_dict(checkpoint['policy_dqn'])\n",
        "    target_dqn.load_state_dict(checkpoint['target_dqn'])\n",
        "    policy_dqn.optimizer.load_state_dict(checkpoint['optimizer'])\n",
        "    replay_memory = checkpoint['replay_mem']\n",
        "    episode = checkpoint['epoch']\n",
        "    epsilon = checkpoint['epsilon']\n",
        "    loss = checkpoint['loss']"
      ],
      "execution_count": 0,
      "outputs": []
    },
    {
      "cell_type": "code",
      "metadata": {
        "id": "vtozS4mJm62g",
        "colab_type": "code",
        "colab": {}
      },
      "source": [
        "def save_frames_as_gif(frames, filename=None):\n",
        "    \"\"\"\n",
        "    Save a list of frames as a gif\n",
        "    \"\"\"\n",
        "    patch = plt.imshow(frames[0])\n",
        "    plt.axis('off')\n",
        "    def animate(i):\n",
        "        patch.set_data(frames[i])\n",
        "    anim = animation.FuncAnimation(plt.gcf(), animate, frames = len(frames), interval=50)\n",
        "    if filename:\n",
        "        anim.save(filename, dpi=72, writer='imagemagick')"
      ],
      "execution_count": 0,
      "outputs": []
    },
    {
      "cell_type": "code",
      "metadata": {
        "id": "H-aU5bchkrPU",
        "colab_type": "code",
        "outputId": "a678f2d4-2d6b-45c4-d77a-a8edc9bc84ae",
        "colab": {
          "base_uri": "https://localhost:8080/",
          "height": 1000
        }
      },
      "source": [
        "for episode in range(num_episodes):\n",
        "\n",
        "    if load:\n",
        "       episode += checkpoint['epoch']\n",
        "    \n",
        "    frames = 0\n",
        "    ep_reward, ep_loss = 0, 0\n",
        "    # init new episode\n",
        "    env.reset()\n",
        "    prev_input = np.zeros((80,80))\n",
        "    for i in range(15):\n",
        "        env.step(0)\n",
        "    state0,_,_,_ = env.step(0)\n",
        "    cur_input = prepro(state0)\n",
        "    state = (cur_input - prev_input).reshape(1,80,80)\n",
        "    prev_input = cur_input\n",
        "\n",
        "    #append frames to create a giffy\n",
        "    if capture: frames_list.append(state0)\n",
        "\n",
        "    for frame in range(episode_limit):\n",
        "        # select action with epsilon-greedy strategy\n",
        "        for step in range(step_play):\n",
        "            if np.random.rand() < epsilon:\n",
        "                action = sample_action()\n",
        "            else:\n",
        "                with torch.no_grad():\n",
        "                    s_tmp = torch.from_numpy(state.reshape(1,1,80,80)).float().to(device)\n",
        "                    action = policy_dqn(s_tmp).argmax().item()\n",
        "                    action +=1 if action != 0 else action \n",
        "\n",
        "            state_raw, reward, done, _ = env.step(action)\n",
        "\n",
        "            # Append frames to giffy\n",
        "            if capture: frames_list.append(state_raw)\n",
        "\n",
        "            cur_input = prepro(state_raw)\n",
        "            state1 = (cur_input - prev_input).reshape(1,80,80)\n",
        "            replay_memory.add(state, action, reward, state1, done)\n",
        "        \n",
        "            state = state1\n",
        "            prev_input = cur_input\n",
        "            ep_reward += reward\n",
        "            frames += step\n",
        "            if done:\n",
        "                break\n",
        "                \n",
        "        if replay_memory.count() >= batch_size:\n",
        "            batch = replay_memory.sample(batch_size)\n",
        "            for step in range(step_play):\n",
        "                batch.extend(replay_memory.sample(batch_size))\n",
        "            batch = np.array(batch)\n",
        "            ss, aa, rr, ss1, dd = batch[:,0], batch[:,1], batch[:,2], batch[:,3], batch[:,4]\n",
        "            loss = compute_loss(ss, aa, rr, ss1, dd)\n",
        "            target_dqn.update_params(policy_dqn.state_dict(), tau)\n",
        "        ep_loss += loss.item()                 \n",
        "        if done: \n",
        "            break\n",
        "    if epsilon > 0.01:\n",
        "        epsilon *= 0.9935\n",
        "    else:\n",
        "        epsilon = 0.01\n",
        "    \n",
        "\n",
        "\n",
        "\n",
        "\n",
        "    rewards.append(ep_reward)\n",
        "    print('{} Episode:, {}, reward:,{}, frames: ,{}, epsilon: ,{}, last_{}_avgR: ,{}'.format(\n",
        "        time.strftime('%X %x'),episode+1, ep_reward, frames, round(epsilon,3), 100,np.mean(rewards[-100:])))\n",
        "\n",
        "     # save a gif\n",
        "    if capture:\n",
        "        gif = F\"/content/gdrive/My Drive/Pong_gifs\" + str(episode) + '.gif'\n",
        "        save_frames_as_gif(frames_list, filename=gif)\n",
        "        capture = False\n",
        "        frames = []\n",
        "\n",
        "    # frequency for when to make a giffy\n",
        "    if (episode+1) % val_freq == 0: # Test setup\n",
        "        frames_list, capture = [], True\n",
        "        print('GIF saved')"
      ],
      "execution_count": 13,
      "outputs": [
        {
          "output_type": "stream",
          "text": [
            "MovieWriter imagemagick unavailable; trying to use <class 'matplotlib.animation.PillowWriter'> instead.\n"
          ],
          "name": "stderr"
        },
        {
          "output_type": "stream",
          "text": [
            "09:45:12 01/03/20 Episode:, 1, reward:,-19.0, frames: ,1683, epsilon: ,0.994, last_100_avgR: ,-19.0\n",
            "09:45:30 01/03/20 Episode:, 2, reward:,-21.0, frames: ,1573, epsilon: ,0.987, last_100_avgR: ,-20.0\n",
            "09:45:34 01/03/20 Episode:, 3, reward:,-21.0, frames: ,1303, epsilon: ,0.981, last_100_avgR: ,-20.333333333333332\n",
            "09:45:38 01/03/20 Episode:, 4, reward:,-21.0, frames: ,1305, epsilon: ,0.974, last_100_avgR: ,-20.5\n",
            "09:45:43 01/03/20 Episode:, 5, reward:,-21.0, frames: ,1482, epsilon: ,0.968, last_100_avgR: ,-20.6\n",
            "09:45:47 01/03/20 Episode:, 6, reward:,-21.0, frames: ,1212, epsilon: ,0.962, last_100_avgR: ,-20.666666666666668\n",
            "09:45:52 01/03/20 Episode:, 7, reward:,-21.0, frames: ,1668, epsilon: ,0.955, last_100_avgR: ,-20.714285714285715\n",
            "09:45:56 01/03/20 Episode:, 8, reward:,-20.0, frames: ,1356, epsilon: ,0.949, last_100_avgR: ,-20.625\n",
            "09:46:02 01/03/20 Episode:, 9, reward:,-20.0, frames: ,1813, epsilon: ,0.943, last_100_avgR: ,-20.555555555555557\n",
            "09:46:07 01/03/20 Episode:, 10, reward:,-21.0, frames: ,1483, epsilon: ,0.937, last_100_avgR: ,-20.6\n",
            "09:46:11 01/03/20 Episode:, 11, reward:,-20.0, frames: ,1356, epsilon: ,0.931, last_100_avgR: ,-20.545454545454547\n",
            "09:46:18 01/03/20 Episode:, 12, reward:,-20.0, frames: ,1992, epsilon: ,0.925, last_100_avgR: ,-20.5\n",
            "09:46:22 01/03/20 Episode:, 13, reward:,-19.0, frames: ,1500, epsilon: ,0.919, last_100_avgR: ,-20.384615384615383\n",
            "09:46:30 01/03/20 Episode:, 14, reward:,-17.0, frames: ,2244, epsilon: ,0.913, last_100_avgR: ,-20.142857142857142\n",
            "09:46:34 01/03/20 Episode:, 15, reward:,-21.0, frames: ,1398, epsilon: ,0.907, last_100_avgR: ,-20.2\n",
            "09:46:38 01/03/20 Episode:, 16, reward:,-21.0, frames: ,1392, epsilon: ,0.901, last_100_avgR: ,-20.25\n",
            "09:46:43 01/03/20 Episode:, 17, reward:,-21.0, frames: ,1303, epsilon: ,0.895, last_100_avgR: ,-20.294117647058822\n",
            "09:46:48 01/03/20 Episode:, 18, reward:,-21.0, frames: ,1578, epsilon: ,0.889, last_100_avgR: ,-20.333333333333332\n",
            "09:46:53 01/03/20 Episode:, 19, reward:,-19.0, frames: ,1686, epsilon: ,0.883, last_100_avgR: ,-20.263157894736842\n",
            "09:46:57 01/03/20 Episode:, 20, reward:,-21.0, frames: ,1302, epsilon: ,0.878, last_100_avgR: ,-20.3\n",
            "09:47:03 01/03/20 Episode:, 21, reward:,-21.0, frames: ,1575, epsilon: ,0.872, last_100_avgR: ,-20.333333333333332\n",
            "09:47:08 01/03/20 Episode:, 22, reward:,-20.0, frames: ,1719, epsilon: ,0.866, last_100_avgR: ,-20.318181818181817\n",
            "09:47:13 01/03/20 Episode:, 23, reward:,-20.0, frames: ,1539, epsilon: ,0.861, last_100_avgR: ,-20.304347826086957\n",
            "09:47:18 01/03/20 Episode:, 24, reward:,-21.0, frames: ,1398, epsilon: ,0.855, last_100_avgR: ,-20.333333333333332\n",
            "09:47:22 01/03/20 Episode:, 25, reward:,-20.0, frames: ,1353, epsilon: ,0.85, last_100_avgR: ,-20.32\n",
            "09:47:27 01/03/20 Episode:, 26, reward:,-20.0, frames: ,1632, epsilon: ,0.844, last_100_avgR: ,-20.307692307692307\n",
            "09:47:33 01/03/20 Episode:, 27, reward:,-20.0, frames: ,1626, epsilon: ,0.839, last_100_avgR: ,-20.296296296296298\n",
            "09:47:38 01/03/20 Episode:, 28, reward:,-21.0, frames: ,1579, epsilon: ,0.833, last_100_avgR: ,-20.321428571428573\n",
            "09:47:43 01/03/20 Episode:, 29, reward:,-21.0, frames: ,1482, epsilon: ,0.828, last_100_avgR: ,-20.344827586206897\n",
            "09:47:46 01/03/20 Episode:, 30, reward:,-21.0, frames: ,1212, epsilon: ,0.822, last_100_avgR: ,-20.366666666666667\n",
            "09:47:52 01/03/20 Episode:, 31, reward:,-20.0, frames: ,1806, epsilon: ,0.817, last_100_avgR: ,-20.35483870967742\n",
            "09:47:57 01/03/20 Episode:, 32, reward:,-21.0, frames: ,1575, epsilon: ,0.812, last_100_avgR: ,-20.375\n",
            "09:48:03 01/03/20 Episode:, 33, reward:,-19.0, frames: ,1770, epsilon: ,0.806, last_100_avgR: ,-20.333333333333332\n",
            "09:48:11 01/03/20 Episode:, 34, reward:,-18.0, frames: ,2275, epsilon: ,0.801, last_100_avgR: ,-20.264705882352942\n",
            "09:48:15 01/03/20 Episode:, 35, reward:,-21.0, frames: ,1213, epsilon: ,0.796, last_100_avgR: ,-20.285714285714285\n",
            "09:48:21 01/03/20 Episode:, 36, reward:,-20.0, frames: ,1807, epsilon: ,0.791, last_100_avgR: ,-20.27777777777778\n",
            "09:48:26 01/03/20 Episode:, 37, reward:,-20.0, frames: ,1722, epsilon: ,0.786, last_100_avgR: ,-20.27027027027027\n",
            "09:48:32 01/03/20 Episode:, 38, reward:,-21.0, frames: ,1572, epsilon: ,0.781, last_100_avgR: ,-20.289473684210527\n",
            "09:48:37 01/03/20 Episode:, 39, reward:,-21.0, frames: ,1758, epsilon: ,0.775, last_100_avgR: ,-20.307692307692307\n",
            "09:48:43 01/03/20 Episode:, 40, reward:,-20.0, frames: ,1812, epsilon: ,0.77, last_100_avgR: ,-20.3\n",
            "09:48:48 01/03/20 Episode:, 41, reward:,-21.0, frames: ,1302, epsilon: ,0.765, last_100_avgR: ,-20.317073170731707\n",
            "09:48:53 01/03/20 Episode:, 42, reward:,-19.0, frames: ,1495, epsilon: ,0.76, last_100_avgR: ,-20.285714285714285\n",
            "09:48:57 01/03/20 Episode:, 43, reward:,-21.0, frames: ,1303, epsilon: ,0.755, last_100_avgR: ,-20.302325581395348\n",
            "09:49:03 01/03/20 Episode:, 44, reward:,-20.0, frames: ,1719, epsilon: ,0.751, last_100_avgR: ,-20.295454545454547\n",
            "09:49:09 01/03/20 Episode:, 45, reward:,-20.0, frames: ,1809, epsilon: ,0.746, last_100_avgR: ,-20.288888888888888\n",
            "09:49:14 01/03/20 Episode:, 46, reward:,-20.0, frames: ,1716, epsilon: ,0.741, last_100_avgR: ,-20.282608695652176\n",
            "09:49:20 01/03/20 Episode:, 47, reward:,-21.0, frames: ,1758, epsilon: ,0.736, last_100_avgR: ,-20.29787234042553\n",
            "09:49:26 01/03/20 Episode:, 48, reward:,-21.0, frames: ,1935, epsilon: ,0.731, last_100_avgR: ,-20.3125\n",
            "09:49:33 01/03/20 Episode:, 49, reward:,-20.0, frames: ,1899, epsilon: ,0.726, last_100_avgR: ,-20.306122448979593\n",
            "09:49:39 01/03/20 Episode:, 50, reward:,-19.0, frames: ,1770, epsilon: ,0.722, last_100_avgR: ,-20.28\n",
            "GIF saved\n"
          ],
          "name": "stdout"
        },
        {
          "output_type": "stream",
          "text": [
            "MovieWriter imagemagick unavailable; trying to use <class 'matplotlib.animation.PillowWriter'> instead.\n"
          ],
          "name": "stderr"
        },
        {
          "output_type": "stream",
          "text": [
            "09:49:44 01/03/20 Episode:, 51, reward:,-19.0, frames: ,1686, epsilon: ,0.717, last_100_avgR: ,-20.254901960784313\n",
            "09:50:07 01/03/20 Episode:, 52, reward:,-21.0, frames: ,1578, epsilon: ,0.712, last_100_avgR: ,-20.26923076923077\n",
            "09:50:14 01/03/20 Episode:, 53, reward:,-20.0, frames: ,1986, epsilon: ,0.708, last_100_avgR: ,-20.264150943396228\n",
            "09:50:19 01/03/20 Episode:, 54, reward:,-21.0, frames: ,1482, epsilon: ,0.703, last_100_avgR: ,-20.27777777777778\n",
            "09:50:24 01/03/20 Episode:, 55, reward:,-20.0, frames: ,1537, epsilon: ,0.699, last_100_avgR: ,-20.272727272727273\n",
            "09:50:31 01/03/20 Episode:, 56, reward:,-20.0, frames: ,2172, epsilon: ,0.694, last_100_avgR: ,-20.267857142857142\n",
            "09:50:39 01/03/20 Episode:, 57, reward:,-20.0, frames: ,2265, epsilon: ,0.69, last_100_avgR: ,-20.263157894736842\n",
            "09:50:44 01/03/20 Episode:, 58, reward:,-19.0, frames: ,1771, epsilon: ,0.685, last_100_avgR: ,-20.24137931034483\n",
            "09:50:50 01/03/20 Episode:, 59, reward:,-18.0, frames: ,1825, epsilon: ,0.681, last_100_avgR: ,-20.203389830508474\n",
            "09:50:55 01/03/20 Episode:, 60, reward:,-20.0, frames: ,1356, epsilon: ,0.676, last_100_avgR: ,-20.2\n",
            "09:51:00 01/03/20 Episode:, 61, reward:,-20.0, frames: ,1629, epsilon: ,0.672, last_100_avgR: ,-20.19672131147541\n",
            "09:51:07 01/03/20 Episode:, 62, reward:,-19.0, frames: ,1861, epsilon: ,0.667, last_100_avgR: ,-20.177419354838708\n",
            "09:51:13 01/03/20 Episode:, 63, reward:,-19.0, frames: ,1951, epsilon: ,0.663, last_100_avgR: ,-20.158730158730158\n",
            "09:51:20 01/03/20 Episode:, 64, reward:,-21.0, frames: ,1938, epsilon: ,0.659, last_100_avgR: ,-20.171875\n",
            "09:51:26 01/03/20 Episode:, 65, reward:,-19.0, frames: ,1771, epsilon: ,0.655, last_100_avgR: ,-20.153846153846153\n",
            "09:51:33 01/03/20 Episode:, 66, reward:,-19.0, frames: ,1950, epsilon: ,0.65, last_100_avgR: ,-20.136363636363637\n",
            "09:51:40 01/03/20 Episode:, 67, reward:,-18.0, frames: ,2190, epsilon: ,0.646, last_100_avgR: ,-20.104477611940297\n"
          ],
          "name": "stdout"
        },
        {
          "output_type": "error",
          "ename": "KeyboardInterrupt",
          "evalue": "ignored",
          "traceback": [
            "\u001b[0;31m---------------------------------------------------------------------------\u001b[0m",
            "\u001b[0;31mKeyboardInterrupt\u001b[0m                         Traceback (most recent call last)",
            "\u001b[0;32m<ipython-input-13-ce7fcb4cbdd0>\u001b[0m in \u001b[0;36m<module>\u001b[0;34m()\u001b[0m\n\u001b[1;32m     27\u001b[0m                 \u001b[0;32mwith\u001b[0m \u001b[0mtorch\u001b[0m\u001b[0;34m.\u001b[0m\u001b[0mno_grad\u001b[0m\u001b[0;34m(\u001b[0m\u001b[0;34m)\u001b[0m\u001b[0;34m:\u001b[0m\u001b[0;34m\u001b[0m\u001b[0;34m\u001b[0m\u001b[0m\n\u001b[1;32m     28\u001b[0m                     \u001b[0ms_tmp\u001b[0m \u001b[0;34m=\u001b[0m \u001b[0mtorch\u001b[0m\u001b[0;34m.\u001b[0m\u001b[0mfrom_numpy\u001b[0m\u001b[0;34m(\u001b[0m\u001b[0mstate\u001b[0m\u001b[0;34m.\u001b[0m\u001b[0mreshape\u001b[0m\u001b[0;34m(\u001b[0m\u001b[0;36m1\u001b[0m\u001b[0;34m,\u001b[0m\u001b[0;36m1\u001b[0m\u001b[0;34m,\u001b[0m\u001b[0;36m80\u001b[0m\u001b[0;34m,\u001b[0m\u001b[0;36m80\u001b[0m\u001b[0;34m)\u001b[0m\u001b[0;34m)\u001b[0m\u001b[0;34m.\u001b[0m\u001b[0mfloat\u001b[0m\u001b[0;34m(\u001b[0m\u001b[0;34m)\u001b[0m\u001b[0;34m.\u001b[0m\u001b[0mto\u001b[0m\u001b[0;34m(\u001b[0m\u001b[0mdevice\u001b[0m\u001b[0;34m)\u001b[0m\u001b[0;34m\u001b[0m\u001b[0;34m\u001b[0m\u001b[0m\n\u001b[0;32m---> 29\u001b[0;31m                     \u001b[0maction\u001b[0m \u001b[0;34m=\u001b[0m \u001b[0mpolicy_dqn\u001b[0m\u001b[0;34m(\u001b[0m\u001b[0ms_tmp\u001b[0m\u001b[0;34m)\u001b[0m\u001b[0;34m.\u001b[0m\u001b[0margmax\u001b[0m\u001b[0;34m(\u001b[0m\u001b[0;34m)\u001b[0m\u001b[0;34m.\u001b[0m\u001b[0mitem\u001b[0m\u001b[0;34m(\u001b[0m\u001b[0;34m)\u001b[0m\u001b[0;34m\u001b[0m\u001b[0;34m\u001b[0m\u001b[0m\n\u001b[0m\u001b[1;32m     30\u001b[0m                     \u001b[0maction\u001b[0m \u001b[0;34m+=\u001b[0m\u001b[0;36m1\u001b[0m \u001b[0;32mif\u001b[0m \u001b[0maction\u001b[0m \u001b[0;34m!=\u001b[0m \u001b[0;36m0\u001b[0m \u001b[0;32melse\u001b[0m \u001b[0maction\u001b[0m\u001b[0;34m\u001b[0m\u001b[0;34m\u001b[0m\u001b[0m\n\u001b[1;32m     31\u001b[0m \u001b[0;34m\u001b[0m\u001b[0m\n",
            "\u001b[0;32m/usr/local/lib/python3.6/dist-packages/torch/nn/modules/module.py\u001b[0m in \u001b[0;36m__call__\u001b[0;34m(self, *input, **kwargs)\u001b[0m\n\u001b[1;32m    539\u001b[0m             \u001b[0mresult\u001b[0m \u001b[0;34m=\u001b[0m \u001b[0mself\u001b[0m\u001b[0;34m.\u001b[0m\u001b[0m_slow_forward\u001b[0m\u001b[0;34m(\u001b[0m\u001b[0;34m*\u001b[0m\u001b[0minput\u001b[0m\u001b[0;34m,\u001b[0m \u001b[0;34m**\u001b[0m\u001b[0mkwargs\u001b[0m\u001b[0;34m)\u001b[0m\u001b[0;34m\u001b[0m\u001b[0;34m\u001b[0m\u001b[0m\n\u001b[1;32m    540\u001b[0m         \u001b[0;32melse\u001b[0m\u001b[0;34m:\u001b[0m\u001b[0;34m\u001b[0m\u001b[0;34m\u001b[0m\u001b[0m\n\u001b[0;32m--> 541\u001b[0;31m             \u001b[0mresult\u001b[0m \u001b[0;34m=\u001b[0m \u001b[0mself\u001b[0m\u001b[0;34m.\u001b[0m\u001b[0mforward\u001b[0m\u001b[0;34m(\u001b[0m\u001b[0;34m*\u001b[0m\u001b[0minput\u001b[0m\u001b[0;34m,\u001b[0m \u001b[0;34m**\u001b[0m\u001b[0mkwargs\u001b[0m\u001b[0;34m)\u001b[0m\u001b[0;34m\u001b[0m\u001b[0;34m\u001b[0m\u001b[0m\n\u001b[0m\u001b[1;32m    542\u001b[0m         \u001b[0;32mfor\u001b[0m \u001b[0mhook\u001b[0m \u001b[0;32min\u001b[0m \u001b[0mself\u001b[0m\u001b[0;34m.\u001b[0m\u001b[0m_forward_hooks\u001b[0m\u001b[0;34m.\u001b[0m\u001b[0mvalues\u001b[0m\u001b[0;34m(\u001b[0m\u001b[0;34m)\u001b[0m\u001b[0;34m:\u001b[0m\u001b[0;34m\u001b[0m\u001b[0;34m\u001b[0m\u001b[0m\n\u001b[1;32m    543\u001b[0m             \u001b[0mhook_result\u001b[0m \u001b[0;34m=\u001b[0m \u001b[0mhook\u001b[0m\u001b[0;34m(\u001b[0m\u001b[0mself\u001b[0m\u001b[0;34m,\u001b[0m \u001b[0minput\u001b[0m\u001b[0;34m,\u001b[0m \u001b[0mresult\u001b[0m\u001b[0;34m)\u001b[0m\u001b[0;34m\u001b[0m\u001b[0;34m\u001b[0m\u001b[0m\n",
            "\u001b[0;32m<ipython-input-9-9b13ffd441bd>\u001b[0m in \u001b[0;36mforward\u001b[0;34m(self, x)\u001b[0m\n\u001b[1;32m     30\u001b[0m         \u001b[0mx\u001b[0m \u001b[0;34m=\u001b[0m \u001b[0mx\u001b[0m\u001b[0;34m.\u001b[0m\u001b[0mview\u001b[0m\u001b[0;34m(\u001b[0m\u001b[0mx\u001b[0m\u001b[0;34m.\u001b[0m\u001b[0msize\u001b[0m\u001b[0;34m(\u001b[0m\u001b[0;36m0\u001b[0m\u001b[0;34m)\u001b[0m\u001b[0;34m,\u001b[0m \u001b[0;34m-\u001b[0m\u001b[0;36m1\u001b[0m\u001b[0;34m)\u001b[0m\u001b[0;34m\u001b[0m\u001b[0;34m\u001b[0m\u001b[0m\n\u001b[1;32m     31\u001b[0m         \u001b[0madvantage\u001b[0m \u001b[0;34m=\u001b[0m \u001b[0mself\u001b[0m\u001b[0;34m.\u001b[0m\u001b[0madvantage\u001b[0m\u001b[0;34m(\u001b[0m\u001b[0mx\u001b[0m\u001b[0;34m)\u001b[0m\u001b[0;34m\u001b[0m\u001b[0;34m\u001b[0m\u001b[0m\n\u001b[0;32m---> 32\u001b[0;31m         \u001b[0mout\u001b[0m \u001b[0;34m=\u001b[0m \u001b[0mself\u001b[0m\u001b[0;34m.\u001b[0m\u001b[0mout\u001b[0m\u001b[0;34m(\u001b[0m\u001b[0mx\u001b[0m\u001b[0;34m)\u001b[0m\u001b[0;34m\u001b[0m\u001b[0;34m\u001b[0m\u001b[0m\n\u001b[0m\u001b[1;32m     33\u001b[0m         \u001b[0;32mreturn\u001b[0m \u001b[0mout\u001b[0m \u001b[0;34m+\u001b[0m \u001b[0madvantage\u001b[0m \u001b[0;34m-\u001b[0m \u001b[0madvantage\u001b[0m\u001b[0;34m.\u001b[0m\u001b[0mmean\u001b[0m\u001b[0;34m(\u001b[0m\u001b[0;34m)\u001b[0m\u001b[0;34m\u001b[0m\u001b[0;34m\u001b[0m\u001b[0m\n\u001b[1;32m     34\u001b[0m \u001b[0;34m\u001b[0m\u001b[0m\n",
            "\u001b[0;32m/usr/local/lib/python3.6/dist-packages/torch/nn/modules/module.py\u001b[0m in \u001b[0;36m__call__\u001b[0;34m(self, *input, **kwargs)\u001b[0m\n\u001b[1;32m    539\u001b[0m             \u001b[0mresult\u001b[0m \u001b[0;34m=\u001b[0m \u001b[0mself\u001b[0m\u001b[0;34m.\u001b[0m\u001b[0m_slow_forward\u001b[0m\u001b[0;34m(\u001b[0m\u001b[0;34m*\u001b[0m\u001b[0minput\u001b[0m\u001b[0;34m,\u001b[0m \u001b[0;34m**\u001b[0m\u001b[0mkwargs\u001b[0m\u001b[0;34m)\u001b[0m\u001b[0;34m\u001b[0m\u001b[0;34m\u001b[0m\u001b[0m\n\u001b[1;32m    540\u001b[0m         \u001b[0;32melse\u001b[0m\u001b[0;34m:\u001b[0m\u001b[0;34m\u001b[0m\u001b[0;34m\u001b[0m\u001b[0m\n\u001b[0;32m--> 541\u001b[0;31m             \u001b[0mresult\u001b[0m \u001b[0;34m=\u001b[0m \u001b[0mself\u001b[0m\u001b[0;34m.\u001b[0m\u001b[0mforward\u001b[0m\u001b[0;34m(\u001b[0m\u001b[0;34m*\u001b[0m\u001b[0minput\u001b[0m\u001b[0;34m,\u001b[0m \u001b[0;34m**\u001b[0m\u001b[0mkwargs\u001b[0m\u001b[0;34m)\u001b[0m\u001b[0;34m\u001b[0m\u001b[0;34m\u001b[0m\u001b[0m\n\u001b[0m\u001b[1;32m    542\u001b[0m         \u001b[0;32mfor\u001b[0m \u001b[0mhook\u001b[0m \u001b[0;32min\u001b[0m \u001b[0mself\u001b[0m\u001b[0;34m.\u001b[0m\u001b[0m_forward_hooks\u001b[0m\u001b[0;34m.\u001b[0m\u001b[0mvalues\u001b[0m\u001b[0;34m(\u001b[0m\u001b[0;34m)\u001b[0m\u001b[0;34m:\u001b[0m\u001b[0;34m\u001b[0m\u001b[0;34m\u001b[0m\u001b[0m\n\u001b[1;32m    543\u001b[0m             \u001b[0mhook_result\u001b[0m \u001b[0;34m=\u001b[0m \u001b[0mhook\u001b[0m\u001b[0;34m(\u001b[0m\u001b[0mself\u001b[0m\u001b[0;34m,\u001b[0m \u001b[0minput\u001b[0m\u001b[0;34m,\u001b[0m \u001b[0mresult\u001b[0m\u001b[0;34m)\u001b[0m\u001b[0;34m\u001b[0m\u001b[0;34m\u001b[0m\u001b[0m\n",
            "\u001b[0;32m/usr/local/lib/python3.6/dist-packages/torch/nn/modules/container.py\u001b[0m in \u001b[0;36mforward\u001b[0;34m(self, input)\u001b[0m\n\u001b[1;32m     90\u001b[0m     \u001b[0;32mdef\u001b[0m \u001b[0mforward\u001b[0m\u001b[0;34m(\u001b[0m\u001b[0mself\u001b[0m\u001b[0;34m,\u001b[0m \u001b[0minput\u001b[0m\u001b[0;34m)\u001b[0m\u001b[0;34m:\u001b[0m\u001b[0;34m\u001b[0m\u001b[0;34m\u001b[0m\u001b[0m\n\u001b[1;32m     91\u001b[0m         \u001b[0;32mfor\u001b[0m \u001b[0mmodule\u001b[0m \u001b[0;32min\u001b[0m \u001b[0mself\u001b[0m\u001b[0;34m.\u001b[0m\u001b[0m_modules\u001b[0m\u001b[0;34m.\u001b[0m\u001b[0mvalues\u001b[0m\u001b[0;34m(\u001b[0m\u001b[0;34m)\u001b[0m\u001b[0;34m:\u001b[0m\u001b[0;34m\u001b[0m\u001b[0;34m\u001b[0m\u001b[0m\n\u001b[0;32m---> 92\u001b[0;31m             \u001b[0minput\u001b[0m \u001b[0;34m=\u001b[0m \u001b[0mmodule\u001b[0m\u001b[0;34m(\u001b[0m\u001b[0minput\u001b[0m\u001b[0;34m)\u001b[0m\u001b[0;34m\u001b[0m\u001b[0;34m\u001b[0m\u001b[0m\n\u001b[0m\u001b[1;32m     93\u001b[0m         \u001b[0;32mreturn\u001b[0m \u001b[0minput\u001b[0m\u001b[0;34m\u001b[0m\u001b[0;34m\u001b[0m\u001b[0m\n\u001b[1;32m     94\u001b[0m \u001b[0;34m\u001b[0m\u001b[0m\n",
            "\u001b[0;32m/usr/local/lib/python3.6/dist-packages/torch/nn/modules/module.py\u001b[0m in \u001b[0;36m__call__\u001b[0;34m(self, *input, **kwargs)\u001b[0m\n\u001b[1;32m    536\u001b[0m                     \u001b[0mresult\u001b[0m \u001b[0;34m=\u001b[0m \u001b[0;34m(\u001b[0m\u001b[0mresult\u001b[0m\u001b[0;34m,\u001b[0m\u001b[0;34m)\u001b[0m\u001b[0;34m\u001b[0m\u001b[0;34m\u001b[0m\u001b[0m\n\u001b[1;32m    537\u001b[0m                 \u001b[0minput\u001b[0m \u001b[0;34m=\u001b[0m \u001b[0mresult\u001b[0m\u001b[0;34m\u001b[0m\u001b[0;34m\u001b[0m\u001b[0m\n\u001b[0;32m--> 538\u001b[0;31m         \u001b[0;32mif\u001b[0m \u001b[0mtorch\u001b[0m\u001b[0;34m.\u001b[0m\u001b[0m_C\u001b[0m\u001b[0;34m.\u001b[0m\u001b[0m_get_tracing_state\u001b[0m\u001b[0;34m(\u001b[0m\u001b[0;34m)\u001b[0m\u001b[0;34m:\u001b[0m\u001b[0;34m\u001b[0m\u001b[0;34m\u001b[0m\u001b[0m\n\u001b[0m\u001b[1;32m    539\u001b[0m             \u001b[0mresult\u001b[0m \u001b[0;34m=\u001b[0m \u001b[0mself\u001b[0m\u001b[0;34m.\u001b[0m\u001b[0m_slow_forward\u001b[0m\u001b[0;34m(\u001b[0m\u001b[0;34m*\u001b[0m\u001b[0minput\u001b[0m\u001b[0;34m,\u001b[0m \u001b[0;34m**\u001b[0m\u001b[0mkwargs\u001b[0m\u001b[0;34m)\u001b[0m\u001b[0;34m\u001b[0m\u001b[0;34m\u001b[0m\u001b[0m\n\u001b[1;32m    540\u001b[0m         \u001b[0;32melse\u001b[0m\u001b[0;34m:\u001b[0m\u001b[0;34m\u001b[0m\u001b[0;34m\u001b[0m\u001b[0m\n",
            "\u001b[0;31mKeyboardInterrupt\u001b[0m: "
          ]
        },
        {
          "output_type": "display_data",
          "data": {
            "image/png": "[encoded data removed]",
            "text/plain": [
              "<Figure size 432x288 with 1 Axes>"
            ]
          },
          "metadata": {
            "tags": []
          }
        }
      ]
    },
    {
      "cell_type": "code",
      "metadata": {
        "id": "98yKXIARk2_4",
        "colab_type": "code",
        "colab": {}
      },
      "source": [
        "model_save_name = 'classifier.pt'\n",
        "path = F\"/content/gdrive/My Drive/\" + model_save_name\n",
        "torch.save({\n",
        "    'epoch': episode +1,\n",
        "    'policy_dqn': policy_dqn.state_dict(),\n",
        "    'target_dqn': target_dqn.state_dict(),\n",
        "    'optimizer': policy_dqn.optimizer.state_dict(),\n",
        "    'replay_mem': replay_memory,\n",
        "    'epsilon': epsilon,\n",
        "    'loss': loss\n",
        "}, path)"
      ],
      "execution_count": 0,
      "outputs": []
    }
  ]
}