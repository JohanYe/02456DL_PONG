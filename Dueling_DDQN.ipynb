{
  "nbformat": 4,
  "nbformat_minor": 0,
  "metadata": {
    "colab": {
      "name": "Copy of Kopi af Kopi af DuelDQN.ipynb",
      "provenance": [],
      "collapsed_sections": [],
      "machine_shape": "hm",
      "include_colab_link": true
    },
    "kernelspec": {
      "name": "python3",
      "display_name": "Python 3"
    },
    "accelerator": "GPU"
  },
  "cells": [
    {
      "cell_type": "markdown",
      "metadata": {
        "id": "view-in-github",
        "colab_type": "text"
      },
      "source": [
        "<a href=\"https://colab.research.google.com/github/fjojensen/02456DL_PONG/blob/master/Dueling_DDQN.ipynb\" target=\"_parent\"><img src=\"https://colab.research.google.com/assets/colab-badge.svg\" alt=\"Open In Colab\"/></a>"
      ]
    },
    {
      "cell_type": "code",
      "metadata": {
        "id": "xRh7s0R8khkI",
        "colab_type": "code",
        "colab": {}
      },
      "source": [
        "import gym\n",
        "from google.colab import drive\n",
        "import math\n",
        "import numpy as np\n",
        "import matplotlib.pyplot as plt\n",
        "import random\n",
        "from matplotlib import animation\n",
        "from collections import deque\n",
        "import time\n",
        "import torch.nn as nn\n",
        "import torch\n",
        "cuda = torch.cuda.is_available()\n",
        "import torch.optim as optim\n",
        "from torch.utils.data import DataLoader\n",
        "from torch.utils.data.sampler import SubsetRandomSampler\n",
        "from torch.autograd import Variable\n",
        "from torchvision.transforms import ToTensor\n",
        "from functools import reduce\n",
        "import torch.nn.functional as F"
      ],
      "execution_count": 0,
      "outputs": []
    },
    {
      "cell_type": "code",
      "metadata": {
        "id": "QceOjjsbuLNg",
        "colab_type": "code",
        "outputId": "74b9152e-49cd-4485-c786-14fdddfa3e9a",
        "colab": {
          "base_uri": "https://localhost:8080/",
          "height": 34
        }
      },
      "source": [
        "drive.mount('/content/gdrive')"
      ],
      "execution_count": 15,
      "outputs": [
        {
          "output_type": "stream",
          "text": [
            "Drive already mounted at /content/gdrive; to attempt to forcibly remount, call drive.mount(\"/content/gdrive\", force_remount=True).\n"
          ],
          "name": "stdout"
        }
      ]
    },
    {
      "cell_type": "code",
      "metadata": {
        "id": "ARIZkKy7kiMO",
        "colab_type": "code",
        "colab": {}
      },
      "source": [
        "env = gym.make(\"PongDeterministic-v4\")\n",
        "device = torch.device(\"cuda\" if torch.cuda.is_available() else \"cpu\")"
      ],
      "execution_count": 0,
      "outputs": []
    },
    {
      "cell_type": "code",
      "metadata": {
        "id": "mdMjMxHPkiOU",
        "colab_type": "code",
        "colab": {}
      },
      "source": [
        "# dueling used by Higgsfield (cf. https://github.com/higgsfield/RL-Adventure/blob/master/3.dueling%20dqn.ipynb)\n",
        "def compute_loss(ss, aa, rr, ss1, dd):\n",
        "    for i in range(len(aa)):\n",
        "        if aa[i] > 0: aa[i] -= 1\n",
        "            \n",
        "    state      = Variable(torch.from_numpy(np.stack(ss)).float().to(device))\n",
        "    next_state = Variable(torch.from_numpy(np.stack(ss1)).float().to(device))\n",
        "    action     = Variable(torch.from_numpy(np.stack(aa)).long().to(device))\n",
        "    reward     = Variable(torch.from_numpy(np.stack(rr)).float().to(device))\n",
        "    done       = Variable(torch.from_numpy(np.stack(dd)).float().to(device))\n",
        "\n",
        "    q_values      = policy_dqn(state)\n",
        "    q_values_next = policy_dqn(next_state)\n",
        "    next_q_values = target_dqn(next_state)\n",
        "\n",
        "    q_value = q_values.gather(1, action.unsqueeze(1)).squeeze(1)\n",
        "    next_q_value = next_q_values.gather(1, torch.max(q_values_next, 1)[1].unsqueeze(1)).squeeze(1)\n",
        "\n",
        "    next_q_value     = next_q_values.max(1)[0]\n",
        "    expected_q_value = reward + gamma * next_q_value * (1 - done)\n",
        "    \n",
        "    loss = (q_value - expected_q_value.detach()).pow(2).mean()\n",
        "        \n",
        "    policy_dqn.optimizer.zero_grad()\n",
        "    loss.backward()\n",
        "    policy_dqn.optimizer.step()\n",
        "    \n",
        "    return loss"
      ],
      "execution_count": 0,
      "outputs": []
    },
    {
      "cell_type": "code",
      "metadata": {
        "id": "c9xVnLsfkiQY",
        "colab_type": "code",
        "colab": {}
      },
      "source": [
        "# preprocessing used by Karpathy (cf. https://gist.github.com/karpathy/a4166c7fe253700972fcbc77e4ea32c5)\n",
        "def prepro(I):\n",
        "    \"\"\" prepro 210x160x3 uint8 frame into 6400 (80x80) 1D float vector \"\"\"\n",
        "    I = I[35:195] # crop\n",
        "    I = I[::2,::2,0] # downsample by factor of 2\n",
        "    I[I == 144] = 0 # erase background (background type 1)\n",
        "    I[I == 109] = 0 # erase background (background type 2)\n",
        "    I[I != 0] = 1 # everything else (paddles, ball) just set to 1\n",
        "    return I.astype(np.float)"
      ],
      "execution_count": 0,
      "outputs": []
    },
    {
      "cell_type": "code",
      "metadata": {
        "id": "wBL-PZxykiSP",
        "colab_type": "code",
        "colab": {}
      },
      "source": [
        "class ReplayMemory(object):\n",
        "    \"\"\"Experience Replay Memory\"\"\"\n",
        "    \n",
        "    def __init__(self, capacity):\n",
        "        #self.size = size\n",
        "        self.memory = deque(maxlen=capacity)\n",
        "\n",
        "    \n",
        "    def add(self, *args):\n",
        "        \"\"\"Add experience to memory.\"\"\"\n",
        "        self.memory.append([*args])\n",
        "    \n",
        "    def sample(self, batch_size):\n",
        "        \"\"\"Sample batch of experiences from memory with replacement.\"\"\"\n",
        "        return random.sample(self.memory, batch_size)\n",
        "    \n",
        "    def count(self):\n",
        "        return len(self.memory)"
      ],
      "execution_count": 0,
      "outputs": []
    },
    {
      "cell_type": "code",
      "metadata": {
        "id": "jh5iMiH4kiUX",
        "colab_type": "code",
        "outputId": "10f6eb8d-02e3-4bce-e3e2-8a820d225124",
        "colab": {
          "base_uri": "https://localhost:8080/",
          "height": 1000
        }
      },
      "source": [
        "replay_memory_capacity = 50000\n",
        "prefill_memory = True\n",
        "\n",
        "replay_memory = ReplayMemory(replay_memory_capacity)\n",
        "\n",
        "def sample_action():\n",
        "    n = np.random.uniform(0,1)\n",
        "    if n <= 1/3:\n",
        "        return 0\n",
        "    elif n <= 2/3:\n",
        "        return 2\n",
        "    else:\n",
        "        return 3\n",
        "\n",
        "if prefill_memory:\n",
        "\n",
        "    env.reset()\n",
        "    prev_input = np.zeros((80,80))\n",
        "    for i in range(15):\n",
        "        env.step(0)\n",
        "    state0,_,_,_ = env.step(0)\n",
        "    cur_input = prepro(state0)\n",
        "    state = (cur_input - prev_input).reshape(1,80,80)\n",
        "    prev_input = cur_input \n",
        "\n",
        "    while replay_memory.count() <= 0.2*replay_memory_capacity:\n",
        "        action = sample_action()\n",
        "        state_raw, reward, done, _ = env.step(action)\n",
        "        cur_input = prepro(state_raw)\n",
        "        state1 = (cur_input - prev_input).reshape(1,80,80)\n",
        "        replay_memory.add(state, action, reward, state1, done)\n",
        "        if not done:\n",
        "            prev_input,state = cur_input,state1\n",
        "        else:\n",
        "            env.reset()\n",
        "            for i in range(15):\n",
        "                env.step(0)\n",
        "            state_raw,_,_,_ = env.step(0)\n",
        "            prev_input = prepro(state_raw).reshape(1,80,80)\n",
        "            state = prev_input\n",
        "            \n",
        "        if replay_memory.count() % 1000 == 0:\n",
        "            print('replay #:',replay_memory.count())\n",
        "            patch = plt.imshow(state1[0])\n",
        "            plt.axis('off')\n",
        "            plt.colorbar()\n",
        "            plt.show()"
      ],
      "execution_count": 20,
      "outputs": [
        {
          "output_type": "stream",
          "text": [
            "replay #: 1000\n"
          ],
          "name": "stdout"
        },
        {
          "output_type": "display_data",
          "data": {
            "image/png": "[encoded data removed]",
            "text/plain": [
              "<Figure size 432x288 with 2 Axes>"
            ]
          },
          "metadata": {
            "tags": []
          }
        },
        {
          "output_type": "stream",
          "text": [
            "replay #: 2000\n"
          ],
          "name": "stdout"
        },
        {
          "output_type": "display_data",
          "data": {
            "image/png": "[encoded data removed]",
            "text/plain": [
              "<Figure size 432x288 with 2 Axes>"
            ]
          },
          "metadata": {
            "tags": []
          }
        },
        {
          "output_type": "stream",
          "text": [
            "replay #: 3000\n"
          ],
          "name": "stdout"
        },
        {
          "output_type": "display_data",
          "data": {
            "image/png": "[encoded data removed]",
            "text/plain": [
              "<Figure size 432x288 with 2 Axes>"
            ]
          },
          "metadata": {
            "tags": []
          }
        },
        {
          "output_type": "stream",
          "text": [
            "replay #: 4000\n"
          ],
          "name": "stdout"
        },
        {
          "output_type": "display_data",
          "data": {
            "image/png": "[encoded data removed]",
            "text/plain": [
              "<Figure size 432x288 with 2 Axes>"
            ]
          },
          "metadata": {
            "tags": []
          }
        },
        {
          "output_type": "stream",
          "text": [
            "replay #: 5000\n"
          ],
          "name": "stdout"
        },
        {
          "output_type": "display_data",
          "data": {
            "image/png": "[encoded data removed]",
            "text/plain": [
              "<Figure size 432x288 with 2 Axes>"
            ]
          },
          "metadata": {
            "tags": []
          }
        },
        {
          "output_type": "stream",
          "text": [
            "replay #: 6000\n"
          ],
          "name": "stdout"
        },
        {
          "output_type": "display_data",
          "data": {
            "image/png": "[encoded data removed]",
            "text/plain": [
              "<Figure size 432x288 with 2 Axes>"
            ]
          },
          "metadata": {
            "tags": []
          }
        },
        {
          "output_type": "stream",
          "text": [
            "replay #: 7000\n"
          ],
          "name": "stdout"
        },
        {
          "output_type": "display_data",
          "data": {
            "image/png": "[encoded data removed]",
            "text/plain": [
              "<Figure size 432x288 with 2 Axes>"
            ]
          },
          "metadata": {
            "tags": []
          }
        },
        {
          "output_type": "stream",
          "text": [
            "replay #: 8000\n"
          ],
          "name": "stdout"
        },
        {
          "output_type": "display_data",
          "data": {
            "image/png": "[encoded data removed]",
            "text/plain": [
              "<Figure size 432x288 with 2 Axes>"
            ]
          },
          "metadata": {
            "tags": []
          }
        },
        {
          "output_type": "stream",
          "text": [
            "replay #: 9000\n"
          ],
          "name": "stdout"
        },
        {
          "output_type": "display_data",
          "data": {
            "image/png": "[encoded data removed]",
            "text/plain": [
              "<Figure size 432x288 with 2 Axes>"
            ]
          },
          "metadata": {
            "tags": []
          }
        },
        {
          "output_type": "stream",
          "text": [
            "replay #: 10000\n"
          ],
          "name": "stdout"
        },
        {
          "output_type": "display_data",
          "data": {
            "image/png": "[encoded data removed]",
            "text/plain": [
              "<Figure size 432x288 with 2 Axes>"
            ]
          },
          "metadata": {
            "tags": []
          }
        }
      ]
    },
    {
      "cell_type": "code",
      "metadata": {
        "id": "YIviLJpf6PFO",
        "colab_type": "code",
        "colab": {}
      },
      "source": [
        "class Print(nn.Module):\n",
        "    def forward(self, x):\n",
        "        print(x.size())\n",
        "        return x"
      ],
      "execution_count": 0,
      "outputs": []
    },
    {
      "cell_type": "code",
      "metadata": {
        "id": "we_t8cWOkiWh",
        "colab_type": "code",
        "colab": {}
      },
      "source": [
        "class DuelingCnnDQN(nn.Module):\n",
        "    def __init__(self, input_features = 1568, output_layer = 3):\n",
        "        super(DuelingCnnDQN,self).__init__()\n",
        "\n",
        "        self.out = nn.Sequential(\n",
        "            nn.Linear(input_features, 512),\n",
        "            nn.LeakyReLU(0.1),\n",
        "            nn.Linear(512, 1)\n",
        "        )\n",
        "            \n",
        "\n",
        "            \n",
        "        self.advantage = nn.Sequential(\n",
        "            nn.Linear(input_features, 512),\n",
        "            nn.LeakyReLU(0.1),\n",
        "            nn.Linear(512, output_layer)\n",
        "        )\n",
        "\n",
        "        self.convolutions = nn.Sequential(\n",
        "            nn.Conv2d(in_channels = 1, out_channels=4, kernel_size = 5, stride = 2),\n",
        "            nn.LeakyReLU(0.1),\n",
        "            nn.Conv2d(4,16,5,2),\n",
        "            nn.LeakyReLU(0.1),\n",
        "            nn.Conv2d(16,32,5,2),\n",
        "            nn.LeakyReLU(0.1)\n",
        "        )\n",
        "    \n",
        "    def forward(self,x):\n",
        "        x = self.convolutions(x)\n",
        "        x = x.view(x.size(0), -1)\n",
        "        advantage = self.advantage(x)\n",
        "        out = self.out(x)\n",
        "        return out + advantage - advantage.mean()\n",
        "\n",
        "    #sum squared diff\n",
        "    def loss(self, q_outputs, q_targets):\n",
        "        return torch.sum(torch.pow(q_targets - q_outputs, 2))\n",
        "    \n",
        "    def update_params(self,new_params,tau):\n",
        "        params = self.state_dict()\n",
        "        for k in params.keys():\n",
        "            params[k] = (1-tau) * params[k] + tau * new_params[k]\n",
        "        self.load_state_dict(params)"
      ],
      "execution_count": 0,
      "outputs": []
    },
    {
      "cell_type": "code",
      "metadata": {
        "id": "0yrsFQ9RkiYa",
        "colab_type": "code",
        "colab": {}
      },
      "source": [
        "num_episodes = 1000\n",
        "episode_limit = 1100\n",
        "batch_size = 32\n",
        "epsilon = 1\n",
        "epsilon_start = 1\n",
        "epsilon_end = 0.02\n",
        "epsilon_decay_rate = 150*1000\n",
        "frames_list = []\n",
        "epsilon_greedy = 1/(num_episodes*0.5)\n",
        "\n",
        "\n",
        "step_play = 4\n",
        "gamma = 0.99 # discount rate\n",
        "tau = 0.01 # target network update rate\n",
        "replay_memory_capacity = 10000\n",
        "prefill_memory = True\n",
        "val_freq = 50 # validation frequency\n",
        "capture = True\n",
        "\n",
        "\n",
        "# initialize DQN and replay memory\n",
        "policy_dqn = DuelingCnnDQN().to(device)\n",
        "target_dqn = DuelingCnnDQN().to(device)\n",
        "\n",
        "target_dqn.load_state_dict(policy_dqn.state_dict())\n",
        "\n",
        "policy_dqn.optimizer = optim.Adam(policy_dqn.parameters(),lr=0.0001)\n",
        "\n",
        "rewards, lengths, losses, epsilons = [], [], [], []"
      ],
      "execution_count": 0,
      "outputs": []
    },
    {
      "cell_type": "code",
      "metadata": {
        "id": "cDEA4rUyuHNF",
        "colab_type": "code",
        "colab": {}
      },
      "source": [
        "load = False\n",
        "\n",
        "if load:\n",
        "    model_save_name = 'classifier.pt'\n",
        "    path = F\"/content/gdrive/My Drive/\" + model_save_name\n",
        "\n",
        "    checkpoint = torch.load(path)\n",
        "    policy_dqn.load_state_dict(checkpoint['policy_dqn'])\n",
        "    target_dqn.load_state_dict(checkpoint['target_dqn'])\n",
        "    policy_dqn.optimizer.load_state_dict(checkpoint['optimizer'])\n",
        "    replay_memory = checkpoint['replay_mem']\n",
        "    episode = checkpoint['epoch']\n",
        "    epsilon = checkpoint['epsilon']\n",
        "    loss = checkpoint['loss']"
      ],
      "execution_count": 0,
      "outputs": []
    },
    {
      "cell_type": "code",
      "metadata": {
        "id": "vtozS4mJm62g",
        "colab_type": "code",
        "colab": {}
      },
      "source": [
        "def save_frames_as_gif(frames, filename=None):\n",
        "    \"\"\"\n",
        "    Save a list of frames as a gif\n",
        "    \"\"\"\n",
        "    patch = plt.imshow(frames[0])\n",
        "    plt.axis('off')\n",
        "    def animate(i):\n",
        "        patch.set_data(frames[i])\n",
        "    anim = animation.FuncAnimation(plt.gcf(), animate, frames = len(frames), interval=50)\n",
        "    if filename:\n",
        "        anim.save(filename, dpi=72, writer='imagemagick')"
      ],
      "execution_count": 0,
      "outputs": []
    },
    {
      "cell_type": "code",
      "metadata": {
        "id": "H-aU5bchkrPU",
        "colab_type": "code",
        "outputId": "0cb36bf2-693e-4a15-fee3-53ac9d09992c",
        "colab": {
          "base_uri": "https://localhost:8080/",
          "height": 1000
        }
      },
      "source": [
        "for episode in range(num_episodes):\n",
        "\n",
        "    if load:\n",
        "       episode += checkpoint['epoch']\n",
        "    \n",
        "    frames = 0\n",
        "    ep_reward, ep_loss = 0, 0\n",
        "    # init new episode\n",
        "    env.reset()\n",
        "    prev_input = np.zeros((80,80))\n",
        "    for i in range(15):\n",
        "        env.step(0)\n",
        "    state0,_,_,_ = env.step(0)\n",
        "    cur_input = prepro(state0)\n",
        "    state = (cur_input - prev_input).reshape(1,80,80)\n",
        "    prev_input = cur_input\n",
        "\n",
        "    #append frames to create a giffy\n",
        "    if capture: frames_list.append(state0)\n",
        "\n",
        "    for frame in range(episode_limit):\n",
        "        # select action with epsilon-greedy strategy\n",
        "        for step in range(step_play):\n",
        "            if np.random.rand() < epsilon:\n",
        "                action = sample_action()\n",
        "            else:\n",
        "                with torch.no_grad():\n",
        "                    s_tmp = torch.from_numpy(state.reshape(1,1,80,80)).float().to(device)\n",
        "                    action = policy_dqn(s_tmp).argmax().item()\n",
        "                    action +=1 if action != 0 else action \n",
        "\n",
        "            state_raw, reward, done, _ = env.step(action)\n",
        "\n",
        "            # Append frames to giffy\n",
        "            if capture: frames_list.append(state_raw)\n",
        "\n",
        "            cur_input = prepro(state_raw)\n",
        "            state1 = (cur_input - prev_input).reshape(1,80,80)\n",
        "            replay_memory.add(state, action, reward, state1, done)\n",
        "        \n",
        "            state = state1\n",
        "            prev_input = cur_input\n",
        "            ep_reward += reward\n",
        "            frames += step\n",
        "            if done:\n",
        "                break\n",
        "                \n",
        "        if replay_memory.count() >= batch_size:\n",
        "            batch = replay_memory.sample(batch_size)\n",
        "            for step in range(step_play):\n",
        "                batch.extend(replay_memory.sample(batch_size))\n",
        "            batch = np.array(batch)\n",
        "            ss, aa, rr, ss1, dd = batch[:,0], batch[:,1], batch[:,2], batch[:,3], batch[:,4]\n",
        "            loss = compute_loss(ss, aa, rr, ss1, dd)\n",
        "            target_dqn.update_params(policy_dqn.state_dict(), tau)\n",
        "        ep_loss += loss.item()                 \n",
        "        if done: \n",
        "            break\n",
        "    if epsilon > 0.01:\n",
        "        epsilon *= 0.9935\n",
        "    else:\n",
        "        epsilon = 0.01\n",
        "    \n",
        "\n",
        "\n",
        "\n",
        "\n",
        "    rewards.append(ep_reward)\n",
        "    print('{} Episode:, {}, reward:,{}, frames: ,{}, epsilon: ,{}, last_{}_avgR: ,{}'.format(\n",
        "        time.strftime('%X %x'),episode+1, ep_reward, frames, round(epsilon,3), 100,np.mean(rewards[-100:])))\n",
        "\n",
        "     # save a gif\n",
        "    if capture:\n",
        "        gif = F\"/content/gdrive/My Drive/Pong_gifs\" + str(episode) + '.gif'\n",
        "        save_frames_as_gif(frames_list, filename=gif)\n",
        "        capture = False\n",
        "        frames = []\n",
        "\n",
        "    # frequency for when to make a giffy\n",
        "    if (episode+1) % val_freq == 0: # Test setup\n",
        "        frames_list, capture = [], True\n",
        "        print('GIF saved')"
      ],
      "execution_count": 26,
      "outputs": [
        {
          "output_type": "stream",
          "text": [
            "MovieWriter imagemagick unavailable; trying to use <class 'matplotlib.animation.PillowWriter'> instead.\n"
          ],
          "name": "stderr"
        },
        {
          "output_type": "stream",
          "text": [
            "10:01:14 01/03/20 Episode:, 1, reward:,-19.0, frames: ,1500, epsilon: ,0.994, last_100_avgR: ,-19.0\n",
            "10:01:29 01/03/20 Episode:, 2, reward:,-20.0, frames: ,1356, epsilon: ,0.987, last_100_avgR: ,-19.5\n",
            "10:01:34 01/03/20 Episode:, 3, reward:,-21.0, frames: ,1573, epsilon: ,0.981, last_100_avgR: ,-20.0\n",
            "10:01:38 01/03/20 Episode:, 4, reward:,-21.0, frames: ,1302, epsilon: ,0.974, last_100_avgR: ,-20.25\n",
            "10:01:41 01/03/20 Episode:, 5, reward:,-21.0, frames: ,1122, epsilon: ,0.968, last_100_avgR: ,-20.4\n",
            "10:01:48 01/03/20 Episode:, 6, reward:,-18.0, frames: ,2004, epsilon: ,0.962, last_100_avgR: ,-20.0\n",
            "10:01:54 01/03/20 Episode:, 7, reward:,-20.0, frames: ,1902, epsilon: ,0.955, last_100_avgR: ,-20.0\n",
            "10:01:59 01/03/20 Episode:, 8, reward:,-20.0, frames: ,1632, epsilon: ,0.949, last_100_avgR: ,-20.0\n",
            "10:02:03 01/03/20 Episode:, 9, reward:,-21.0, frames: ,1212, epsilon: ,0.943, last_100_avgR: ,-20.11111111111111\n",
            "10:02:09 01/03/20 Episode:, 10, reward:,-20.0, frames: ,1812, epsilon: ,0.937, last_100_avgR: ,-20.1\n",
            "10:02:15 01/03/20 Episode:, 11, reward:,-20.0, frames: ,1989, epsilon: ,0.931, last_100_avgR: ,-20.09090909090909\n",
            "10:02:20 01/03/20 Episode:, 12, reward:,-21.0, frames: ,1303, epsilon: ,0.925, last_100_avgR: ,-20.166666666666668\n",
            "10:02:23 01/03/20 Episode:, 13, reward:,-21.0, frames: ,1122, epsilon: ,0.919, last_100_avgR: ,-20.23076923076923\n",
            "10:02:27 01/03/20 Episode:, 14, reward:,-21.0, frames: ,1122, epsilon: ,0.913, last_100_avgR: ,-20.285714285714285\n",
            "10:02:30 01/03/20 Episode:, 15, reward:,-21.0, frames: ,1122, epsilon: ,0.907, last_100_avgR: ,-20.333333333333332\n",
            "10:02:38 01/03/20 Episode:, 16, reward:,-17.0, frames: ,2331, epsilon: ,0.901, last_100_avgR: ,-20.125\n",
            "10:02:43 01/03/20 Episode:, 17, reward:,-19.0, frames: ,1680, epsilon: ,0.895, last_100_avgR: ,-20.058823529411764\n",
            "10:02:48 01/03/20 Episode:, 18, reward:,-20.0, frames: ,1537, epsilon: ,0.889, last_100_avgR: ,-20.055555555555557\n",
            "10:02:53 01/03/20 Episode:, 19, reward:,-21.0, frames: ,1485, epsilon: ,0.883, last_100_avgR: ,-20.105263157894736\n",
            "10:02:57 01/03/20 Episode:, 20, reward:,-21.0, frames: ,1392, epsilon: ,0.878, last_100_avgR: ,-20.15\n",
            "10:03:01 01/03/20 Episode:, 21, reward:,-21.0, frames: ,1212, epsilon: ,0.872, last_100_avgR: ,-20.19047619047619\n",
            "10:03:05 01/03/20 Episode:, 22, reward:,-21.0, frames: ,1212, epsilon: ,0.866, last_100_avgR: ,-20.227272727272727\n",
            "10:03:10 01/03/20 Episode:, 23, reward:,-21.0, frames: ,1485, epsilon: ,0.861, last_100_avgR: ,-20.26086956521739\n",
            "10:03:15 01/03/20 Episode:, 24, reward:,-20.0, frames: ,1626, epsilon: ,0.855, last_100_avgR: ,-20.25\n",
            "10:03:20 01/03/20 Episode:, 25, reward:,-21.0, frames: ,1488, epsilon: ,0.85, last_100_avgR: ,-20.28\n",
            "10:03:24 01/03/20 Episode:, 26, reward:,-21.0, frames: ,1302, epsilon: ,0.844, last_100_avgR: ,-20.307692307692307\n",
            "10:03:30 01/03/20 Episode:, 27, reward:,-20.0, frames: ,1713, epsilon: ,0.839, last_100_avgR: ,-20.296296296296298\n",
            "10:03:34 01/03/20 Episode:, 28, reward:,-21.0, frames: ,1302, epsilon: ,0.833, last_100_avgR: ,-20.321428571428573\n",
            "10:03:39 01/03/20 Episode:, 29, reward:,-21.0, frames: ,1482, epsilon: ,0.828, last_100_avgR: ,-20.344827586206897\n",
            "10:03:44 01/03/20 Episode:, 30, reward:,-20.0, frames: ,1716, epsilon: ,0.822, last_100_avgR: ,-20.333333333333332\n",
            "10:03:49 01/03/20 Episode:, 31, reward:,-19.0, frames: ,1495, epsilon: ,0.817, last_100_avgR: ,-20.29032258064516\n",
            "10:03:56 01/03/20 Episode:, 32, reward:,-18.0, frames: ,2001, epsilon: ,0.812, last_100_avgR: ,-20.21875\n",
            "10:04:00 01/03/20 Episode:, 33, reward:,-20.0, frames: ,1356, epsilon: ,0.806, last_100_avgR: ,-20.21212121212121\n",
            "10:04:05 01/03/20 Episode:, 34, reward:,-21.0, frames: ,1392, epsilon: ,0.801, last_100_avgR: ,-20.235294117647058\n",
            "10:04:11 01/03/20 Episode:, 35, reward:,-20.0, frames: ,1897, epsilon: ,0.796, last_100_avgR: ,-20.228571428571428\n",
            "10:04:17 01/03/20 Episode:, 36, reward:,-19.0, frames: ,1767, epsilon: ,0.791, last_100_avgR: ,-20.194444444444443\n",
            "10:04:22 01/03/20 Episode:, 37, reward:,-20.0, frames: ,1539, epsilon: ,0.786, last_100_avgR: ,-20.18918918918919\n",
            "10:04:28 01/03/20 Episode:, 38, reward:,-20.0, frames: ,1806, epsilon: ,0.781, last_100_avgR: ,-20.18421052631579\n",
            "10:04:32 01/03/20 Episode:, 39, reward:,-21.0, frames: ,1212, epsilon: ,0.775, last_100_avgR: ,-20.205128205128204\n",
            "10:04:38 01/03/20 Episode:, 40, reward:,-21.0, frames: ,1764, epsilon: ,0.77, last_100_avgR: ,-20.225\n",
            "10:04:43 01/03/20 Episode:, 41, reward:,-21.0, frames: ,1482, epsilon: ,0.765, last_100_avgR: ,-20.24390243902439\n",
            "10:04:47 01/03/20 Episode:, 42, reward:,-21.0, frames: ,1212, epsilon: ,0.76, last_100_avgR: ,-20.261904761904763\n",
            "10:04:54 01/03/20 Episode:, 43, reward:,-19.0, frames: ,2041, epsilon: ,0.755, last_100_avgR: ,-20.232558139534884\n",
            "10:04:58 01/03/20 Episode:, 44, reward:,-21.0, frames: ,1488, epsilon: ,0.751, last_100_avgR: ,-20.25\n",
            "10:05:03 01/03/20 Episode:, 45, reward:,-19.0, frames: ,1495, epsilon: ,0.746, last_100_avgR: ,-20.22222222222222\n",
            "10:05:10 01/03/20 Episode:, 46, reward:,-20.0, frames: ,1992, epsilon: ,0.741, last_100_avgR: ,-20.217391304347824\n",
            "10:05:16 01/03/20 Episode:, 47, reward:,-21.0, frames: ,1663, epsilon: ,0.736, last_100_avgR: ,-20.23404255319149\n",
            "10:05:22 01/03/20 Episode:, 48, reward:,-19.0, frames: ,1857, epsilon: ,0.731, last_100_avgR: ,-20.208333333333332\n",
            "10:05:27 01/03/20 Episode:, 49, reward:,-21.0, frames: ,1482, epsilon: ,0.726, last_100_avgR: ,-20.224489795918366\n",
            "10:05:31 01/03/20 Episode:, 50, reward:,-20.0, frames: ,1353, epsilon: ,0.722, last_100_avgR: ,-20.22\n",
            "GIF saved\n"
          ],
          "name": "stdout"
        },
        {
          "output_type": "stream",
          "text": [
            "MovieWriter imagemagick unavailable; trying to use <class 'matplotlib.animation.PillowWriter'> instead.\n"
          ],
          "name": "stderr"
        },
        {
          "output_type": "stream",
          "text": [
            "10:05:38 01/03/20 Episode:, 51, reward:,-19.0, frames: ,1860, epsilon: ,0.717, last_100_avgR: ,-20.19607843137255\n",
            "10:06:01 01/03/20 Episode:, 52, reward:,-21.0, frames: ,1393, epsilon: ,0.712, last_100_avgR: ,-20.21153846153846\n",
            "10:06:06 01/03/20 Episode:, 53, reward:,-20.0, frames: ,1626, epsilon: ,0.708, last_100_avgR: ,-20.20754716981132\n",
            "10:06:12 01/03/20 Episode:, 54, reward:,-20.0, frames: ,1626, epsilon: ,0.703, last_100_avgR: ,-20.203703703703702\n",
            "10:06:18 01/03/20 Episode:, 55, reward:,-21.0, frames: ,1938, epsilon: ,0.699, last_100_avgR: ,-20.21818181818182\n",
            "10:06:26 01/03/20 Episode:, 56, reward:,-18.0, frames: ,2274, epsilon: ,0.694, last_100_avgR: ,-20.178571428571427\n",
            "10:06:31 01/03/20 Episode:, 57, reward:,-19.0, frames: ,1681, epsilon: ,0.69, last_100_avgR: ,-20.157894736842106\n",
            "10:06:40 01/03/20 Episode:, 58, reward:,-18.0, frames: ,2553, epsilon: ,0.685, last_100_avgR: ,-20.120689655172413\n",
            "10:06:45 01/03/20 Episode:, 59, reward:,-19.0, frames: ,1677, epsilon: ,0.681, last_100_avgR: ,-20.10169491525424\n",
            "10:06:52 01/03/20 Episode:, 60, reward:,-21.0, frames: ,1935, epsilon: ,0.676, last_100_avgR: ,-20.116666666666667\n",
            "10:06:58 01/03/20 Episode:, 61, reward:,-21.0, frames: ,2028, epsilon: ,0.672, last_100_avgR: ,-20.131147540983605\n",
            "10:07:03 01/03/20 Episode:, 62, reward:,-21.0, frames: ,1392, epsilon: ,0.667, last_100_avgR: ,-20.14516129032258\n",
            "10:07:09 01/03/20 Episode:, 63, reward:,-20.0, frames: ,1809, epsilon: ,0.663, last_100_avgR: ,-20.142857142857142\n",
            "10:07:17 01/03/20 Episode:, 64, reward:,-21.0, frames: ,2208, epsilon: ,0.659, last_100_avgR: ,-20.15625\n",
            "10:07:22 01/03/20 Episode:, 65, reward:,-21.0, frames: ,1665, epsilon: ,0.655, last_100_avgR: ,-20.16923076923077\n",
            "10:07:28 01/03/20 Episode:, 66, reward:,-21.0, frames: ,1848, epsilon: ,0.65, last_100_avgR: ,-20.181818181818183\n",
            "10:07:35 01/03/20 Episode:, 67, reward:,-20.0, frames: ,1899, epsilon: ,0.646, last_100_avgR: ,-20.17910447761194\n",
            "10:07:42 01/03/20 Episode:, 68, reward:,-20.0, frames: ,2265, epsilon: ,0.642, last_100_avgR: ,-20.176470588235293\n",
            "10:07:49 01/03/20 Episode:, 69, reward:,-20.0, frames: ,1899, epsilon: ,0.638, last_100_avgR: ,-20.17391304347826\n",
            "10:07:57 01/03/20 Episode:, 70, reward:,-16.0, frames: ,2382, epsilon: ,0.634, last_100_avgR: ,-20.114285714285714\n",
            "10:08:04 01/03/20 Episode:, 71, reward:,-17.0, frames: ,2239, epsilon: ,0.629, last_100_avgR: ,-20.070422535211268\n",
            "10:08:12 01/03/20 Episode:, 72, reward:,-20.0, frames: ,2349, epsilon: ,0.625, last_100_avgR: ,-20.069444444444443\n",
            "10:08:21 01/03/20 Episode:, 73, reward:,-18.0, frames: ,2553, epsilon: ,0.621, last_100_avgR: ,-20.041095890410958\n",
            "10:08:28 01/03/20 Episode:, 74, reward:,-17.0, frames: ,2233, epsilon: ,0.617, last_100_avgR: ,-20.0\n",
            "10:08:36 01/03/20 Episode:, 75, reward:,-20.0, frames: ,2439, epsilon: ,0.613, last_100_avgR: ,-20.0\n",
            "10:08:44 01/03/20 Episode:, 76, reward:,-20.0, frames: ,2265, epsilon: ,0.609, last_100_avgR: ,-20.0\n",
            "10:08:53 01/03/20 Episode:, 77, reward:,-17.0, frames: ,2599, epsilon: ,0.605, last_100_avgR: ,-19.961038961038962\n",
            "10:09:01 01/03/20 Episode:, 78, reward:,-17.0, frames: ,2419, epsilon: ,0.601, last_100_avgR: ,-19.923076923076923\n",
            "10:09:07 01/03/20 Episode:, 79, reward:,-20.0, frames: ,1998, epsilon: ,0.597, last_100_avgR: ,-19.924050632911392\n",
            "10:09:13 01/03/20 Episode:, 80, reward:,-20.0, frames: ,1626, epsilon: ,0.594, last_100_avgR: ,-19.925\n",
            "10:09:21 01/03/20 Episode:, 81, reward:,-20.0, frames: ,2538, epsilon: ,0.59, last_100_avgR: ,-19.925925925925927\n",
            "10:09:29 01/03/20 Episode:, 82, reward:,-18.0, frames: ,2095, epsilon: ,0.586, last_100_avgR: ,-19.902439024390244\n",
            "10:09:36 01/03/20 Episode:, 83, reward:,-19.0, frames: ,2226, epsilon: ,0.582, last_100_avgR: ,-19.89156626506024\n",
            "10:09:43 01/03/20 Episode:, 84, reward:,-21.0, frames: ,2208, epsilon: ,0.578, last_100_avgR: ,-19.904761904761905\n",
            "10:09:52 01/03/20 Episode:, 85, reward:,-20.0, frames: ,2445, epsilon: ,0.574, last_100_avgR: ,-19.905882352941177\n",
            "10:09:58 01/03/20 Episode:, 86, reward:,-19.0, frames: ,1767, epsilon: ,0.571, last_100_avgR: ,-19.8953488372093\n",
            "10:10:06 01/03/20 Episode:, 87, reward:,-19.0, frames: ,2406, epsilon: ,0.567, last_100_avgR: ,-19.885057471264368\n",
            "10:10:11 01/03/20 Episode:, 88, reward:,-20.0, frames: ,1627, epsilon: ,0.563, last_100_avgR: ,-19.886363636363637\n",
            "10:10:18 01/03/20 Episode:, 89, reward:,-20.0, frames: ,1897, epsilon: ,0.56, last_100_avgR: ,-19.8876404494382\n",
            "10:10:26 01/03/20 Episode:, 90, reward:,-20.0, frames: ,2352, epsilon: ,0.556, last_100_avgR: ,-19.88888888888889\n",
            "10:10:35 01/03/20 Episode:, 91, reward:,-19.0, frames: ,2766, epsilon: ,0.552, last_100_avgR: ,-19.87912087912088\n",
            "10:10:44 01/03/20 Episode:, 92, reward:,-18.0, frames: ,2725, epsilon: ,0.549, last_100_avgR: ,-19.858695652173914\n",
            "10:10:53 01/03/20 Episode:, 93, reward:,-18.0, frames: ,2545, epsilon: ,0.545, last_100_avgR: ,-19.838709677419356\n",
            "10:11:01 01/03/20 Episode:, 94, reward:,-16.0, frames: ,2472, epsilon: ,0.542, last_100_avgR: ,-19.79787234042553\n",
            "10:11:10 01/03/20 Episode:, 95, reward:,-18.0, frames: ,2640, epsilon: ,0.538, last_100_avgR: ,-19.778947368421054\n",
            "10:11:17 01/03/20 Episode:, 96, reward:,-18.0, frames: ,1999, epsilon: ,0.535, last_100_avgR: ,-19.760416666666668\n",
            "10:11:24 01/03/20 Episode:, 97, reward:,-19.0, frames: ,2049, epsilon: ,0.531, last_100_avgR: ,-19.75257731958763\n",
            "10:11:32 01/03/20 Episode:, 98, reward:,-18.0, frames: ,2275, epsilon: ,0.528, last_100_avgR: ,-19.73469387755102\n",
            "10:11:40 01/03/20 Episode:, 99, reward:,-20.0, frames: ,2256, epsilon: ,0.524, last_100_avgR: ,-19.737373737373737\n",
            "10:11:48 01/03/20 Episode:, 100, reward:,-19.0, frames: ,2586, epsilon: ,0.521, last_100_avgR: ,-19.73\n",
            "GIF saved\n"
          ],
          "name": "stdout"
        },
        {
          "output_type": "stream",
          "text": [
            "MovieWriter imagemagick unavailable; trying to use <class 'matplotlib.animation.PillowWriter'> instead.\n"
          ],
          "name": "stderr"
        },
        {
          "output_type": "stream",
          "text": [
            "10:11:59 01/03/20 Episode:, 101, reward:,-18.0, frames: ,3003, epsilon: ,0.518, last_100_avgR: ,-19.72\n",
            "10:12:45 01/03/20 Episode:, 102, reward:,-20.0, frames: ,2353, epsilon: ,0.514, last_100_avgR: ,-19.72\n",
            "10:12:54 01/03/20 Episode:, 103, reward:,-18.0, frames: ,2550, epsilon: ,0.511, last_100_avgR: ,-19.69\n",
            "10:13:01 01/03/20 Episode:, 104, reward:,-20.0, frames: ,2256, epsilon: ,0.508, last_100_avgR: ,-19.68\n",
            "10:13:11 01/03/20 Episode:, 105, reward:,-19.0, frames: ,2679, epsilon: ,0.504, last_100_avgR: ,-19.66\n",
            "10:13:20 01/03/20 Episode:, 106, reward:,-17.0, frames: ,2784, epsilon: ,0.501, last_100_avgR: ,-19.65\n",
            "10:13:30 01/03/20 Episode:, 107, reward:,-17.0, frames: ,2868, epsilon: ,0.498, last_100_avgR: ,-19.62\n",
            "10:13:38 01/03/20 Episode:, 108, reward:,-19.0, frames: ,2400, epsilon: ,0.494, last_100_avgR: ,-19.61\n",
            "10:13:47 01/03/20 Episode:, 109, reward:,-18.0, frames: ,2640, epsilon: ,0.491, last_100_avgR: ,-19.58\n",
            "10:13:54 01/03/20 Episode:, 110, reward:,-20.0, frames: ,2082, epsilon: ,0.488, last_100_avgR: ,-19.58\n",
            "10:14:03 01/03/20 Episode:, 111, reward:,-19.0, frames: ,2683, epsilon: ,0.485, last_100_avgR: ,-19.57\n",
            "10:14:16 01/03/20 Episode:, 112, reward:,-15.0, frames: ,3804, epsilon: ,0.482, last_100_avgR: ,-19.51\n",
            "10:14:24 01/03/20 Episode:, 113, reward:,-20.0, frames: ,2437, epsilon: ,0.479, last_100_avgR: ,-19.5\n",
            "10:14:34 01/03/20 Episode:, 114, reward:,-20.0, frames: ,2805, epsilon: ,0.475, last_100_avgR: ,-19.49\n",
            "10:14:43 01/03/20 Episode:, 115, reward:,-16.0, frames: ,2652, epsilon: ,0.472, last_100_avgR: ,-19.44\n",
            "10:14:50 01/03/20 Episode:, 116, reward:,-21.0, frames: ,2115, epsilon: ,0.469, last_100_avgR: ,-19.48\n",
            "10:14:57 01/03/20 Episode:, 117, reward:,-20.0, frames: ,1809, epsilon: ,0.466, last_100_avgR: ,-19.49\n",
            "10:15:04 01/03/20 Episode:, 118, reward:,-20.0, frames: ,2082, epsilon: ,0.463, last_100_avgR: ,-19.49\n",
            "10:15:14 01/03/20 Episode:, 119, reward:,-15.0, frames: ,2971, epsilon: ,0.46, last_100_avgR: ,-19.43\n",
            "10:15:25 01/03/20 Episode:, 120, reward:,-17.0, frames: ,3049, epsilon: ,0.457, last_100_avgR: ,-19.39\n",
            "10:15:39 01/03/20 Episode:, 121, reward:,-18.0, frames: ,4081, epsilon: ,0.454, last_100_avgR: ,-19.36\n",
            "10:15:48 01/03/20 Episode:, 122, reward:,-20.0, frames: ,2533, epsilon: ,0.451, last_100_avgR: ,-19.35\n",
            "10:15:56 01/03/20 Episode:, 123, reward:,-20.0, frames: ,2352, epsilon: ,0.448, last_100_avgR: ,-19.34\n",
            "10:16:04 01/03/20 Episode:, 124, reward:,-20.0, frames: ,1992, epsilon: ,0.445, last_100_avgR: ,-19.34\n",
            "10:16:13 01/03/20 Episode:, 125, reward:,-20.0, frames: ,2713, epsilon: ,0.443, last_100_avgR: ,-19.33\n",
            "10:16:19 01/03/20 Episode:, 126, reward:,-21.0, frames: ,1662, epsilon: ,0.44, last_100_avgR: ,-19.33\n",
            "10:16:29 01/03/20 Episode:, 127, reward:,-19.0, frames: ,2673, epsilon: ,0.437, last_100_avgR: ,-19.32\n",
            "10:16:39 01/03/20 Episode:, 128, reward:,-21.0, frames: ,2844, epsilon: ,0.434, last_100_avgR: ,-19.32\n",
            "10:16:47 01/03/20 Episode:, 129, reward:,-21.0, frames: ,2217, epsilon: ,0.431, last_100_avgR: ,-19.32\n",
            "10:16:56 01/03/20 Episode:, 130, reward:,-19.0, frames: ,2586, epsilon: ,0.428, last_100_avgR: ,-19.31\n",
            "10:17:07 01/03/20 Episode:, 131, reward:,-21.0, frames: ,3199, epsilon: ,0.426, last_100_avgR: ,-19.33\n",
            "10:17:18 01/03/20 Episode:, 132, reward:,-20.0, frames: ,2892, epsilon: ,0.423, last_100_avgR: ,-19.35\n",
            "10:17:31 01/03/20 Episode:, 133, reward:,-15.0, frames: ,3705, epsilon: ,0.42, last_100_avgR: ,-19.3\n",
            "10:17:39 01/03/20 Episode:, 134, reward:,-18.0, frames: ,2461, epsilon: ,0.417, last_100_avgR: ,-19.27\n",
            "10:17:48 01/03/20 Episode:, 135, reward:,-20.0, frames: ,2629, epsilon: ,0.415, last_100_avgR: ,-19.27\n",
            "10:18:01 01/03/20 Episode:, 136, reward:,-18.0, frames: ,3543, epsilon: ,0.412, last_100_avgR: ,-19.26\n",
            "10:18:12 01/03/20 Episode:, 137, reward:,-20.0, frames: ,3261, epsilon: ,0.409, last_100_avgR: ,-19.26\n",
            "10:18:19 01/03/20 Episode:, 138, reward:,-21.0, frames: ,1849, epsilon: ,0.407, last_100_avgR: ,-19.27\n",
            "10:18:27 01/03/20 Episode:, 139, reward:,-20.0, frames: ,2256, epsilon: ,0.404, last_100_avgR: ,-19.26\n",
            "10:18:34 01/03/20 Episode:, 140, reward:,-21.0, frames: ,2125, epsilon: ,0.401, last_100_avgR: ,-19.26\n",
            "10:18:46 01/03/20 Episode:, 141, reward:,-15.0, frames: ,3612, epsilon: ,0.399, last_100_avgR: ,-19.2\n",
            "10:18:56 01/03/20 Episode:, 142, reward:,-20.0, frames: ,2628, epsilon: ,0.396, last_100_avgR: ,-19.19\n",
            "10:19:09 01/03/20 Episode:, 143, reward:,-17.0, frames: ,3870, epsilon: ,0.394, last_100_avgR: ,-19.17\n",
            "10:19:19 01/03/20 Episode:, 144, reward:,-19.0, frames: ,2856, epsilon: ,0.391, last_100_avgR: ,-19.15\n",
            "10:19:31 01/03/20 Episode:, 145, reward:,-16.0, frames: ,3369, epsilon: ,0.388, last_100_avgR: ,-19.12\n",
            "10:19:40 01/03/20 Episode:, 146, reward:,-18.0, frames: ,2550, epsilon: ,0.386, last_100_avgR: ,-19.1\n",
            "10:19:48 01/03/20 Episode:, 147, reward:,-20.0, frames: ,2169, epsilon: ,0.383, last_100_avgR: ,-19.09\n",
            "10:20:01 01/03/20 Episode:, 148, reward:,-16.0, frames: ,3559, epsilon: ,0.381, last_100_avgR: ,-19.06\n",
            "10:20:13 01/03/20 Episode:, 149, reward:,-16.0, frames: ,3378, epsilon: ,0.378, last_100_avgR: ,-19.01\n",
            "10:20:21 01/03/20 Episode:, 150, reward:,-16.0, frames: ,2376, epsilon: ,0.376, last_100_avgR: ,-18.97\n",
            "GIF saved\n"
          ],
          "name": "stdout"
        },
        {
          "output_type": "stream",
          "text": [
            "MovieWriter imagemagick unavailable; trying to use <class 'matplotlib.animation.PillowWriter'> instead.\n"
          ],
          "name": "stderr"
        },
        {
          "output_type": "stream",
          "text": [
            "10:20:30 01/03/20 Episode:, 151, reward:,-16.0, frames: ,2473, epsilon: ,0.374, last_100_avgR: ,-18.94\n",
            "10:21:25 01/03/20 Episode:, 152, reward:,-16.0, frames: ,3285, epsilon: ,0.371, last_100_avgR: ,-18.89\n",
            "10:21:34 01/03/20 Episode:, 153, reward:,-16.0, frames: ,2652, epsilon: ,0.369, last_100_avgR: ,-18.85\n",
            "10:21:46 01/03/20 Episode:, 154, reward:,-16.0, frames: ,3198, epsilon: ,0.366, last_100_avgR: ,-18.81\n",
            "10:21:56 01/03/20 Episode:, 155, reward:,-18.0, frames: ,2821, epsilon: ,0.364, last_100_avgR: ,-18.78\n",
            "10:22:05 01/03/20 Episode:, 156, reward:,-18.0, frames: ,2550, epsilon: ,0.362, last_100_avgR: ,-18.78\n",
            "10:22:16 01/03/20 Episode:, 157, reward:,-17.0, frames: ,3147, epsilon: ,0.359, last_100_avgR: ,-18.76\n",
            "10:22:31 01/03/20 Episode:, 158, reward:,-14.0, frames: ,4117, epsilon: ,0.357, last_100_avgR: ,-18.72\n",
            "10:22:40 01/03/20 Episode:, 159, reward:,-17.0, frames: ,2611, epsilon: ,0.355, last_100_avgR: ,-18.7\n",
            "10:22:55 01/03/20 Episode:, 160, reward:,-12.0, frames: ,4221, epsilon: ,0.352, last_100_avgR: ,-18.61\n",
            "10:23:07 01/03/20 Episode:, 161, reward:,-16.0, frames: ,3384, epsilon: ,0.35, last_100_avgR: ,-18.56\n",
            "10:23:16 01/03/20 Episode:, 162, reward:,-20.0, frames: ,2719, epsilon: ,0.348, last_100_avgR: ,-18.55\n",
            "10:23:29 01/03/20 Episode:, 163, reward:,-15.0, frames: ,3615, epsilon: ,0.345, last_100_avgR: ,-18.5\n",
            "10:23:45 01/03/20 Episode:, 164, reward:,-14.0, frames: ,4477, epsilon: ,0.343, last_100_avgR: ,-18.43\n",
            "10:23:53 01/03/20 Episode:, 165, reward:,-19.0, frames: ,2223, epsilon: ,0.341, last_100_avgR: ,-18.41\n",
            "10:24:07 01/03/20 Episode:, 166, reward:,-18.0, frames: ,4002, epsilon: ,0.339, last_100_avgR: ,-18.38\n",
            "10:24:14 01/03/20 Episode:, 167, reward:,-19.0, frames: ,2217, epsilon: ,0.337, last_100_avgR: ,-18.37\n",
            "10:24:26 01/03/20 Episode:, 168, reward:,-19.0, frames: ,3319, epsilon: ,0.334, last_100_avgR: ,-18.36\n",
            "10:24:37 01/03/20 Episode:, 169, reward:,-17.0, frames: ,3054, epsilon: ,0.332, last_100_avgR: ,-18.33\n",
            "10:24:55 01/03/20 Episode:, 170, reward:,-16.0, frames: ,5019, epsilon: ,0.33, last_100_avgR: ,-18.33\n",
            "10:25:05 01/03/20 Episode:, 171, reward:,-18.0, frames: ,2736, epsilon: ,0.328, last_100_avgR: ,-18.34\n",
            "10:25:14 01/03/20 Episode:, 172, reward:,-20.0, frames: ,2442, epsilon: ,0.326, last_100_avgR: ,-18.34\n",
            "10:25:26 01/03/20 Episode:, 173, reward:,-18.0, frames: ,3456, epsilon: ,0.324, last_100_avgR: ,-18.34\n",
            "10:25:40 01/03/20 Episode:, 174, reward:,-16.0, frames: ,3744, epsilon: ,0.322, last_100_avgR: ,-18.33\n",
            "10:25:50 01/03/20 Episode:, 175, reward:,-17.0, frames: ,2965, epsilon: ,0.319, last_100_avgR: ,-18.3\n",
            "10:26:00 01/03/20 Episode:, 176, reward:,-17.0, frames: ,2877, epsilon: ,0.317, last_100_avgR: ,-18.27\n",
            "10:26:12 01/03/20 Episode:, 177, reward:,-16.0, frames: ,3195, epsilon: ,0.315, last_100_avgR: ,-18.26\n",
            "10:26:21 01/03/20 Episode:, 178, reward:,-19.0, frames: ,2683, epsilon: ,0.313, last_100_avgR: ,-18.28\n",
            "10:26:34 01/03/20 Episode:, 179, reward:,-17.0, frames: ,3417, epsilon: ,0.311, last_100_avgR: ,-18.25\n",
            "10:26:49 01/03/20 Episode:, 180, reward:,-16.0, frames: ,4285, epsilon: ,0.309, last_100_avgR: ,-18.21\n",
            "10:27:01 01/03/20 Episode:, 181, reward:,-18.0, frames: ,3192, epsilon: ,0.307, last_100_avgR: ,-18.19\n",
            "10:27:18 01/03/20 Episode:, 182, reward:,-13.0, frames: ,4801, epsilon: ,0.305, last_100_avgR: ,-18.14\n",
            "10:27:30 01/03/20 Episode:, 183, reward:,-19.0, frames: ,3402, epsilon: ,0.303, last_100_avgR: ,-18.14\n",
            "10:27:42 01/03/20 Episode:, 184, reward:,-16.0, frames: ,3288, epsilon: ,0.301, last_100_avgR: ,-18.09\n",
            "10:27:55 01/03/20 Episode:, 185, reward:,-16.0, frames: ,3834, epsilon: ,0.299, last_100_avgR: ,-18.05\n",
            "10:28:12 01/03/20 Episode:, 186, reward:,-13.0, frames: ,4710, epsilon: ,0.297, last_100_avgR: ,-17.99\n",
            "10:28:27 01/03/20 Episode:, 187, reward:,-14.0, frames: ,4026, epsilon: ,0.295, last_100_avgR: ,-17.94\n",
            "10:28:40 01/03/20 Episode:, 188, reward:,-16.0, frames: ,3835, epsilon: ,0.293, last_100_avgR: ,-17.9\n",
            "10:28:51 01/03/20 Episode:, 189, reward:,-17.0, frames: ,3135, epsilon: ,0.292, last_100_avgR: ,-17.87\n",
            "10:29:07 01/03/20 Episode:, 190, reward:,-12.0, frames: ,4320, epsilon: ,0.29, last_100_avgR: ,-17.79\n",
            "10:29:18 01/03/20 Episode:, 191, reward:,-18.0, frames: ,3276, epsilon: ,0.288, last_100_avgR: ,-17.78\n",
            "10:29:33 01/03/20 Episode:, 192, reward:,-15.0, frames: ,3981, epsilon: ,0.286, last_100_avgR: ,-17.75\n",
            "10:29:50 01/03/20 Episode:, 193, reward:,-11.0, frames: ,4998, epsilon: ,0.284, last_100_avgR: ,-17.68\n",
            "10:30:03 01/03/20 Episode:, 194, reward:,-19.0, frames: ,3577, epsilon: ,0.282, last_100_avgR: ,-17.71\n",
            "10:30:19 01/03/20 Episode:, 195, reward:,-12.0, frames: ,4494, epsilon: ,0.28, last_100_avgR: ,-17.65\n",
            "10:30:32 01/03/20 Episode:, 196, reward:,-19.0, frames: ,3594, epsilon: ,0.279, last_100_avgR: ,-17.66\n",
            "10:30:50 01/03/20 Episode:, 197, reward:,-9.0, frames: ,5095, epsilon: ,0.277, last_100_avgR: ,-17.56\n",
            "10:31:02 01/03/20 Episode:, 198, reward:,-14.0, frames: ,3300, epsilon: ,0.275, last_100_avgR: ,-17.52\n",
            "10:31:14 01/03/20 Episode:, 199, reward:,-17.0, frames: ,3318, epsilon: ,0.273, last_100_avgR: ,-17.49\n",
            "10:31:29 01/03/20 Episode:, 200, reward:,-13.0, frames: ,4167, epsilon: ,0.271, last_100_avgR: ,-17.43\n",
            "GIF saved\n"
          ],
          "name": "stdout"
        },
        {
          "output_type": "stream",
          "text": [
            "MovieWriter imagemagick unavailable; trying to use <class 'matplotlib.animation.PillowWriter'> instead.\n"
          ],
          "name": "stderr"
        },
        {
          "output_type": "stream",
          "text": [
            "10:31:44 01/03/20 Episode:, 201, reward:,-14.0, frames: ,4116, epsilon: ,0.27, last_100_avgR: ,-17.39\n",
            "10:33:17 01/03/20 Episode:, 202, reward:,-13.0, frames: ,4893, epsilon: ,0.268, last_100_avgR: ,-17.32\n",
            "10:33:29 01/03/20 Episode:, 203, reward:,-17.0, frames: ,3225, epsilon: ,0.266, last_100_avgR: ,-17.31\n",
            "10:33:41 01/03/20 Episode:, 204, reward:,-16.0, frames: ,3385, epsilon: ,0.264, last_100_avgR: ,-17.27\n",
            "10:33:59 01/03/20 Episode:, 205, reward:,-11.0, frames: ,4728, epsilon: ,0.263, last_100_avgR: ,-17.19\n",
            "10:34:14 01/03/20 Episode:, 206, reward:,-18.0, frames: ,4083, epsilon: ,0.261, last_100_avgR: ,-17.2\n",
            "10:34:25 01/03/20 Episode:, 207, reward:,-17.0, frames: ,3055, epsilon: ,0.259, last_100_avgR: ,-17.2\n",
            "10:34:39 01/03/20 Episode:, 208, reward:,-15.0, frames: ,3795, epsilon: ,0.258, last_100_avgR: ,-17.16\n",
            "10:34:51 01/03/20 Episode:, 209, reward:,-16.0, frames: ,3378, epsilon: ,0.256, last_100_avgR: ,-17.14\n",
            "10:35:08 01/03/20 Episode:, 210, reward:,-16.0, frames: ,4464, epsilon: ,0.254, last_100_avgR: ,-17.1\n",
            "10:35:17 01/03/20 Episode:, 211, reward:,-17.0, frames: ,2505, epsilon: ,0.253, last_100_avgR: ,-17.08\n",
            "10:35:32 01/03/20 Episode:, 212, reward:,-16.0, frames: ,4008, epsilon: ,0.251, last_100_avgR: ,-17.09\n",
            "10:35:46 01/03/20 Episode:, 213, reward:,-16.0, frames: ,4101, epsilon: ,0.249, last_100_avgR: ,-17.05\n",
            "10:36:03 01/03/20 Episode:, 214, reward:,-14.0, frames: ,4657, epsilon: ,0.248, last_100_avgR: ,-16.99\n",
            "10:36:22 01/03/20 Episode:, 215, reward:,-11.0, frames: ,5004, epsilon: ,0.246, last_100_avgR: ,-16.94\n",
            "10:36:35 01/03/20 Episode:, 216, reward:,-16.0, frames: ,3648, epsilon: ,0.244, last_100_avgR: ,-16.89\n",
            "10:36:48 01/03/20 Episode:, 217, reward:,-15.0, frames: ,3612, epsilon: ,0.243, last_100_avgR: ,-16.84\n",
            "10:37:06 01/03/20 Episode:, 218, reward:,-14.0, frames: ,4926, epsilon: ,0.241, last_100_avgR: ,-16.78\n",
            "10:37:18 01/03/20 Episode:, 219, reward:,-18.0, frames: ,3091, epsilon: ,0.24, last_100_avgR: ,-16.81\n",
            "10:37:35 01/03/20 Episode:, 220, reward:,-12.0, frames: ,4668, epsilon: ,0.238, last_100_avgR: ,-16.76\n",
            "10:37:52 01/03/20 Episode:, 221, reward:,-11.0, frames: ,4734, epsilon: ,0.237, last_100_avgR: ,-16.69\n",
            "10:38:08 01/03/20 Episode:, 222, reward:,-9.0, frames: ,4467, epsilon: ,0.235, last_100_avgR: ,-16.58\n",
            "10:38:24 01/03/20 Episode:, 223, reward:,-8.0, frames: ,4341, epsilon: ,0.234, last_100_avgR: ,-16.46\n",
            "10:38:42 01/03/20 Episode:, 224, reward:,-11.0, frames: ,4914, epsilon: ,0.232, last_100_avgR: ,-16.37\n",
            "10:39:00 01/03/20 Episode:, 225, reward:,-16.0, frames: ,4746, epsilon: ,0.231, last_100_avgR: ,-16.33\n",
            "10:39:20 01/03/20 Episode:, 226, reward:,-9.0, frames: ,5557, epsilon: ,0.229, last_100_avgR: ,-16.21\n",
            "10:39:36 01/03/20 Episode:, 227, reward:,-12.0, frames: ,4311, epsilon: ,0.228, last_100_avgR: ,-16.14\n",
            "10:39:51 01/03/20 Episode:, 228, reward:,-8.0, frames: ,4159, epsilon: ,0.226, last_100_avgR: ,-16.01\n",
            "10:40:07 01/03/20 Episode:, 229, reward:,-12.0, frames: ,4314, epsilon: ,0.225, last_100_avgR: ,-15.92\n",
            "10:40:25 01/03/20 Episode:, 230, reward:,-15.0, frames: ,4969, epsilon: ,0.223, last_100_avgR: ,-15.88\n",
            "10:40:39 01/03/20 Episode:, 231, reward:,-15.0, frames: ,3891, epsilon: ,0.222, last_100_avgR: ,-15.82\n",
            "10:40:55 01/03/20 Episode:, 232, reward:,-13.0, frames: ,4359, epsilon: ,0.22, last_100_avgR: ,-15.75\n",
            "10:41:13 01/03/20 Episode:, 233, reward:,-12.0, frames: ,4945, epsilon: ,0.219, last_100_avgR: ,-15.72\n",
            "10:41:29 01/03/20 Episode:, 234, reward:,-12.0, frames: ,4230, epsilon: ,0.217, last_100_avgR: ,-15.66\n",
            "10:41:46 01/03/20 Episode:, 235, reward:,-12.0, frames: ,4681, epsilon: ,0.216, last_100_avgR: ,-15.58\n",
            "10:42:08 01/03/20 Episode:, 236, reward:,-11.0, frames: ,6180, epsilon: ,0.215, last_100_avgR: ,-15.51\n",
            "10:42:23 01/03/20 Episode:, 237, reward:,-16.0, frames: ,4098, epsilon: ,0.213, last_100_avgR: ,-15.47\n",
            "10:42:41 01/03/20 Episode:, 238, reward:,-11.0, frames: ,4896, epsilon: ,0.212, last_100_avgR: ,-15.37\n",
            "10:43:04 01/03/20 Episode:, 239, reward:,-11.0, frames: ,6360, epsilon: ,0.21, last_100_avgR: ,-15.28\n",
            "10:43:21 01/03/20 Episode:, 240, reward:,-13.0, frames: ,4531, epsilon: ,0.209, last_100_avgR: ,-15.2\n",
            "10:43:38 01/03/20 Episode:, 241, reward:,-10.0, frames: ,4686, epsilon: ,0.208, last_100_avgR: ,-15.15\n",
            "10:43:53 01/03/20 Episode:, 242, reward:,-15.0, frames: ,4344, epsilon: ,0.206, last_100_avgR: ,-15.1\n",
            "10:44:11 01/03/20 Episode:, 243, reward:,-15.0, frames: ,4801, epsilon: ,0.205, last_100_avgR: ,-15.08\n",
            "10:44:29 01/03/20 Episode:, 244, reward:,-11.0, frames: ,5005, epsilon: ,0.204, last_100_avgR: ,-15.0\n",
            "10:44:51 01/03/20 Episode:, 245, reward:,-9.0, frames: ,6102, epsilon: ,0.202, last_100_avgR: ,-14.93\n",
            "10:45:12 01/03/20 Episode:, 246, reward:,-10.0, frames: ,5592, epsilon: ,0.201, last_100_avgR: ,-14.85\n",
            "10:45:31 01/03/20 Episode:, 247, reward:,-11.0, frames: ,5365, epsilon: ,0.2, last_100_avgR: ,-14.76\n",
            "10:45:44 01/03/20 Episode:, 248, reward:,-12.0, frames: ,3588, epsilon: ,0.198, last_100_avgR: ,-14.72\n",
            "10:46:00 01/03/20 Episode:, 249, reward:,-13.0, frames: ,4537, epsilon: ,0.197, last_100_avgR: ,-14.69\n",
            "10:46:24 01/03/20 Episode:, 250, reward:,0.0, frames: ,6600, epsilon: ,0.196, last_100_avgR: ,-14.53\n",
            "GIF saved\n"
          ],
          "name": "stdout"
        },
        {
          "output_type": "stream",
          "text": [
            "MovieWriter imagemagick unavailable; trying to use <class 'matplotlib.animation.PillowWriter'> instead.\n"
          ],
          "name": "stderr"
        },
        {
          "output_type": "stream",
          "text": [
            "10:46:45 01/03/20 Episode:, 251, reward:,-11.0, frames: ,5532, epsilon: ,0.195, last_100_avgR: ,-14.48\n",
            "10:48:53 01/03/20 Episode:, 252, reward:,-8.0, frames: ,5262, epsilon: ,0.193, last_100_avgR: ,-14.4\n",
            "10:49:09 01/03/20 Episode:, 253, reward:,-14.0, frames: ,4293, epsilon: ,0.192, last_100_avgR: ,-14.38\n",
            "10:49:33 01/03/20 Episode:, 254, reward:,2.0, frames: ,6600, epsilon: ,0.191, last_100_avgR: ,-14.2\n",
            "10:49:50 01/03/20 Episode:, 255, reward:,-14.0, frames: ,4845, epsilon: ,0.19, last_100_avgR: ,-14.16\n",
            "10:50:09 01/03/20 Episode:, 256, reward:,-8.0, frames: ,5253, epsilon: ,0.188, last_100_avgR: ,-14.06\n",
            "10:50:33 01/03/20 Episode:, 257, reward:,-5.0, frames: ,6480, epsilon: ,0.187, last_100_avgR: ,-13.94\n",
            "10:50:53 01/03/20 Episode:, 258, reward:,-9.0, frames: ,5562, epsilon: ,0.186, last_100_avgR: ,-13.89\n",
            "10:51:14 01/03/20 Episode:, 259, reward:,-7.0, frames: ,5947, epsilon: ,0.185, last_100_avgR: ,-13.79\n",
            "10:51:27 01/03/20 Episode:, 260, reward:,-15.0, frames: ,3432, epsilon: ,0.184, last_100_avgR: ,-13.82\n",
            "10:51:46 01/03/20 Episode:, 261, reward:,-8.0, frames: ,5256, epsilon: ,0.182, last_100_avgR: ,-13.74\n",
            "10:52:06 01/03/20 Episode:, 262, reward:,-8.0, frames: ,5697, epsilon: ,0.181, last_100_avgR: ,-13.62\n",
            "10:52:29 01/03/20 Episode:, 263, reward:,-7.0, frames: ,6300, epsilon: ,0.18, last_100_avgR: ,-13.54\n",
            "10:52:49 01/03/20 Episode:, 264, reward:,-13.0, frames: ,5347, epsilon: ,0.179, last_100_avgR: ,-13.53\n",
            "10:53:08 01/03/20 Episode:, 265, reward:,-12.0, frames: ,5478, epsilon: ,0.178, last_100_avgR: ,-13.46\n",
            "10:53:25 01/03/20 Episode:, 266, reward:,-8.0, frames: ,4701, epsilon: ,0.176, last_100_avgR: ,-13.36\n",
            "10:53:45 01/03/20 Episode:, 267, reward:,5.0, frames: ,5359, epsilon: ,0.175, last_100_avgR: ,-13.12\n",
            "10:54:06 01/03/20 Episode:, 268, reward:,6.0, frames: ,5853, epsilon: ,0.174, last_100_avgR: ,-12.87\n",
            "10:54:23 01/03/20 Episode:, 269, reward:,-15.0, frames: ,4711, epsilon: ,0.173, last_100_avgR: ,-12.85\n",
            "10:54:41 01/03/20 Episode:, 270, reward:,5.0, frames: ,5001, epsilon: ,0.172, last_100_avgR: ,-12.64\n",
            "10:55:01 01/03/20 Episode:, 271, reward:,-4.0, frames: ,5712, epsilon: ,0.171, last_100_avgR: ,-12.5\n",
            "10:55:22 01/03/20 Episode:, 272, reward:,-5.0, frames: ,5862, epsilon: ,0.17, last_100_avgR: ,-12.35\n",
            "10:55:41 01/03/20 Episode:, 273, reward:,-8.0, frames: ,5070, epsilon: ,0.169, last_100_avgR: ,-12.25\n",
            "10:56:03 01/03/20 Episode:, 274, reward:,-2.0, frames: ,6192, epsilon: ,0.167, last_100_avgR: ,-12.11\n",
            "10:56:26 01/03/20 Episode:, 275, reward:,-2.0, frames: ,6600, epsilon: ,0.166, last_100_avgR: ,-11.96\n",
            "10:56:47 01/03/20 Episode:, 276, reward:,-5.0, frames: ,5682, epsilon: ,0.165, last_100_avgR: ,-11.84\n",
            "10:57:10 01/03/20 Episode:, 277, reward:,-1.0, frames: ,6600, epsilon: ,0.164, last_100_avgR: ,-11.69\n",
            "10:57:32 01/03/20 Episode:, 278, reward:,-3.0, frames: ,6150, epsilon: ,0.163, last_100_avgR: ,-11.53\n",
            "10:57:52 01/03/20 Episode:, 279, reward:,4.0, frames: ,5412, epsilon: ,0.162, last_100_avgR: ,-11.32\n",
            "10:58:15 01/03/20 Episode:, 280, reward:,2.0, frames: ,6600, epsilon: ,0.161, last_100_avgR: ,-11.14\n",
            "10:58:36 01/03/20 Episode:, 281, reward:,2.0, frames: ,5793, epsilon: ,0.16, last_100_avgR: ,-10.94\n",
            "10:58:57 01/03/20 Episode:, 282, reward:,-4.0, frames: ,5904, epsilon: ,0.159, last_100_avgR: ,-10.85\n",
            "10:59:18 01/03/20 Episode:, 283, reward:,9.0, frames: ,5703, epsilon: ,0.158, last_100_avgR: ,-10.57\n",
            "10:59:35 01/03/20 Episode:, 284, reward:,7.0, frames: ,4896, epsilon: ,0.157, last_100_avgR: ,-10.34\n",
            "10:59:53 01/03/20 Episode:, 285, reward:,-4.0, frames: ,4914, epsilon: ,0.156, last_100_avgR: ,-10.22\n",
            "11:00:11 01/03/20 Episode:, 286, reward:,12.0, frames: ,4987, epsilon: ,0.155, last_100_avgR: ,-9.97\n",
            "11:00:28 01/03/20 Episode:, 287, reward:,5.0, frames: ,4818, epsilon: ,0.154, last_100_avgR: ,-9.78\n",
            "11:00:46 01/03/20 Episode:, 288, reward:,-9.0, frames: ,4927, epsilon: ,0.153, last_100_avgR: ,-9.71\n",
            "11:01:09 01/03/20 Episode:, 289, reward:,6.0, frames: ,6486, epsilon: ,0.152, last_100_avgR: ,-9.48\n",
            "11:01:33 01/03/20 Episode:, 290, reward:,4.0, frames: ,6600, epsilon: ,0.151, last_100_avgR: ,-9.32\n",
            "11:01:56 01/03/20 Episode:, 291, reward:,6.0, frames: ,6384, epsilon: ,0.15, last_100_avgR: ,-9.08\n",
            "11:02:16 01/03/20 Episode:, 292, reward:,-6.0, frames: ,5805, epsilon: ,0.149, last_100_avgR: ,-8.99\n",
            "11:02:38 01/03/20 Episode:, 293, reward:,5.0, frames: ,6090, epsilon: ,0.148, last_100_avgR: ,-8.83\n",
            "11:02:58 01/03/20 Episode:, 294, reward:,10.0, frames: ,5646, epsilon: ,0.147, last_100_avgR: ,-8.54\n",
            "11:03:19 01/03/20 Episode:, 295, reward:,11.0, frames: ,5688, epsilon: ,0.146, last_100_avgR: ,-8.31\n",
            "11:03:37 01/03/20 Episode:, 296, reward:,8.0, frames: ,5017, epsilon: ,0.145, last_100_avgR: ,-8.04\n",
            "11:03:59 01/03/20 Episode:, 297, reward:,7.0, frames: ,6343, epsilon: ,0.144, last_100_avgR: ,-7.88\n",
            "11:04:16 01/03/20 Episode:, 298, reward:,17.0, frames: ,4555, epsilon: ,0.143, last_100_avgR: ,-7.57\n",
            "11:04:38 01/03/20 Episode:, 299, reward:,-5.0, frames: ,6229, epsilon: ,0.142, last_100_avgR: ,-7.45\n",
            "11:04:54 01/03/20 Episode:, 300, reward:,14.0, frames: ,4434, epsilon: ,0.141, last_100_avgR: ,-7.18\n",
            "GIF saved\n"
          ],
          "name": "stdout"
        },
        {
          "output_type": "stream",
          "text": [
            "MovieWriter imagemagick unavailable; trying to use <class 'matplotlib.animation.PillowWriter'> instead.\n"
          ],
          "name": "stderr"
        },
        {
          "output_type": "stream",
          "text": [
            "11:05:09 01/03/20 Episode:, 301, reward:,13.0, frames: ,4044, epsilon: ,0.14, last_100_avgR: ,-6.91\n",
            "11:07:02 01/03/20 Episode:, 302, reward:,5.0, frames: ,6174, epsilon: ,0.14, last_100_avgR: ,-6.73\n",
            "11:07:26 01/03/20 Episode:, 303, reward:,4.0, frames: ,6600, epsilon: ,0.139, last_100_avgR: ,-6.52\n",
            "11:07:43 01/03/20 Episode:, 304, reward:,9.0, frames: ,4782, epsilon: ,0.138, last_100_avgR: ,-6.27\n",
            "11:08:05 01/03/20 Episode:, 305, reward:,5.0, frames: ,6000, epsilon: ,0.137, last_100_avgR: ,-6.11\n",
            "11:08:26 01/03/20 Episode:, 306, reward:,8.0, frames: ,5940, epsilon: ,0.136, last_100_avgR: ,-5.85\n",
            "11:08:46 01/03/20 Episode:, 307, reward:,8.0, frames: ,5473, epsilon: ,0.135, last_100_avgR: ,-5.6\n",
            "11:09:10 01/03/20 Episode:, 308, reward:,5.0, frames: ,6600, epsilon: ,0.134, last_100_avgR: ,-5.4\n",
            "11:09:31 01/03/20 Episode:, 309, reward:,4.0, frames: ,5863, epsilon: ,0.133, last_100_avgR: ,-5.2\n",
            "11:09:55 01/03/20 Episode:, 310, reward:,1.0, frames: ,6600, epsilon: ,0.132, last_100_avgR: ,-5.03\n",
            "11:10:14 01/03/20 Episode:, 311, reward:,7.0, frames: ,5352, epsilon: ,0.132, last_100_avgR: ,-4.79\n",
            "11:10:31 01/03/20 Episode:, 312, reward:,12.0, frames: ,4615, epsilon: ,0.131, last_100_avgR: ,-4.51\n",
            "11:10:48 01/03/20 Episode:, 313, reward:,9.0, frames: ,4710, epsilon: ,0.13, last_100_avgR: ,-4.26\n",
            "11:11:11 01/03/20 Episode:, 314, reward:,-2.0, frames: ,6378, epsilon: ,0.129, last_100_avgR: ,-4.14\n",
            "11:11:29 01/03/20 Episode:, 315, reward:,10.0, frames: ,4830, epsilon: ,0.128, last_100_avgR: ,-3.93\n",
            "11:11:51 01/03/20 Episode:, 316, reward:,9.0, frames: ,5886, epsilon: ,0.127, last_100_avgR: ,-3.68\n",
            "11:12:14 01/03/20 Episode:, 317, reward:,0.0, frames: ,6600, epsilon: ,0.127, last_100_avgR: ,-3.53\n",
            "11:12:27 01/03/20 Episode:, 318, reward:,16.0, frames: ,3595, epsilon: ,0.126, last_100_avgR: ,-3.23\n",
            "11:12:43 01/03/20 Episode:, 319, reward:,13.0, frames: ,4213, epsilon: ,0.125, last_100_avgR: ,-2.92\n",
            "11:13:00 01/03/20 Episode:, 320, reward:,10.0, frames: ,4560, epsilon: ,0.124, last_100_avgR: ,-2.7\n",
            "11:13:16 01/03/20 Episode:, 321, reward:,15.0, frames: ,4465, epsilon: ,0.123, last_100_avgR: ,-2.44\n",
            "11:13:40 01/03/20 Episode:, 322, reward:,-3.0, frames: ,6600, epsilon: ,0.122, last_100_avgR: ,-2.38\n",
            "11:13:56 01/03/20 Episode:, 323, reward:,8.0, frames: ,4465, epsilon: ,0.122, last_100_avgR: ,-2.22\n",
            "11:14:15 01/03/20 Episode:, 324, reward:,11.0, frames: ,5229, epsilon: ,0.121, last_100_avgR: ,-2.0\n",
            "11:14:38 01/03/20 Episode:, 325, reward:,8.0, frames: ,6289, epsilon: ,0.12, last_100_avgR: ,-1.76\n",
            "11:14:57 01/03/20 Episode:, 326, reward:,13.0, frames: ,5034, epsilon: ,0.119, last_100_avgR: ,-1.54\n",
            "11:15:14 01/03/20 Episode:, 327, reward:,10.0, frames: ,4639, epsilon: ,0.119, last_100_avgR: ,-1.32\n",
            "11:15:35 01/03/20 Episode:, 328, reward:,5.0, frames: ,6003, epsilon: ,0.118, last_100_avgR: ,-1.19\n",
            "11:15:54 01/03/20 Episode:, 329, reward:,15.0, frames: ,5016, epsilon: ,0.117, last_100_avgR: ,-0.92\n",
            "11:16:15 01/03/20 Episode:, 330, reward:,7.0, frames: ,5988, epsilon: ,0.116, last_100_avgR: ,-0.7\n",
            "11:16:33 01/03/20 Episode:, 331, reward:,10.0, frames: ,4825, epsilon: ,0.115, last_100_avgR: ,-0.45\n",
            "11:16:51 01/03/20 Episode:, 332, reward:,7.0, frames: ,5077, epsilon: ,0.115, last_100_avgR: ,-0.25\n",
            "11:17:05 01/03/20 Episode:, 333, reward:,17.0, frames: ,3642, epsilon: ,0.114, last_100_avgR: ,0.04\n",
            "11:17:26 01/03/20 Episode:, 334, reward:,8.0, frames: ,6006, epsilon: ,0.113, last_100_avgR: ,0.24\n",
            "11:17:50 01/03/20 Episode:, 335, reward:,5.0, frames: ,6537, epsilon: ,0.113, last_100_avgR: ,0.41\n",
            "11:18:12 01/03/20 Episode:, 336, reward:,9.0, frames: ,6061, epsilon: ,0.112, last_100_avgR: ,0.61\n",
            "11:18:32 01/03/20 Episode:, 337, reward:,4.0, frames: ,5419, epsilon: ,0.111, last_100_avgR: ,0.81\n",
            "11:18:49 01/03/20 Episode:, 338, reward:,11.0, frames: ,4782, epsilon: ,0.11, last_100_avgR: ,1.03\n",
            "11:19:08 01/03/20 Episode:, 339, reward:,7.0, frames: ,5160, epsilon: ,0.11, last_100_avgR: ,1.21\n",
            "11:19:29 01/03/20 Episode:, 340, reward:,11.0, frames: ,5775, epsilon: ,0.109, last_100_avgR: ,1.45\n",
            "11:19:48 01/03/20 Episode:, 341, reward:,12.0, frames: ,5262, epsilon: ,0.108, last_100_avgR: ,1.67\n",
            "11:20:12 01/03/20 Episode:, 342, reward:,3.0, frames: ,6600, epsilon: ,0.108, last_100_avgR: ,1.85\n",
            "11:20:30 01/03/20 Episode:, 343, reward:,17.0, frames: ,4993, epsilon: ,0.107, last_100_avgR: ,2.17\n",
            "11:20:49 01/03/20 Episode:, 344, reward:,6.0, frames: ,5223, epsilon: ,0.106, last_100_avgR: ,2.34\n",
            "11:21:07 01/03/20 Episode:, 345, reward:,14.0, frames: ,4806, epsilon: ,0.105, last_100_avgR: ,2.57\n",
            "11:21:23 01/03/20 Episode:, 346, reward:,12.0, frames: ,4453, epsilon: ,0.105, last_100_avgR: ,2.79\n",
            "11:21:39 01/03/20 Episode:, 347, reward:,16.0, frames: ,4326, epsilon: ,0.104, last_100_avgR: ,3.06\n",
            "11:22:02 01/03/20 Episode:, 348, reward:,1.0, frames: ,6379, epsilon: ,0.103, last_100_avgR: ,3.19\n",
            "11:22:21 01/03/20 Episode:, 349, reward:,11.0, frames: ,5220, epsilon: ,0.103, last_100_avgR: ,3.43\n",
            "11:22:40 01/03/20 Episode:, 350, reward:,9.0, frames: ,5323, epsilon: ,0.102, last_100_avgR: ,3.52\n",
            "GIF saved\n"
          ],
          "name": "stdout"
        },
        {
          "output_type": "stream",
          "text": [
            "MovieWriter imagemagick unavailable; trying to use <class 'matplotlib.animation.PillowWriter'> instead.\n"
          ],
          "name": "stderr"
        },
        {
          "output_type": "stream",
          "text": [
            "11:22:58 01/03/20 Episode:, 351, reward:,11.0, frames: ,5037, epsilon: ,0.101, last_100_avgR: ,3.74\n",
            "11:25:24 01/03/20 Episode:, 352, reward:,14.0, frames: ,4980, epsilon: ,0.101, last_100_avgR: ,3.96\n",
            "11:25:44 01/03/20 Episode:, 353, reward:,7.0, frames: ,5529, epsilon: ,0.1, last_100_avgR: ,4.17\n",
            "11:26:08 01/03/20 Episode:, 354, reward:,4.0, frames: ,6588, epsilon: ,0.099, last_100_avgR: ,4.19\n",
            "11:26:32 01/03/20 Episode:, 355, reward:,9.0, frames: ,6600, epsilon: ,0.099, last_100_avgR: ,4.42\n",
            "11:26:53 01/03/20 Episode:, 356, reward:,7.0, frames: ,5719, epsilon: ,0.098, last_100_avgR: ,4.57\n",
            "11:27:11 01/03/20 Episode:, 357, reward:,14.0, frames: ,4971, epsilon: ,0.097, last_100_avgR: ,4.76\n",
            "11:27:34 01/03/20 Episode:, 358, reward:,12.0, frames: ,6163, epsilon: ,0.097, last_100_avgR: ,4.97\n",
            "11:27:50 01/03/20 Episode:, 359, reward:,12.0, frames: ,4435, epsilon: ,0.096, last_100_avgR: ,5.16\n",
            "11:28:07 01/03/20 Episode:, 360, reward:,14.0, frames: ,4707, epsilon: ,0.096, last_100_avgR: ,5.45\n",
            "11:28:24 01/03/20 Episode:, 361, reward:,13.0, frames: ,4477, epsilon: ,0.095, last_100_avgR: ,5.66\n",
            "11:28:39 01/03/20 Episode:, 362, reward:,13.0, frames: ,4218, epsilon: ,0.094, last_100_avgR: ,5.87\n",
            "11:29:01 01/03/20 Episode:, 363, reward:,9.0, frames: ,6049, epsilon: ,0.094, last_100_avgR: ,6.03\n",
            "11:29:20 01/03/20 Episode:, 364, reward:,10.0, frames: ,5097, epsilon: ,0.093, last_100_avgR: ,6.26\n",
            "11:29:37 01/03/20 Episode:, 365, reward:,16.0, frames: ,4602, epsilon: ,0.093, last_100_avgR: ,6.54\n",
            "11:29:55 01/03/20 Episode:, 366, reward:,9.0, frames: ,4956, epsilon: ,0.092, last_100_avgR: ,6.71\n",
            "11:30:13 01/03/20 Episode:, 367, reward:,9.0, frames: ,5040, epsilon: ,0.091, last_100_avgR: ,6.75\n",
            "11:30:33 01/03/20 Episode:, 368, reward:,7.0, frames: ,5253, epsilon: ,0.091, last_100_avgR: ,6.76\n",
            "11:30:57 01/03/20 Episode:, 369, reward:,1.0, frames: ,6600, epsilon: ,0.09, last_100_avgR: ,6.92\n",
            "11:31:17 01/03/20 Episode:, 370, reward:,9.0, frames: ,5329, epsilon: ,0.09, last_100_avgR: ,6.96\n",
            "11:31:40 01/03/20 Episode:, 371, reward:,11.0, frames: ,6318, epsilon: ,0.089, last_100_avgR: ,7.11\n",
            "11:31:54 01/03/20 Episode:, 372, reward:,16.0, frames: ,3865, epsilon: ,0.088, last_100_avgR: ,7.32\n",
            "11:32:13 01/03/20 Episode:, 373, reward:,13.0, frames: ,5307, epsilon: ,0.088, last_100_avgR: ,7.53\n",
            "11:32:31 01/03/20 Episode:, 374, reward:,12.0, frames: ,4711, epsilon: ,0.087, last_100_avgR: ,7.67\n",
            "11:32:46 01/03/20 Episode:, 375, reward:,15.0, frames: ,4189, epsilon: ,0.087, last_100_avgR: ,7.84\n",
            "11:33:04 01/03/20 Episode:, 376, reward:,13.0, frames: ,4848, epsilon: ,0.086, last_100_avgR: ,8.02\n",
            "11:33:24 01/03/20 Episode:, 377, reward:,9.0, frames: ,5592, epsilon: ,0.086, last_100_avgR: ,8.12\n",
            "11:33:47 01/03/20 Episode:, 378, reward:,12.0, frames: ,6450, epsilon: ,0.085, last_100_avgR: ,8.27\n",
            "11:34:00 01/03/20 Episode:, 379, reward:,15.0, frames: ,3570, epsilon: ,0.084, last_100_avgR: ,8.38\n",
            "11:34:24 01/03/20 Episode:, 380, reward:,-5.0, frames: ,6600, epsilon: ,0.084, last_100_avgR: ,8.31\n",
            "11:34:46 01/03/20 Episode:, 381, reward:,7.0, frames: ,5893, epsilon: ,0.083, last_100_avgR: ,8.36\n",
            "11:35:03 01/03/20 Episode:, 382, reward:,13.0, frames: ,4662, epsilon: ,0.083, last_100_avgR: ,8.53\n",
            "11:35:22 01/03/20 Episode:, 383, reward:,10.0, frames: ,5359, epsilon: ,0.082, last_100_avgR: ,8.54\n",
            "11:35:44 01/03/20 Episode:, 384, reward:,7.0, frames: ,5803, epsilon: ,0.082, last_100_avgR: ,8.54\n",
            "11:36:03 01/03/20 Episode:, 385, reward:,9.0, frames: ,5343, epsilon: ,0.081, last_100_avgR: ,8.67\n",
            "11:36:19 01/03/20 Episode:, 386, reward:,8.0, frames: ,4470, epsilon: ,0.081, last_100_avgR: ,8.63\n",
            "11:36:36 01/03/20 Episode:, 387, reward:,14.0, frames: ,4614, epsilon: ,0.08, last_100_avgR: ,8.72\n",
            "11:36:52 01/03/20 Episode:, 388, reward:,16.0, frames: ,4231, epsilon: ,0.08, last_100_avgR: ,8.97\n",
            "11:37:07 01/03/20 Episode:, 389, reward:,13.0, frames: ,4308, epsilon: ,0.079, last_100_avgR: ,9.04\n",
            "11:37:26 01/03/20 Episode:, 390, reward:,10.0, frames: ,5191, epsilon: ,0.079, last_100_avgR: ,9.1\n",
            "11:37:38 01/03/20 Episode:, 391, reward:,19.0, frames: ,3348, epsilon: ,0.078, last_100_avgR: ,9.23\n",
            "11:37:55 01/03/20 Episode:, 392, reward:,13.0, frames: ,4668, epsilon: ,0.078, last_100_avgR: ,9.42\n",
            "11:38:14 01/03/20 Episode:, 393, reward:,15.0, frames: ,5016, epsilon: ,0.077, last_100_avgR: ,9.52\n",
            "11:38:33 01/03/20 Episode:, 394, reward:,11.0, frames: ,5124, epsilon: ,0.077, last_100_avgR: ,9.53\n",
            "11:38:55 01/03/20 Episode:, 395, reward:,-3.0, frames: ,6237, epsilon: ,0.076, last_100_avgR: ,9.39\n",
            "11:39:19 01/03/20 Episode:, 396, reward:,0.0, frames: ,6600, epsilon: ,0.076, last_100_avgR: ,9.31\n",
            "11:39:33 01/03/20 Episode:, 397, reward:,19.0, frames: ,3720, epsilon: ,0.075, last_100_avgR: ,9.43\n",
            "11:39:48 01/03/20 Episode:, 398, reward:,16.0, frames: ,3961, epsilon: ,0.075, last_100_avgR: ,9.42\n",
            "11:40:05 01/03/20 Episode:, 399, reward:,15.0, frames: ,4831, epsilon: ,0.074, last_100_avgR: ,9.62\n",
            "11:40:21 01/03/20 Episode:, 400, reward:,14.0, frames: ,4339, epsilon: ,0.074, last_100_avgR: ,9.62\n",
            "GIF saved\n"
          ],
          "name": "stdout"
        },
        {
          "output_type": "stream",
          "text": [
            "MovieWriter imagemagick unavailable; trying to use <class 'matplotlib.animation.PillowWriter'> instead.\n"
          ],
          "name": "stderr"
        },
        {
          "output_type": "stream",
          "text": [
            "11:40:44 01/03/20 Episode:, 401, reward:,2.0, frames: ,6246, epsilon: ,0.073, last_100_avgR: ,9.51\n",
            "11:43:47 01/03/20 Episode:, 402, reward:,15.0, frames: ,4201, epsilon: ,0.073, last_100_avgR: ,9.61\n",
            "11:44:01 01/03/20 Episode:, 403, reward:,16.0, frames: ,3690, epsilon: ,0.072, last_100_avgR: ,9.73\n",
            "11:44:14 01/03/20 Episode:, 404, reward:,18.0, frames: ,3681, epsilon: ,0.072, last_100_avgR: ,9.82\n",
            "11:44:29 01/03/20 Episode:, 405, reward:,16.0, frames: ,3966, epsilon: ,0.071, last_100_avgR: ,9.93\n",
            "11:44:46 01/03/20 Episode:, 406, reward:,9.0, frames: ,4698, epsilon: ,0.071, last_100_avgR: ,9.94\n",
            "11:45:02 01/03/20 Episode:, 407, reward:,14.0, frames: ,4251, epsilon: ,0.07, last_100_avgR: ,10.0\n",
            "11:45:20 01/03/20 Episode:, 408, reward:,11.0, frames: ,5046, epsilon: ,0.07, last_100_avgR: ,10.06\n",
            "11:45:39 01/03/20 Episode:, 409, reward:,13.0, frames: ,5031, epsilon: ,0.069, last_100_avgR: ,10.15\n",
            "11:45:58 01/03/20 Episode:, 410, reward:,12.0, frames: ,5259, epsilon: ,0.069, last_100_avgR: ,10.26\n",
            "11:46:12 01/03/20 Episode:, 411, reward:,17.0, frames: ,3906, epsilon: ,0.069, last_100_avgR: ,10.36\n",
            "11:46:29 01/03/20 Episode:, 412, reward:,13.0, frames: ,4572, epsilon: ,0.068, last_100_avgR: ,10.37\n",
            "11:46:49 01/03/20 Episode:, 413, reward:,14.0, frames: ,5431, epsilon: ,0.068, last_100_avgR: ,10.42\n",
            "11:47:11 01/03/20 Episode:, 414, reward:,12.0, frames: ,5982, epsilon: ,0.067, last_100_avgR: ,10.56\n",
            "11:47:28 01/03/20 Episode:, 415, reward:,15.0, frames: ,4561, epsilon: ,0.067, last_100_avgR: ,10.61\n",
            "11:47:47 01/03/20 Episode:, 416, reward:,11.0, frames: ,5229, epsilon: ,0.066, last_100_avgR: ,10.63\n",
            "11:48:02 01/03/20 Episode:, 417, reward:,16.0, frames: ,4155, epsilon: ,0.066, last_100_avgR: ,10.79\n",
            "11:48:16 01/03/20 Episode:, 418, reward:,18.0, frames: ,3943, epsilon: ,0.065, last_100_avgR: ,10.81\n",
            "11:48:33 01/03/20 Episode:, 419, reward:,16.0, frames: ,4507, epsilon: ,0.065, last_100_avgR: ,10.84\n",
            "11:48:50 01/03/20 Episode:, 420, reward:,15.0, frames: ,4833, epsilon: ,0.065, last_100_avgR: ,10.89\n",
            "11:49:03 01/03/20 Episode:, 421, reward:,18.0, frames: ,3307, epsilon: ,0.064, last_100_avgR: ,10.92\n",
            "11:49:23 01/03/20 Episode:, 422, reward:,12.0, frames: ,5460, epsilon: ,0.064, last_100_avgR: ,11.07\n",
            "11:49:38 01/03/20 Episode:, 423, reward:,12.0, frames: ,4260, epsilon: ,0.063, last_100_avgR: ,11.11\n",
            "11:49:55 01/03/20 Episode:, 424, reward:,16.0, frames: ,4596, epsilon: ,0.063, last_100_avgR: ,11.16\n",
            "11:50:13 01/03/20 Episode:, 425, reward:,10.0, frames: ,5005, epsilon: ,0.063, last_100_avgR: ,11.18\n",
            "11:50:29 01/03/20 Episode:, 426, reward:,12.0, frames: ,4362, epsilon: ,0.062, last_100_avgR: ,11.17\n",
            "11:50:45 01/03/20 Episode:, 427, reward:,17.0, frames: ,4555, epsilon: ,0.062, last_100_avgR: ,11.24\n",
            "11:51:05 01/03/20 Episode:, 428, reward:,18.0, frames: ,5226, epsilon: ,0.061, last_100_avgR: ,11.37\n",
            "11:51:21 01/03/20 Episode:, 429, reward:,14.0, frames: ,4530, epsilon: ,0.061, last_100_avgR: ,11.36\n",
            "11:51:39 01/03/20 Episode:, 430, reward:,13.0, frames: ,4944, epsilon: ,0.061, last_100_avgR: ,11.42\n",
            "11:51:51 01/03/20 Episode:, 431, reward:,20.0, frames: ,3217, epsilon: ,0.06, last_100_avgR: ,11.52\n",
            "11:52:10 01/03/20 Episode:, 432, reward:,16.0, frames: ,5310, epsilon: ,0.06, last_100_avgR: ,11.61\n",
            "11:52:23 01/03/20 Episode:, 433, reward:,17.0, frames: ,3639, epsilon: ,0.059, last_100_avgR: ,11.61\n",
            "11:52:42 01/03/20 Episode:, 434, reward:,13.0, frames: ,5037, epsilon: ,0.059, last_100_avgR: ,11.66\n",
            "11:52:53 01/03/20 Episode:, 435, reward:,20.0, frames: ,3115, epsilon: ,0.059, last_100_avgR: ,11.81\n",
            "11:53:11 01/03/20 Episode:, 436, reward:,14.0, frames: ,5070, epsilon: ,0.058, last_100_avgR: ,11.86\n",
            "11:53:26 01/03/20 Episode:, 437, reward:,17.0, frames: ,4009, epsilon: ,0.058, last_100_avgR: ,11.99\n",
            "11:53:41 01/03/20 Episode:, 438, reward:,17.0, frames: ,4173, epsilon: ,0.057, last_100_avgR: ,12.05\n",
            "11:54:00 01/03/20 Episode:, 439, reward:,13.0, frames: ,5301, epsilon: ,0.057, last_100_avgR: ,12.11\n",
            "11:54:17 01/03/20 Episode:, 440, reward:,15.0, frames: ,4560, epsilon: ,0.057, last_100_avgR: ,12.15\n",
            "11:54:29 01/03/20 Episode:, 441, reward:,17.0, frames: ,3273, epsilon: ,0.056, last_100_avgR: ,12.2\n",
            "11:54:52 01/03/20 Episode:, 442, reward:,8.0, frames: ,6379, epsilon: ,0.056, last_100_avgR: ,12.25\n",
            "11:55:09 01/03/20 Episode:, 443, reward:,14.0, frames: ,4609, epsilon: ,0.056, last_100_avgR: ,12.22\n",
            "11:55:33 01/03/20 Episode:, 444, reward:,3.0, frames: ,6600, epsilon: ,0.055, last_100_avgR: ,12.19\n",
            "11:55:49 01/03/20 Episode:, 445, reward:,19.0, frames: ,4443, epsilon: ,0.055, last_100_avgR: ,12.24\n",
            "11:56:04 01/03/20 Episode:, 446, reward:,14.0, frames: ,4251, epsilon: ,0.055, last_100_avgR: ,12.26\n",
            "11:56:26 01/03/20 Episode:, 447, reward:,15.0, frames: ,5832, epsilon: ,0.054, last_100_avgR: ,12.25\n",
            "11:56:42 01/03/20 Episode:, 448, reward:,16.0, frames: ,4411, epsilon: ,0.054, last_100_avgR: ,12.4\n",
            "11:56:57 01/03/20 Episode:, 449, reward:,15.0, frames: ,4296, epsilon: ,0.054, last_100_avgR: ,12.44\n",
            "11:57:14 01/03/20 Episode:, 450, reward:,14.0, frames: ,4519, epsilon: ,0.053, last_100_avgR: ,12.49\n",
            "GIF saved\n"
          ],
          "name": "stdout"
        },
        {
          "output_type": "stream",
          "text": [
            "MovieWriter imagemagick unavailable; trying to use <class 'matplotlib.animation.PillowWriter'> instead.\n"
          ],
          "name": "stderr"
        },
        {
          "output_type": "stream",
          "text": [
            "11:57:32 01/03/20 Episode:, 451, reward:,12.0, frames: ,4813, epsilon: ,0.053, last_100_avgR: ,12.5\n",
            "12:00:05 01/03/20 Episode:, 452, reward:,19.0, frames: ,3714, epsilon: ,0.052, last_100_avgR: ,12.55\n",
            "12:00:26 01/03/20 Episode:, 453, reward:,7.0, frames: ,5793, epsilon: ,0.052, last_100_avgR: ,12.55\n",
            "12:00:50 01/03/20 Episode:, 454, reward:,6.0, frames: ,6600, epsilon: ,0.052, last_100_avgR: ,12.57\n",
            "12:01:04 01/03/20 Episode:, 455, reward:,17.0, frames: ,3822, epsilon: ,0.051, last_100_avgR: ,12.65\n",
            "12:01:19 01/03/20 Episode:, 456, reward:,18.0, frames: ,4041, epsilon: ,0.051, last_100_avgR: ,12.76\n",
            "12:01:37 01/03/20 Episode:, 457, reward:,13.0, frames: ,4932, epsilon: ,0.051, last_100_avgR: ,12.75\n",
            "12:01:59 01/03/20 Episode:, 458, reward:,12.0, frames: ,5979, epsilon: ,0.05, last_100_avgR: ,12.75\n",
            "12:02:13 01/03/20 Episode:, 459, reward:,19.0, frames: ,3810, epsilon: ,0.05, last_100_avgR: ,12.82\n",
            "12:02:34 01/03/20 Episode:, 460, reward:,13.0, frames: ,5829, epsilon: ,0.05, last_100_avgR: ,12.81\n",
            "12:02:50 01/03/20 Episode:, 461, reward:,18.0, frames: ,4395, epsilon: ,0.049, last_100_avgR: ,12.86\n",
            "12:03:05 01/03/20 Episode:, 462, reward:,17.0, frames: ,4002, epsilon: ,0.049, last_100_avgR: ,12.9\n",
            "12:03:18 01/03/20 Episode:, 463, reward:,17.0, frames: ,3636, epsilon: ,0.049, last_100_avgR: ,12.98\n",
            "12:03:32 01/03/20 Episode:, 464, reward:,20.0, frames: ,3756, epsilon: ,0.049, last_100_avgR: ,13.08\n",
            "12:03:45 01/03/20 Episode:, 465, reward:,19.0, frames: ,3354, epsilon: ,0.048, last_100_avgR: ,13.11\n",
            "12:04:07 01/03/20 Episode:, 466, reward:,8.0, frames: ,6099, epsilon: ,0.048, last_100_avgR: ,13.1\n",
            "12:04:27 01/03/20 Episode:, 467, reward:,7.0, frames: ,5358, epsilon: ,0.048, last_100_avgR: ,13.08\n",
            "12:04:44 01/03/20 Episode:, 468, reward:,15.0, frames: ,4737, epsilon: ,0.047, last_100_avgR: ,13.16\n",
            "12:05:00 01/03/20 Episode:, 469, reward:,16.0, frames: ,4323, epsilon: ,0.047, last_100_avgR: ,13.31\n",
            "12:05:16 01/03/20 Episode:, 470, reward:,15.0, frames: ,4377, epsilon: ,0.047, last_100_avgR: ,13.37\n",
            "12:05:31 01/03/20 Episode:, 471, reward:,18.0, frames: ,4221, epsilon: ,0.046, last_100_avgR: ,13.44\n",
            "12:05:45 01/03/20 Episode:, 472, reward:,19.0, frames: ,3805, epsilon: ,0.046, last_100_avgR: ,13.47\n",
            "12:06:03 01/03/20 Episode:, 473, reward:,12.0, frames: ,4896, epsilon: ,0.046, last_100_avgR: ,13.46\n",
            "12:06:18 01/03/20 Episode:, 474, reward:,15.0, frames: ,4110, epsilon: ,0.045, last_100_avgR: ,13.49\n",
            "12:06:31 01/03/20 Episode:, 475, reward:,19.0, frames: ,3624, epsilon: ,0.045, last_100_avgR: ,13.53\n",
            "12:06:45 01/03/20 Episode:, 476, reward:,20.0, frames: ,3657, epsilon: ,0.045, last_100_avgR: ,13.6\n",
            "12:07:05 01/03/20 Episode:, 477, reward:,12.0, frames: ,5541, epsilon: ,0.045, last_100_avgR: ,13.63\n",
            "12:07:27 01/03/20 Episode:, 478, reward:,10.0, frames: ,5907, epsilon: ,0.044, last_100_avgR: ,13.61\n",
            "12:07:45 01/03/20 Episode:, 479, reward:,17.0, frames: ,5175, epsilon: ,0.044, last_100_avgR: ,13.63\n",
            "12:08:04 01/03/20 Episode:, 480, reward:,13.0, frames: ,5022, epsilon: ,0.044, last_100_avgR: ,13.81\n",
            "12:08:17 01/03/20 Episode:, 481, reward:,17.0, frames: ,3630, epsilon: ,0.043, last_100_avgR: ,13.91\n",
            "12:08:34 01/03/20 Episode:, 482, reward:,11.0, frames: ,4866, epsilon: ,0.043, last_100_avgR: ,13.89\n",
            "12:08:48 01/03/20 Episode:, 483, reward:,17.0, frames: ,3816, epsilon: ,0.043, last_100_avgR: ,13.96\n",
            "12:09:03 01/03/20 Episode:, 484, reward:,17.0, frames: ,4087, epsilon: ,0.043, last_100_avgR: ,14.06\n",
            "12:09:17 01/03/20 Episode:, 485, reward:,17.0, frames: ,3648, epsilon: ,0.042, last_100_avgR: ,14.14\n",
            "12:09:29 01/03/20 Episode:, 486, reward:,18.0, frames: ,3402, epsilon: ,0.042, last_100_avgR: ,14.24\n",
            "12:09:44 01/03/20 Episode:, 487, reward:,17.0, frames: ,4273, epsilon: ,0.042, last_100_avgR: ,14.27\n",
            "12:09:57 01/03/20 Episode:, 488, reward:,18.0, frames: ,3582, epsilon: ,0.041, last_100_avgR: ,14.29\n",
            "12:10:10 01/03/20 Episode:, 489, reward:,19.0, frames: ,3528, epsilon: ,0.041, last_100_avgR: ,14.35\n",
            "12:10:26 01/03/20 Episode:, 490, reward:,18.0, frames: ,4329, epsilon: ,0.041, last_100_avgR: ,14.43\n",
            "12:10:41 01/03/20 Episode:, 491, reward:,18.0, frames: ,4125, epsilon: ,0.041, last_100_avgR: ,14.42\n",
            "12:10:55 01/03/20 Episode:, 492, reward:,18.0, frames: ,3945, epsilon: ,0.04, last_100_avgR: ,14.47\n",
            "12:11:10 01/03/20 Episode:, 493, reward:,17.0, frames: ,4003, epsilon: ,0.04, last_100_avgR: ,14.49\n",
            "12:11:30 01/03/20 Episode:, 494, reward:,16.0, frames: ,5509, epsilon: ,0.04, last_100_avgR: ,14.54\n",
            "12:11:45 01/03/20 Episode:, 495, reward:,19.0, frames: ,3795, epsilon: ,0.04, last_100_avgR: ,14.76\n",
            "12:11:57 01/03/20 Episode:, 496, reward:,19.0, frames: ,3355, epsilon: ,0.039, last_100_avgR: ,14.95\n",
            "12:12:10 01/03/20 Episode:, 497, reward:,19.0, frames: ,3618, epsilon: ,0.039, last_100_avgR: ,14.95\n",
            "12:12:26 01/03/20 Episode:, 498, reward:,15.0, frames: ,4290, epsilon: ,0.039, last_100_avgR: ,14.94\n",
            "12:12:38 01/03/20 Episode:, 499, reward:,20.0, frames: ,3379, epsilon: ,0.039, last_100_avgR: ,14.99\n",
            "12:12:52 01/03/20 Episode:, 500, reward:,18.0, frames: ,3679, epsilon: ,0.038, last_100_avgR: ,15.03\n",
            "GIF saved\n"
          ],
          "name": "stdout"
        },
        {
          "output_type": "stream",
          "text": [
            "MovieWriter imagemagick unavailable; trying to use <class 'matplotlib.animation.PillowWriter'> instead.\n"
          ],
          "name": "stderr"
        },
        {
          "output_type": "stream",
          "text": [
            "12:13:06 01/03/20 Episode:, 501, reward:,17.0, frames: ,3991, epsilon: ,0.038, last_100_avgR: ,15.18\n",
            "12:15:24 01/03/20 Episode:, 502, reward:,20.0, frames: ,3657, epsilon: ,0.038, last_100_avgR: ,15.23\n",
            "12:15:37 01/03/20 Episode:, 503, reward:,18.0, frames: ,3678, epsilon: ,0.038, last_100_avgR: ,15.25\n",
            "12:15:53 01/03/20 Episode:, 504, reward:,15.0, frames: ,4368, epsilon: ,0.037, last_100_avgR: ,15.22\n",
            "12:16:09 01/03/20 Episode:, 505, reward:,18.0, frames: ,4308, epsilon: ,0.037, last_100_avgR: ,15.24\n",
            "12:16:21 01/03/20 Episode:, 506, reward:,20.0, frames: ,3301, epsilon: ,0.037, last_100_avgR: ,15.35\n",
            "12:16:34 01/03/20 Episode:, 507, reward:,20.0, frames: ,3657, epsilon: ,0.037, last_100_avgR: ,15.41\n",
            "12:16:46 01/03/20 Episode:, 508, reward:,20.0, frames: ,3109, epsilon: ,0.036, last_100_avgR: ,15.5\n",
            "12:17:00 01/03/20 Episode:, 509, reward:,18.0, frames: ,3858, epsilon: ,0.036, last_100_avgR: ,15.55\n",
            "12:17:15 01/03/20 Episode:, 510, reward:,18.0, frames: ,4039, epsilon: ,0.036, last_100_avgR: ,15.61\n",
            "12:17:30 01/03/20 Episode:, 511, reward:,18.0, frames: ,4123, epsilon: ,0.036, last_100_avgR: ,15.62\n",
            "12:17:45 01/03/20 Episode:, 512, reward:,15.0, frames: ,4290, epsilon: ,0.035, last_100_avgR: ,15.64\n",
            "12:18:01 01/03/20 Episode:, 513, reward:,16.0, frames: ,4248, epsilon: ,0.035, last_100_avgR: ,15.66\n",
            "12:18:17 01/03/20 Episode:, 514, reward:,18.0, frames: ,4482, epsilon: ,0.035, last_100_avgR: ,15.72\n",
            "12:18:32 01/03/20 Episode:, 515, reward:,19.0, frames: ,4083, epsilon: ,0.035, last_100_avgR: ,15.76\n",
            "12:18:47 01/03/20 Episode:, 516, reward:,17.0, frames: ,4287, epsilon: ,0.035, last_100_avgR: ,15.82\n",
            "12:19:02 01/03/20 Episode:, 517, reward:,14.0, frames: ,4074, epsilon: ,0.034, last_100_avgR: ,15.8\n",
            "12:19:15 01/03/20 Episode:, 518, reward:,17.0, frames: ,3630, epsilon: ,0.034, last_100_avgR: ,15.79\n",
            "12:19:31 01/03/20 Episode:, 519, reward:,16.0, frames: ,4326, epsilon: ,0.034, last_100_avgR: ,15.79\n",
            "12:19:46 01/03/20 Episode:, 520, reward:,16.0, frames: ,4233, epsilon: ,0.034, last_100_avgR: ,15.8\n",
            "12:19:57 01/03/20 Episode:, 521, reward:,21.0, frames: ,3057, epsilon: ,0.033, last_100_avgR: ,15.83\n",
            "12:20:08 01/03/20 Episode:, 522, reward:,20.0, frames: ,3109, epsilon: ,0.033, last_100_avgR: ,15.91\n",
            "12:20:24 01/03/20 Episode:, 523, reward:,17.0, frames: ,4362, epsilon: ,0.033, last_100_avgR: ,15.96\n",
            "12:20:40 01/03/20 Episode:, 524, reward:,17.0, frames: ,4371, epsilon: ,0.033, last_100_avgR: ,15.97\n",
            "12:20:52 01/03/20 Episode:, 525, reward:,20.0, frames: ,3301, epsilon: ,0.033, last_100_avgR: ,16.07\n",
            "12:21:06 01/03/20 Episode:, 526, reward:,17.0, frames: ,3816, epsilon: ,0.032, last_100_avgR: ,16.12\n",
            "12:21:19 01/03/20 Episode:, 527, reward:,19.0, frames: ,3703, epsilon: ,0.032, last_100_avgR: ,16.14\n",
            "12:21:36 01/03/20 Episode:, 528, reward:,17.0, frames: ,4641, epsilon: ,0.032, last_100_avgR: ,16.13\n",
            "12:21:48 01/03/20 Episode:, 529, reward:,20.0, frames: ,3294, epsilon: ,0.032, last_100_avgR: ,16.19\n",
            "12:21:59 01/03/20 Episode:, 530, reward:,21.0, frames: ,3060, epsilon: ,0.032, last_100_avgR: ,16.27\n",
            "12:22:11 01/03/20 Episode:, 531, reward:,20.0, frames: ,3306, epsilon: ,0.031, last_100_avgR: ,16.27\n",
            "12:22:25 01/03/20 Episode:, 532, reward:,20.0, frames: ,3829, epsilon: ,0.031, last_100_avgR: ,16.31\n",
            "12:22:39 01/03/20 Episode:, 533, reward:,18.0, frames: ,3955, epsilon: ,0.031, last_100_avgR: ,16.32\n",
            "12:22:53 01/03/20 Episode:, 534, reward:,18.0, frames: ,3762, epsilon: ,0.031, last_100_avgR: ,16.37\n",
            "12:23:04 01/03/20 Episode:, 535, reward:,21.0, frames: ,3159, epsilon: ,0.031, last_100_avgR: ,16.38\n",
            "12:23:15 01/03/20 Episode:, 536, reward:,21.0, frames: ,3156, epsilon: ,0.03, last_100_avgR: ,16.45\n",
            "12:23:28 01/03/20 Episode:, 537, reward:,20.0, frames: ,3480, epsilon: ,0.03, last_100_avgR: ,16.48\n",
            "12:23:44 01/03/20 Episode:, 538, reward:,15.0, frames: ,4459, epsilon: ,0.03, last_100_avgR: ,16.46\n",
            "12:23:57 01/03/20 Episode:, 539, reward:,19.0, frames: ,3535, epsilon: ,0.03, last_100_avgR: ,16.52\n",
            "12:24:11 01/03/20 Episode:, 540, reward:,14.0, frames: ,3978, epsilon: ,0.03, last_100_avgR: ,16.51\n",
            "12:24:25 01/03/20 Episode:, 541, reward:,16.0, frames: ,4056, epsilon: ,0.029, last_100_avgR: ,16.5\n",
            "12:24:38 01/03/20 Episode:, 542, reward:,19.0, frames: ,3528, epsilon: ,0.029, last_100_avgR: ,16.61\n",
            "12:24:53 01/03/20 Episode:, 543, reward:,15.0, frames: ,4098, epsilon: ,0.029, last_100_avgR: ,16.62\n",
            "12:25:07 01/03/20 Episode:, 544, reward:,19.0, frames: ,3991, epsilon: ,0.029, last_100_avgR: ,16.78\n",
            "12:25:20 01/03/20 Episode:, 545, reward:,20.0, frames: ,3570, epsilon: ,0.029, last_100_avgR: ,16.79\n",
            "12:25:34 01/03/20 Episode:, 546, reward:,17.0, frames: ,4092, epsilon: ,0.028, last_100_avgR: ,16.82\n",
            "12:25:51 01/03/20 Episode:, 547, reward:,14.0, frames: ,4705, epsilon: ,0.028, last_100_avgR: ,16.81\n",
            "12:26:06 01/03/20 Episode:, 548, reward:,17.0, frames: ,4267, epsilon: ,0.028, last_100_avgR: ,16.82\n",
            "12:26:18 01/03/20 Episode:, 549, reward:,19.0, frames: ,3447, epsilon: ,0.028, last_100_avgR: ,16.86\n",
            "12:26:31 01/03/20 Episode:, 550, reward:,18.0, frames: ,3678, epsilon: ,0.028, last_100_avgR: ,16.9\n",
            "GIF saved\n"
          ],
          "name": "stdout"
        },
        {
          "output_type": "stream",
          "text": [
            "MovieWriter imagemagick unavailable; trying to use <class 'matplotlib.animation.PillowWriter'> instead.\n"
          ],
          "name": "stderr"
        },
        {
          "output_type": "stream",
          "text": [
            "12:26:46 01/03/20 Episode:, 551, reward:,17.0, frames: ,4176, epsilon: ,0.028, last_100_avgR: ,16.95\n",
            "12:29:19 01/03/20 Episode:, 552, reward:,17.0, frames: ,4266, epsilon: ,0.027, last_100_avgR: ,16.93\n",
            "12:29:31 01/03/20 Episode:, 553, reward:,21.0, frames: ,3150, epsilon: ,0.027, last_100_avgR: ,17.07\n",
            "12:29:42 01/03/20 Episode:, 554, reward:,20.0, frames: ,3205, epsilon: ,0.027, last_100_avgR: ,17.21\n",
            "12:29:53 01/03/20 Episode:, 555, reward:,21.0, frames: ,2979, epsilon: ,0.027, last_100_avgR: ,17.25\n",
            "12:30:06 01/03/20 Episode:, 556, reward:,18.0, frames: ,3678, epsilon: ,0.027, last_100_avgR: ,17.25\n",
            "12:30:20 01/03/20 Episode:, 557, reward:,16.0, frames: ,3681, epsilon: ,0.026, last_100_avgR: ,17.28\n",
            "12:30:31 01/03/20 Episode:, 558, reward:,20.0, frames: ,3114, epsilon: ,0.026, last_100_avgR: ,17.36\n",
            "12:30:43 01/03/20 Episode:, 559, reward:,19.0, frames: ,3360, epsilon: ,0.026, last_100_avgR: ,17.36\n",
            "12:30:56 01/03/20 Episode:, 560, reward:,20.0, frames: ,3390, epsilon: ,0.026, last_100_avgR: ,17.43\n",
            "12:31:08 01/03/20 Episode:, 561, reward:,19.0, frames: ,3528, epsilon: ,0.026, last_100_avgR: ,17.44\n",
            "12:31:24 01/03/20 Episode:, 562, reward:,20.0, frames: ,4206, epsilon: ,0.026, last_100_avgR: ,17.47\n",
            "12:31:37 01/03/20 Episode:, 563, reward:,19.0, frames: ,3711, epsilon: ,0.025, last_100_avgR: ,17.49\n",
            "12:31:52 01/03/20 Episode:, 564, reward:,14.0, frames: ,3981, epsilon: ,0.025, last_100_avgR: ,17.43\n",
            "12:32:04 01/03/20 Episode:, 565, reward:,18.0, frames: ,3498, epsilon: ,0.025, last_100_avgR: ,17.42\n",
            "12:32:16 01/03/20 Episode:, 566, reward:,20.0, frames: ,3213, epsilon: ,0.025, last_100_avgR: ,17.54\n",
            "12:32:27 01/03/20 Episode:, 567, reward:,21.0, frames: ,2979, epsilon: ,0.025, last_100_avgR: ,17.68\n",
            "12:32:39 01/03/20 Episode:, 568, reward:,17.0, frames: ,3367, epsilon: ,0.025, last_100_avgR: ,17.7\n",
            "12:32:53 01/03/20 Episode:, 569, reward:,19.0, frames: ,3804, epsilon: ,0.024, last_100_avgR: ,17.73\n",
            "12:33:08 01/03/20 Episode:, 570, reward:,14.0, frames: ,4071, epsilon: ,0.024, last_100_avgR: ,17.72\n",
            "12:33:23 01/03/20 Episode:, 571, reward:,17.0, frames: ,4194, epsilon: ,0.024, last_100_avgR: ,17.71\n",
            "12:33:34 01/03/20 Episode:, 572, reward:,21.0, frames: ,3156, epsilon: ,0.024, last_100_avgR: ,17.73\n",
            "12:33:48 01/03/20 Episode:, 573, reward:,18.0, frames: ,3852, epsilon: ,0.024, last_100_avgR: ,17.79\n",
            "12:33:59 01/03/20 Episode:, 574, reward:,21.0, frames: ,3165, epsilon: ,0.024, last_100_avgR: ,17.85\n",
            "12:34:13 01/03/20 Episode:, 575, reward:,19.0, frames: ,3720, epsilon: ,0.024, last_100_avgR: ,17.85\n",
            "12:34:24 01/03/20 Episode:, 576, reward:,21.0, frames: ,3156, epsilon: ,0.023, last_100_avgR: ,17.86\n",
            "12:34:37 01/03/20 Episode:, 577, reward:,21.0, frames: ,3426, epsilon: ,0.023, last_100_avgR: ,17.95\n",
            "12:34:53 01/03/20 Episode:, 578, reward:,15.0, frames: ,4647, epsilon: ,0.023, last_100_avgR: ,18.0\n",
            "12:35:06 01/03/20 Episode:, 579, reward:,18.0, frames: ,3583, epsilon: ,0.023, last_100_avgR: ,18.01\n",
            "12:35:20 01/03/20 Episode:, 580, reward:,18.0, frames: ,3679, epsilon: ,0.023, last_100_avgR: ,18.06\n",
            "12:35:34 01/03/20 Episode:, 581, reward:,17.0, frames: ,3909, epsilon: ,0.023, last_100_avgR: ,18.06\n",
            "12:35:49 01/03/20 Episode:, 582, reward:,18.0, frames: ,4224, epsilon: ,0.022, last_100_avgR: ,18.13\n",
            "12:36:03 01/03/20 Episode:, 583, reward:,18.0, frames: ,3859, epsilon: ,0.022, last_100_avgR: ,18.14\n",
            "12:36:16 01/03/20 Episode:, 584, reward:,18.0, frames: ,3589, epsilon: ,0.022, last_100_avgR: ,18.15\n",
            "12:36:28 01/03/20 Episode:, 585, reward:,20.0, frames: ,3204, epsilon: ,0.022, last_100_avgR: ,18.18\n",
            "12:36:44 01/03/20 Episode:, 586, reward:,15.0, frames: ,4575, epsilon: ,0.022, last_100_avgR: ,18.15\n",
            "12:37:01 01/03/20 Episode:, 587, reward:,13.0, frames: ,4755, epsilon: ,0.022, last_100_avgR: ,18.11\n",
            "12:37:12 01/03/20 Episode:, 588, reward:,21.0, frames: ,2976, epsilon: ,0.022, last_100_avgR: ,18.14\n",
            "12:37:27 01/03/20 Episode:, 589, reward:,17.0, frames: ,4272, epsilon: ,0.021, last_100_avgR: ,18.12\n",
            "12:37:40 01/03/20 Episode:, 590, reward:,20.0, frames: ,3295, epsilon: ,0.021, last_100_avgR: ,18.14\n",
            "12:37:54 01/03/20 Episode:, 591, reward:,18.0, frames: ,4032, epsilon: ,0.021, last_100_avgR: ,18.14\n",
            "12:38:06 01/03/20 Episode:, 592, reward:,20.0, frames: ,3210, epsilon: ,0.021, last_100_avgR: ,18.16\n",
            "12:38:18 01/03/20 Episode:, 593, reward:,20.0, frames: ,3390, epsilon: ,0.021, last_100_avgR: ,18.19\n",
            "12:38:31 01/03/20 Episode:, 594, reward:,17.0, frames: ,3459, epsilon: ,0.021, last_100_avgR: ,18.2\n",
            "12:38:44 01/03/20 Episode:, 595, reward:,19.0, frames: ,3621, epsilon: ,0.021, last_100_avgR: ,18.2\n",
            "12:38:56 01/03/20 Episode:, 596, reward:,20.0, frames: ,3393, epsilon: ,0.021, last_100_avgR: ,18.21\n",
            "12:39:07 01/03/20 Episode:, 597, reward:,19.0, frames: ,3073, epsilon: ,0.02, last_100_avgR: ,18.21\n",
            "12:39:19 01/03/20 Episode:, 598, reward:,20.0, frames: ,3210, epsilon: ,0.02, last_100_avgR: ,18.26\n",
            "12:39:31 01/03/20 Episode:, 599, reward:,18.0, frames: ,3504, epsilon: ,0.02, last_100_avgR: ,18.24\n",
            "12:39:43 01/03/20 Episode:, 600, reward:,21.0, frames: ,3069, epsilon: ,0.02, last_100_avgR: ,18.27\n",
            "GIF saved\n"
          ],
          "name": "stdout"
        },
        {
          "output_type": "stream",
          "text": [
            "MovieWriter imagemagick unavailable; trying to use <class 'matplotlib.animation.PillowWriter'> instead.\n"
          ],
          "name": "stderr"
        },
        {
          "output_type": "stream",
          "text": [
            "12:39:57 01/03/20 Episode:, 601, reward:,19.0, frames: ,3978, epsilon: ,0.02, last_100_avgR: ,18.29\n",
            "12:42:30 01/03/20 Episode:, 602, reward:,16.0, frames: ,3786, epsilon: ,0.02, last_100_avgR: ,18.25\n",
            "12:42:42 01/03/20 Episode:, 603, reward:,21.0, frames: ,3243, epsilon: ,0.02, last_100_avgR: ,18.28\n",
            "12:42:58 01/03/20 Episode:, 604, reward:,19.0, frames: ,4435, epsilon: ,0.019, last_100_avgR: ,18.32\n",
            "12:43:12 01/03/20 Episode:, 605, reward:,17.0, frames: ,3915, epsilon: ,0.019, last_100_avgR: ,18.31\n",
            "12:43:23 01/03/20 Episode:, 606, reward:,20.0, frames: ,3030, epsilon: ,0.019, last_100_avgR: ,18.31\n",
            "12:43:37 01/03/20 Episode:, 607, reward:,18.0, frames: ,3942, epsilon: ,0.019, last_100_avgR: ,18.29\n",
            "12:43:48 01/03/20 Episode:, 608, reward:,20.0, frames: ,3114, epsilon: ,0.019, last_100_avgR: ,18.29\n",
            "12:44:02 01/03/20 Episode:, 609, reward:,17.0, frames: ,3903, epsilon: ,0.019, last_100_avgR: ,18.28\n",
            "12:44:15 01/03/20 Episode:, 610, reward:,17.0, frames: ,3637, epsilon: ,0.019, last_100_avgR: ,18.27\n",
            "12:44:27 01/03/20 Episode:, 611, reward:,20.0, frames: ,3385, epsilon: ,0.019, last_100_avgR: ,18.29\n",
            "12:44:38 01/03/20 Episode:, 612, reward:,21.0, frames: ,2971, epsilon: ,0.018, last_100_avgR: ,18.35\n",
            "12:44:53 01/03/20 Episode:, 613, reward:,15.0, frames: ,4279, epsilon: ,0.018, last_100_avgR: ,18.34\n",
            "12:45:10 01/03/20 Episode:, 614, reward:,16.0, frames: ,4596, epsilon: ,0.018, last_100_avgR: ,18.32\n",
            "12:45:22 01/03/20 Episode:, 615, reward:,20.0, frames: ,3384, epsilon: ,0.018, last_100_avgR: ,18.33\n",
            "12:45:35 01/03/20 Episode:, 616, reward:,20.0, frames: ,3846, epsilon: ,0.018, last_100_avgR: ,18.36\n",
            "12:45:47 01/03/20 Episode:, 617, reward:,21.0, frames: ,3255, epsilon: ,0.018, last_100_avgR: ,18.43\n",
            "12:45:58 01/03/20 Episode:, 618, reward:,21.0, frames: ,3072, epsilon: ,0.018, last_100_avgR: ,18.47\n",
            "12:46:08 01/03/20 Episode:, 619, reward:,20.0, frames: ,3120, epsilon: ,0.018, last_100_avgR: ,18.51\n",
            "12:46:22 01/03/20 Episode:, 620, reward:,20.0, frames: ,3750, epsilon: ,0.018, last_100_avgR: ,18.55\n",
            "12:46:34 01/03/20 Episode:, 621, reward:,19.0, frames: ,3534, epsilon: ,0.017, last_100_avgR: ,18.53\n",
            "12:46:45 01/03/20 Episode:, 622, reward:,21.0, frames: ,3240, epsilon: ,0.017, last_100_avgR: ,18.54\n",
            "12:47:01 01/03/20 Episode:, 623, reward:,17.0, frames: ,4458, epsilon: ,0.017, last_100_avgR: ,18.54\n",
            "12:47:16 01/03/20 Episode:, 624, reward:,19.0, frames: ,4159, epsilon: ,0.017, last_100_avgR: ,18.56\n",
            "12:47:28 01/03/20 Episode:, 625, reward:,19.0, frames: ,3433, epsilon: ,0.017, last_100_avgR: ,18.55\n",
            "12:47:41 01/03/20 Episode:, 626, reward:,20.0, frames: ,3564, epsilon: ,0.017, last_100_avgR: ,18.58\n",
            "12:47:55 01/03/20 Episode:, 627, reward:,18.0, frames: ,4051, epsilon: ,0.017, last_100_avgR: ,18.57\n",
            "12:48:06 01/03/20 Episode:, 628, reward:,21.0, frames: ,3066, epsilon: ,0.017, last_100_avgR: ,18.61\n",
            "12:48:18 01/03/20 Episode:, 629, reward:,16.0, frames: ,3510, epsilon: ,0.017, last_100_avgR: ,18.57\n",
            "12:48:31 01/03/20 Episode:, 630, reward:,20.0, frames: ,3576, epsilon: ,0.016, last_100_avgR: ,18.56\n",
            "12:48:43 01/03/20 Episode:, 631, reward:,20.0, frames: ,3474, epsilon: ,0.016, last_100_avgR: ,18.56\n",
            "12:48:57 01/03/20 Episode:, 632, reward:,21.0, frames: ,3972, epsilon: ,0.016, last_100_avgR: ,18.57\n",
            "12:49:10 01/03/20 Episode:, 633, reward:,19.0, frames: ,3720, epsilon: ,0.016, last_100_avgR: ,18.58\n",
            "12:49:24 01/03/20 Episode:, 634, reward:,19.0, frames: ,3793, epsilon: ,0.016, last_100_avgR: ,18.59\n",
            "12:49:40 01/03/20 Episode:, 635, reward:,16.0, frames: ,4699, epsilon: ,0.016, last_100_avgR: ,18.54\n",
            "12:49:54 01/03/20 Episode:, 636, reward:,20.0, frames: ,3933, epsilon: ,0.016, last_100_avgR: ,18.53\n",
            "12:50:06 01/03/20 Episode:, 637, reward:,20.0, frames: ,3474, epsilon: ,0.016, last_100_avgR: ,18.53\n",
            "12:50:19 01/03/20 Episode:, 638, reward:,20.0, frames: ,3475, epsilon: ,0.016, last_100_avgR: ,18.58\n",
            "12:50:31 01/03/20 Episode:, 639, reward:,18.0, frames: ,3571, epsilon: ,0.015, last_100_avgR: ,18.57\n",
            "12:50:43 01/03/20 Episode:, 640, reward:,20.0, frames: ,3385, epsilon: ,0.015, last_100_avgR: ,18.63\n",
            "12:50:56 01/03/20 Episode:, 641, reward:,19.0, frames: ,3717, epsilon: ,0.015, last_100_avgR: ,18.66\n",
            "12:51:08 01/03/20 Episode:, 642, reward:,21.0, frames: ,3426, epsilon: ,0.015, last_100_avgR: ,18.68\n",
            "12:51:21 01/03/20 Episode:, 643, reward:,18.0, frames: ,3666, epsilon: ,0.015, last_100_avgR: ,18.71\n",
            "12:51:33 01/03/20 Episode:, 644, reward:,19.0, frames: ,3529, epsilon: ,0.015, last_100_avgR: ,18.71\n",
            "12:51:45 01/03/20 Episode:, 645, reward:,21.0, frames: ,3423, epsilon: ,0.015, last_100_avgR: ,18.72\n",
            "12:51:56 01/03/20 Episode:, 646, reward:,19.0, frames: ,3252, epsilon: ,0.015, last_100_avgR: ,18.74\n",
            "12:52:12 01/03/20 Episode:, 647, reward:,15.0, frames: ,4554, epsilon: ,0.015, last_100_avgR: ,18.75\n",
            "12:52:24 01/03/20 Episode:, 648, reward:,19.0, frames: ,3354, epsilon: ,0.015, last_100_avgR: ,18.77\n",
            "12:52:41 01/03/20 Episode:, 649, reward:,16.0, frames: ,4869, epsilon: ,0.015, last_100_avgR: ,18.74\n",
            "12:52:53 01/03/20 Episode:, 650, reward:,20.0, frames: ,3379, epsilon: ,0.014, last_100_avgR: ,18.76\n",
            "GIF saved\n"
          ],
          "name": "stdout"
        },
        {
          "output_type": "stream",
          "text": [
            "MovieWriter imagemagick unavailable; trying to use <class 'matplotlib.animation.PillowWriter'> instead.\n"
          ],
          "name": "stderr"
        },
        {
          "output_type": "stream",
          "text": [
            "12:53:08 01/03/20 Episode:, 651, reward:,12.0, frames: ,4170, epsilon: ,0.014, last_100_avgR: ,18.71\n",
            "12:55:55 01/03/20 Episode:, 652, reward:,18.0, frames: ,3762, epsilon: ,0.014, last_100_avgR: ,18.72\n",
            "12:56:07 01/03/20 Episode:, 653, reward:,21.0, frames: ,3342, epsilon: ,0.014, last_100_avgR: ,18.72\n",
            "12:56:19 01/03/20 Episode:, 654, reward:,17.0, frames: ,3643, epsilon: ,0.014, last_100_avgR: ,18.69\n",
            "12:56:32 01/03/20 Episode:, 655, reward:,19.0, frames: ,3534, epsilon: ,0.014, last_100_avgR: ,18.67\n",
            "12:56:46 01/03/20 Episode:, 656, reward:,19.0, frames: ,3889, epsilon: ,0.014, last_100_avgR: ,18.68\n",
            "12:56:57 01/03/20 Episode:, 657, reward:,19.0, frames: ,3174, epsilon: ,0.014, last_100_avgR: ,18.71\n",
            "12:57:08 01/03/20 Episode:, 658, reward:,20.0, frames: ,3210, epsilon: ,0.014, last_100_avgR: ,18.71\n",
            "12:57:19 01/03/20 Episode:, 659, reward:,21.0, frames: ,3145, epsilon: ,0.014, last_100_avgR: ,18.73\n",
            "12:57:32 01/03/20 Episode:, 660, reward:,19.0, frames: ,3439, epsilon: ,0.014, last_100_avgR: ,18.72\n",
            "12:57:45 01/03/20 Episode:, 661, reward:,20.0, frames: ,3751, epsilon: ,0.013, last_100_avgR: ,18.73\n",
            "12:57:56 01/03/20 Episode:, 662, reward:,21.0, frames: ,3061, epsilon: ,0.013, last_100_avgR: ,18.74\n",
            "12:58:07 01/03/20 Episode:, 663, reward:,18.0, frames: ,3219, epsilon: ,0.013, last_100_avgR: ,18.73\n",
            "12:58:18 01/03/20 Episode:, 664, reward:,21.0, frames: ,3151, epsilon: ,0.013, last_100_avgR: ,18.8\n",
            "12:58:31 01/03/20 Episode:, 665, reward:,20.0, frames: ,3474, epsilon: ,0.013, last_100_avgR: ,18.82\n",
            "12:58:41 01/03/20 Episode:, 666, reward:,21.0, frames: ,2970, epsilon: ,0.013, last_100_avgR: ,18.83\n",
            "12:58:57 01/03/20 Episode:, 667, reward:,16.0, frames: ,4495, epsilon: ,0.013, last_100_avgR: ,18.78\n",
            "12:59:08 01/03/20 Episode:, 668, reward:,19.0, frames: ,3169, epsilon: ,0.013, last_100_avgR: ,18.8\n",
            "12:59:19 01/03/20 Episode:, 669, reward:,21.0, frames: ,2970, epsilon: ,0.013, last_100_avgR: ,18.82\n",
            "12:59:31 01/03/20 Episode:, 670, reward:,18.0, frames: ,3499, epsilon: ,0.013, last_100_avgR: ,18.86\n",
            "12:59:41 01/03/20 Episode:, 671, reward:,21.0, frames: ,2970, epsilon: ,0.013, last_100_avgR: ,18.9\n",
            "12:59:53 01/03/20 Episode:, 672, reward:,20.0, frames: ,3295, epsilon: ,0.012, last_100_avgR: ,18.89\n",
            "13:00:08 01/03/20 Episode:, 673, reward:,16.0, frames: ,4419, epsilon: ,0.012, last_100_avgR: ,18.87\n",
            "13:00:19 01/03/20 Episode:, 674, reward:,21.0, frames: ,3151, epsilon: ,0.012, last_100_avgR: ,18.87\n",
            "13:00:30 01/03/20 Episode:, 675, reward:,20.0, frames: ,3117, epsilon: ,0.012, last_100_avgR: ,18.88\n",
            "13:00:43 01/03/20 Episode:, 676, reward:,19.0, frames: ,3540, epsilon: ,0.012, last_100_avgR: ,18.86\n",
            "13:00:56 01/03/20 Episode:, 677, reward:,19.0, frames: ,3798, epsilon: ,0.012, last_100_avgR: ,18.84\n",
            "13:01:07 01/03/20 Episode:, 678, reward:,20.0, frames: ,3117, epsilon: ,0.012, last_100_avgR: ,18.89\n",
            "13:01:19 01/03/20 Episode:, 679, reward:,19.0, frames: ,3354, epsilon: ,0.012, last_100_avgR: ,18.9\n",
            "13:01:31 01/03/20 Episode:, 680, reward:,20.0, frames: ,3211, epsilon: ,0.012, last_100_avgR: ,18.92\n",
            "13:01:44 01/03/20 Episode:, 681, reward:,19.0, frames: ,3889, epsilon: ,0.012, last_100_avgR: ,18.94\n",
            "13:01:55 01/03/20 Episode:, 682, reward:,21.0, frames: ,2970, epsilon: ,0.012, last_100_avgR: ,18.97\n",
            "13:02:06 01/03/20 Episode:, 683, reward:,20.0, frames: ,3021, epsilon: ,0.012, last_100_avgR: ,18.99\n",
            "13:02:17 01/03/20 Episode:, 684, reward:,21.0, frames: ,3150, epsilon: ,0.012, last_100_avgR: ,19.02\n",
            "13:02:30 01/03/20 Episode:, 685, reward:,18.0, frames: ,3846, epsilon: ,0.011, last_100_avgR: ,19.0\n",
            "13:02:43 01/03/20 Episode:, 686, reward:,18.0, frames: ,3495, epsilon: ,0.011, last_100_avgR: ,19.03\n",
            "13:02:57 01/03/20 Episode:, 687, reward:,18.0, frames: ,4033, epsilon: ,0.011, last_100_avgR: ,19.08\n",
            "13:03:10 01/03/20 Episode:, 688, reward:,18.0, frames: ,3849, epsilon: ,0.011, last_100_avgR: ,19.05\n",
            "13:03:24 01/03/20 Episode:, 689, reward:,17.0, frames: ,3924, epsilon: ,0.011, last_100_avgR: ,19.05\n",
            "13:03:40 01/03/20 Episode:, 690, reward:,16.0, frames: ,4323, epsilon: ,0.011, last_100_avgR: ,19.01\n",
            "13:03:52 01/03/20 Episode:, 691, reward:,20.0, frames: ,3468, epsilon: ,0.011, last_100_avgR: ,19.03\n",
            "13:04:05 01/03/20 Episode:, 692, reward:,18.0, frames: ,3675, epsilon: ,0.011, last_100_avgR: ,19.01\n",
            "13:04:17 01/03/20 Episode:, 693, reward:,20.0, frames: ,3390, epsilon: ,0.011, last_100_avgR: ,19.01\n",
            "13:04:32 01/03/20 Episode:, 694, reward:,18.0, frames: ,4213, epsilon: ,0.011, last_100_avgR: ,19.02\n",
            "13:04:45 01/03/20 Episode:, 695, reward:,19.0, frames: ,3799, epsilon: ,0.011, last_100_avgR: ,19.02\n",
            "13:04:56 01/03/20 Episode:, 696, reward:,20.0, frames: ,3210, epsilon: ,0.011, last_100_avgR: ,19.02\n",
            "13:05:09 01/03/20 Episode:, 697, reward:,20.0, frames: ,3477, epsilon: ,0.011, last_100_avgR: ,19.03\n",
            "13:05:21 01/03/20 Episode:, 698, reward:,18.0, frames: ,3403, epsilon: ,0.011, last_100_avgR: ,19.01\n",
            "13:05:33 01/03/20 Episode:, 699, reward:,20.0, frames: ,3469, epsilon: ,0.01, last_100_avgR: ,19.03\n",
            "13:05:45 01/03/20 Episode:, 700, reward:,20.0, frames: ,3387, epsilon: ,0.01, last_100_avgR: ,19.02\n",
            "GIF saved\n"
          ],
          "name": "stdout"
        },
        {
          "output_type": "stream",
          "text": [
            "MovieWriter imagemagick unavailable; trying to use <class 'matplotlib.animation.PillowWriter'> instead.\n"
          ],
          "name": "stderr"
        },
        {
          "output_type": "stream",
          "text": [
            "13:05:56 01/03/20 Episode:, 701, reward:,19.0, frames: ,3177, epsilon: ,0.01, last_100_avgR: ,19.02\n",
            "13:08:15 01/03/20 Episode:, 702, reward:,17.0, frames: ,4453, epsilon: ,0.01, last_100_avgR: ,19.03\n",
            "13:08:27 01/03/20 Episode:, 703, reward:,19.0, frames: ,3348, epsilon: ,0.01, last_100_avgR: ,19.01\n",
            "13:08:38 01/03/20 Episode:, 704, reward:,21.0, frames: ,2976, epsilon: ,0.01, last_100_avgR: ,19.03\n",
            "13:08:50 01/03/20 Episode:, 705, reward:,21.0, frames: ,3150, epsilon: ,0.01, last_100_avgR: ,19.07\n",
            "13:09:01 01/03/20 Episode:, 706, reward:,20.0, frames: ,3204, epsilon: ,0.01, last_100_avgR: ,19.07\n",
            "13:09:12 01/03/20 Episode:, 707, reward:,21.0, frames: ,3150, epsilon: ,0.01, last_100_avgR: ,19.1\n",
            "13:09:23 01/03/20 Episode:, 708, reward:,21.0, frames: ,3151, epsilon: ,0.01, last_100_avgR: ,19.11\n",
            "13:09:34 01/03/20 Episode:, 709, reward:,20.0, frames: ,3114, epsilon: ,0.01, last_100_avgR: ,19.14\n",
            "13:09:45 01/03/20 Episode:, 710, reward:,21.0, frames: ,2976, epsilon: ,0.01, last_100_avgR: ,19.18\n",
            "13:09:55 01/03/20 Episode:, 711, reward:,21.0, frames: ,2979, epsilon: ,0.01, last_100_avgR: ,19.19\n",
            "13:10:12 01/03/20 Episode:, 712, reward:,12.0, frames: ,4807, epsilon: ,0.01, last_100_avgR: ,19.1\n",
            "13:10:24 01/03/20 Episode:, 713, reward:,19.0, frames: ,3546, epsilon: ,0.01, last_100_avgR: ,19.14\n",
            "13:10:38 01/03/20 Episode:, 714, reward:,18.0, frames: ,3855, epsilon: ,0.01, last_100_avgR: ,19.16\n",
            "13:10:50 01/03/20 Episode:, 715, reward:,19.0, frames: ,3531, epsilon: ,0.01, last_100_avgR: ,19.15\n",
            "13:11:09 01/03/20 Episode:, 716, reward:,19.0, frames: ,5085, epsilon: ,0.01, last_100_avgR: ,19.14\n",
            "13:11:23 01/03/20 Episode:, 717, reward:,17.0, frames: ,4089, epsilon: ,0.01, last_100_avgR: ,19.1\n",
            "13:11:36 01/03/20 Episode:, 718, reward:,20.0, frames: ,3654, epsilon: ,0.01, last_100_avgR: ,19.09\n",
            "13:11:48 01/03/20 Episode:, 719, reward:,20.0, frames: ,3300, epsilon: ,0.01, last_100_avgR: ,19.09\n",
            "13:12:01 01/03/20 Episode:, 720, reward:,19.0, frames: ,3618, epsilon: ,0.01, last_100_avgR: ,19.08\n",
            "13:12:13 01/03/20 Episode:, 721, reward:,20.0, frames: ,3387, epsilon: ,0.01, last_100_avgR: ,19.09\n",
            "13:12:25 01/03/20 Episode:, 722, reward:,19.0, frames: ,3360, epsilon: ,0.01, last_100_avgR: ,19.07\n",
            "13:12:37 01/03/20 Episode:, 723, reward:,20.0, frames: ,3294, epsilon: ,0.01, last_100_avgR: ,19.1\n",
            "13:12:47 01/03/20 Episode:, 724, reward:,21.0, frames: ,3069, epsilon: ,0.01, last_100_avgR: ,19.12\n",
            "13:12:58 01/03/20 Episode:, 725, reward:,21.0, frames: ,3153, epsilon: ,0.01, last_100_avgR: ,19.14\n",
            "13:13:11 01/03/20 Episode:, 726, reward:,16.0, frames: ,3600, epsilon: ,0.01, last_100_avgR: ,19.1\n",
            "13:13:23 01/03/20 Episode:, 727, reward:,20.0, frames: ,3114, epsilon: ,0.01, last_100_avgR: ,19.12\n",
            "13:13:35 01/03/20 Episode:, 728, reward:,19.0, frames: ,3444, epsilon: ,0.01, last_100_avgR: ,19.1\n",
            "13:13:46 01/03/20 Episode:, 729, reward:,21.0, frames: ,2973, epsilon: ,0.01, last_100_avgR: ,19.15\n",
            "13:14:00 01/03/20 Episode:, 730, reward:,19.0, frames: ,3708, epsilon: ,0.01, last_100_avgR: ,19.14\n",
            "13:14:15 01/03/20 Episode:, 731, reward:,16.0, frames: ,4323, epsilon: ,0.01, last_100_avgR: ,19.1\n",
            "13:14:27 01/03/20 Episode:, 732, reward:,20.0, frames: ,3486, epsilon: ,0.01, last_100_avgR: ,19.09\n",
            "13:14:39 01/03/20 Episode:, 733, reward:,20.0, frames: ,3295, epsilon: ,0.01, last_100_avgR: ,19.1\n",
            "13:14:50 01/03/20 Episode:, 734, reward:,21.0, frames: ,3063, epsilon: ,0.01, last_100_avgR: ,19.12\n",
            "13:15:02 01/03/20 Episode:, 735, reward:,20.0, frames: ,3381, epsilon: ,0.01, last_100_avgR: ,19.16\n",
            "13:15:14 01/03/20 Episode:, 736, reward:,21.0, frames: ,3159, epsilon: ,0.01, last_100_avgR: ,19.17\n",
            "13:15:24 01/03/20 Episode:, 737, reward:,21.0, frames: ,3069, epsilon: ,0.01, last_100_avgR: ,19.18\n",
            "13:15:36 01/03/20 Episode:, 738, reward:,20.0, frames: ,3294, epsilon: ,0.01, last_100_avgR: ,19.18\n",
            "13:15:47 01/03/20 Episode:, 739, reward:,21.0, frames: ,2976, epsilon: ,0.01, last_100_avgR: ,19.21\n",
            "13:15:59 01/03/20 Episode:, 740, reward:,19.0, frames: ,3432, epsilon: ,0.01, last_100_avgR: ,19.2\n",
            "13:16:10 01/03/20 Episode:, 741, reward:,20.0, frames: ,3115, epsilon: ,0.01, last_100_avgR: ,19.21\n",
            "13:16:21 01/03/20 Episode:, 742, reward:,19.0, frames: ,3078, epsilon: ,0.01, last_100_avgR: ,19.19\n",
            "13:16:33 01/03/20 Episode:, 743, reward:,20.0, frames: ,3396, epsilon: ,0.01, last_100_avgR: ,19.21\n",
            "13:16:44 01/03/20 Episode:, 744, reward:,21.0, frames: ,3063, epsilon: ,0.01, last_100_avgR: ,19.23\n",
            "13:16:55 01/03/20 Episode:, 745, reward:,21.0, frames: ,3069, epsilon: ,0.01, last_100_avgR: ,19.23\n",
            "13:17:07 01/03/20 Episode:, 746, reward:,21.0, frames: ,3162, epsilon: ,0.01, last_100_avgR: ,19.25\n",
            "13:17:17 01/03/20 Episode:, 747, reward:,21.0, frames: ,2977, epsilon: ,0.01, last_100_avgR: ,19.31\n",
            "13:17:29 01/03/20 Episode:, 748, reward:,20.0, frames: ,3213, epsilon: ,0.01, last_100_avgR: ,19.32\n",
            "13:17:40 01/03/20 Episode:, 749, reward:,20.0, frames: ,3036, epsilon: ,0.01, last_100_avgR: ,19.36\n",
            "13:17:50 01/03/20 Episode:, 750, reward:,21.0, frames: ,2976, epsilon: ,0.01, last_100_avgR: ,19.37\n",
            "GIF saved\n"
          ],
          "name": "stdout"
        },
        {
          "output_type": "stream",
          "text": [
            "MovieWriter imagemagick unavailable; trying to use <class 'matplotlib.animation.PillowWriter'> instead.\n"
          ],
          "name": "stderr"
        },
        {
          "output_type": "stream",
          "text": [
            "13:18:01 01/03/20 Episode:, 751, reward:,21.0, frames: ,3066, epsilon: ,0.01, last_100_avgR: ,19.46\n",
            "13:20:21 01/03/20 Episode:, 752, reward:,21.0, frames: ,3249, epsilon: ,0.01, last_100_avgR: ,19.49\n",
            "13:20:33 01/03/20 Episode:, 753, reward:,21.0, frames: ,3342, epsilon: ,0.01, last_100_avgR: ,19.49\n",
            "13:20:44 01/03/20 Episode:, 754, reward:,21.0, frames: ,3069, epsilon: ,0.01, last_100_avgR: ,19.53\n",
            "13:21:05 01/03/20 Episode:, 756, reward:,21.0, frames: ,2982, epsilon: ,0.01, last_100_avgR: ,19.57\n",
            "13:21:17 01/03/20 Episode:, 757, reward:,21.0, frames: ,3162, epsilon: ,0.01, last_100_avgR: ,19.59\n",
            "13:21:28 01/03/20 Episode:, 758, reward:,21.0, frames: ,3069, epsilon: ,0.01, last_100_avgR: ,19.6\n",
            "13:21:40 01/03/20 Episode:, 759, reward:,19.0, frames: ,3366, epsilon: ,0.01, last_100_avgR: ,19.58\n",
            "13:21:50 01/03/20 Episode:, 760, reward:,21.0, frames: ,2971, epsilon: ,0.01, last_100_avgR: ,19.6\n",
            "13:22:01 01/03/20 Episode:, 761, reward:,21.0, frames: ,2985, epsilon: ,0.01, last_100_avgR: ,19.61\n",
            "13:22:12 01/03/20 Episode:, 762, reward:,20.0, frames: ,3300, epsilon: ,0.01, last_100_avgR: ,19.6\n",
            "13:22:28 01/03/20 Episode:, 763, reward:,17.0, frames: ,4279, epsilon: ,0.01, last_100_avgR: ,19.59\n",
            "13:22:39 01/03/20 Episode:, 764, reward:,18.0, frames: ,3228, epsilon: ,0.01, last_100_avgR: ,19.56\n",
            "13:22:50 01/03/20 Episode:, 765, reward:,19.0, frames: ,3079, epsilon: ,0.01, last_100_avgR: ,19.55\n",
            "13:23:01 01/03/20 Episode:, 766, reward:,21.0, frames: ,2976, epsilon: ,0.01, last_100_avgR: ,19.55\n",
            "13:23:11 01/03/20 Episode:, 767, reward:,21.0, frames: ,2979, epsilon: ,0.01, last_100_avgR: ,19.6\n",
            "13:23:24 01/03/20 Episode:, 768, reward:,19.0, frames: ,3627, epsilon: ,0.01, last_100_avgR: ,19.6\n",
            "13:23:36 01/03/20 Episode:, 769, reward:,19.0, frames: ,3273, epsilon: ,0.01, last_100_avgR: ,19.58\n",
            "13:23:48 01/03/20 Episode:, 770, reward:,16.0, frames: ,3516, epsilon: ,0.01, last_100_avgR: ,19.56\n",
            "13:23:59 01/03/20 Episode:, 771, reward:,21.0, frames: ,2976, epsilon: ,0.01, last_100_avgR: ,19.56\n",
            "13:24:11 01/03/20 Episode:, 772, reward:,17.0, frames: ,3361, epsilon: ,0.01, last_100_avgR: ,19.53\n",
            "13:24:27 01/03/20 Episode:, 773, reward:,16.0, frames: ,4425, epsilon: ,0.01, last_100_avgR: ,19.53\n",
            "13:24:37 01/03/20 Episode:, 774, reward:,21.0, frames: ,3061, epsilon: ,0.01, last_100_avgR: ,19.53\n",
            "13:24:48 01/03/20 Episode:, 775, reward:,21.0, frames: ,3055, epsilon: ,0.01, last_100_avgR: ,19.54\n",
            "13:25:00 01/03/20 Episode:, 776, reward:,20.0, frames: ,3393, epsilon: ,0.01, last_100_avgR: ,19.55\n",
            "13:25:14 01/03/20 Episode:, 777, reward:,18.0, frames: ,3955, epsilon: ,0.01, last_100_avgR: ,19.54\n",
            "13:25:25 01/03/20 Episode:, 778, reward:,21.0, frames: ,2971, epsilon: ,0.01, last_100_avgR: ,19.55\n",
            "13:25:35 01/03/20 Episode:, 779, reward:,21.0, frames: ,2977, epsilon: ,0.01, last_100_avgR: ,19.57\n",
            "13:25:46 01/03/20 Episode:, 780, reward:,21.0, frames: ,3066, epsilon: ,0.01, last_100_avgR: ,19.58\n",
            "13:25:59 01/03/20 Episode:, 781, reward:,20.0, frames: ,3492, epsilon: ,0.01, last_100_avgR: ,19.59\n",
            "13:26:11 01/03/20 Episode:, 782, reward:,20.0, frames: ,3393, epsilon: ,0.01, last_100_avgR: ,19.58\n",
            "13:26:22 01/03/20 Episode:, 783, reward:,21.0, frames: ,3163, epsilon: ,0.01, last_100_avgR: ,19.59\n",
            "13:26:33 01/03/20 Episode:, 784, reward:,20.0, frames: ,3120, epsilon: ,0.01, last_100_avgR: ,19.58\n",
            "13:26:44 01/03/20 Episode:, 785, reward:,21.0, frames: ,3060, epsilon: ,0.01, last_100_avgR: ,19.61\n",
            "13:26:58 01/03/20 Episode:, 786, reward:,17.0, frames: ,4188, epsilon: ,0.01, last_100_avgR: ,19.6\n",
            "13:27:10 01/03/20 Episode:, 787, reward:,18.0, frames: ,3403, epsilon: ,0.01, last_100_avgR: ,19.6\n",
            "13:27:22 01/03/20 Episode:, 788, reward:,20.0, frames: ,3301, epsilon: ,0.01, last_100_avgR: ,19.62\n",
            "13:27:36 01/03/20 Episode:, 789, reward:,16.0, frames: ,3871, epsilon: ,0.01, last_100_avgR: ,19.61\n",
            "13:27:47 01/03/20 Episode:, 790, reward:,21.0, frames: ,3066, epsilon: ,0.01, last_100_avgR: ,19.66\n",
            "13:27:58 01/03/20 Episode:, 791, reward:,21.0, frames: ,3150, epsilon: ,0.01, last_100_avgR: ,19.67\n",
            "13:28:13 01/03/20 Episode:, 792, reward:,18.0, frames: ,4135, epsilon: ,0.01, last_100_avgR: ,19.67\n",
            "13:28:24 01/03/20 Episode:, 793, reward:,21.0, frames: ,3150, epsilon: ,0.01, last_100_avgR: ,19.68\n",
            "13:28:37 01/03/20 Episode:, 794, reward:,19.0, frames: ,3804, epsilon: ,0.01, last_100_avgR: ,19.69\n",
            "13:28:49 01/03/20 Episode:, 795, reward:,19.0, frames: ,3456, epsilon: ,0.01, last_100_avgR: ,19.69\n",
            "13:29:00 01/03/20 Episode:, 796, reward:,19.0, frames: ,3078, epsilon: ,0.01, last_100_avgR: ,19.68\n",
            "13:29:14 01/03/20 Episode:, 797, reward:,18.0, frames: ,3858, epsilon: ,0.01, last_100_avgR: ,19.66\n",
            "13:29:25 01/03/20 Episode:, 798, reward:,21.0, frames: ,2970, epsilon: ,0.01, last_100_avgR: ,19.69\n",
            "13:29:36 01/03/20 Episode:, 799, reward:,21.0, frames: ,2970, epsilon: ,0.01, last_100_avgR: ,19.7\n",
            "13:29:46 01/03/20 Episode:, 800, reward:,21.0, frames: ,2973, epsilon: ,0.01, last_100_avgR: ,19.71\n",
            "GIF saved\n"
          ],
          "name": "stdout"
        },
        {
          "output_type": "stream",
          "text": [
            "MovieWriter imagemagick unavailable; trying to use <class 'matplotlib.animation.PillowWriter'> instead.\n"
          ],
          "name": "stderr"
        },
        {
          "output_type": "stream",
          "text": [
            "13:29:58 01/03/20 Episode:, 801, reward:,21.0, frames: ,3241, epsilon: ,0.01, last_100_avgR: ,19.73\n",
            "13:32:31 01/03/20 Episode:, 802, reward:,20.0, frames: ,3036, epsilon: ,0.01, last_100_avgR: ,19.76\n",
            "13:32:43 01/03/20 Episode:, 803, reward:,20.0, frames: ,3204, epsilon: ,0.01, last_100_avgR: ,19.77\n",
            "13:32:53 01/03/20 Episode:, 804, reward:,20.0, frames: ,3024, epsilon: ,0.01, last_100_avgR: ,19.76\n",
            "13:33:04 01/03/20 Episode:, 805, reward:,21.0, frames: ,2971, epsilon: ,0.01, last_100_avgR: ,19.76\n",
            "13:33:15 01/03/20 Episode:, 806, reward:,21.0, frames: ,2965, epsilon: ,0.01, last_100_avgR: ,19.77\n",
            "13:33:25 01/03/20 Episode:, 807, reward:,21.0, frames: ,2973, epsilon: ,0.01, last_100_avgR: ,19.77\n",
            "13:33:36 01/03/20 Episode:, 808, reward:,21.0, frames: ,2970, epsilon: ,0.01, last_100_avgR: ,19.77\n",
            "13:33:48 01/03/20 Episode:, 809, reward:,20.0, frames: ,3114, epsilon: ,0.01, last_100_avgR: ,19.77\n",
            "13:34:03 01/03/20 Episode:, 810, reward:,18.0, frames: ,4308, epsilon: ,0.01, last_100_avgR: ,19.74\n",
            "13:34:19 01/03/20 Episode:, 811, reward:,17.0, frames: ,4177, epsilon: ,0.01, last_100_avgR: ,19.7\n",
            "13:34:30 01/03/20 Episode:, 812, reward:,19.0, frames: ,3258, epsilon: ,0.01, last_100_avgR: ,19.77\n",
            "13:34:41 01/03/20 Episode:, 813, reward:,21.0, frames: ,2970, epsilon: ,0.01, last_100_avgR: ,19.79\n",
            "13:34:52 01/03/20 Episode:, 814, reward:,20.0, frames: ,3027, epsilon: ,0.01, last_100_avgR: ,19.81\n",
            "13:35:06 01/03/20 Episode:, 815, reward:,19.0, frames: ,3805, epsilon: ,0.01, last_100_avgR: ,19.81\n",
            "13:35:17 01/03/20 Episode:, 816, reward:,21.0, frames: ,2973, epsilon: ,0.01, last_100_avgR: ,19.83\n",
            "13:35:28 01/03/20 Episode:, 817, reward:,21.0, frames: ,2967, epsilon: ,0.01, last_100_avgR: ,19.87\n",
            "13:35:40 01/03/20 Episode:, 818, reward:,21.0, frames: ,3427, epsilon: ,0.01, last_100_avgR: ,19.88\n",
            "13:35:53 01/03/20 Episode:, 819, reward:,20.0, frames: ,3486, epsilon: ,0.01, last_100_avgR: ,19.88\n",
            "13:36:03 01/03/20 Episode:, 820, reward:,21.0, frames: ,2976, epsilon: ,0.01, last_100_avgR: ,19.9\n",
            "13:36:14 01/03/20 Episode:, 821, reward:,21.0, frames: ,2973, epsilon: ,0.01, last_100_avgR: ,19.91\n",
            "13:36:25 01/03/20 Episode:, 822, reward:,20.0, frames: ,3123, epsilon: ,0.01, last_100_avgR: ,19.92\n",
            "13:36:37 01/03/20 Episode:, 823, reward:,21.0, frames: ,3151, epsilon: ,0.01, last_100_avgR: ,19.93\n",
            "13:36:47 01/03/20 Episode:, 824, reward:,21.0, frames: ,2979, epsilon: ,0.01, last_100_avgR: ,19.93\n",
            "13:36:58 01/03/20 Episode:, 825, reward:,19.0, frames: ,3084, epsilon: ,0.01, last_100_avgR: ,19.91\n",
            "13:37:09 01/03/20 Episode:, 826, reward:,21.0, frames: ,2976, epsilon: ,0.01, last_100_avgR: ,19.96\n",
            "13:37:25 01/03/20 Episode:, 827, reward:,14.0, frames: ,4620, epsilon: ,0.01, last_100_avgR: ,19.9\n",
            "13:37:36 01/03/20 Episode:, 828, reward:,19.0, frames: ,3073, epsilon: ,0.01, last_100_avgR: ,19.9\n",
            "13:37:50 01/03/20 Episode:, 829, reward:,18.0, frames: ,3675, epsilon: ,0.01, last_100_avgR: ,19.87\n",
            "13:38:01 01/03/20 Episode:, 830, reward:,21.0, frames: ,3055, epsilon: ,0.01, last_100_avgR: ,19.89\n",
            "13:38:14 01/03/20 Episode:, 831, reward:,18.0, frames: ,3768, epsilon: ,0.01, last_100_avgR: ,19.91\n",
            "13:38:26 01/03/20 Episode:, 832, reward:,20.0, frames: ,3391, epsilon: ,0.01, last_100_avgR: ,19.91\n",
            "13:38:37 01/03/20 Episode:, 833, reward:,21.0, frames: ,3067, epsilon: ,0.01, last_100_avgR: ,19.92\n",
            "13:38:48 01/03/20 Episode:, 834, reward:,21.0, frames: ,2971, epsilon: ,0.01, last_100_avgR: ,19.92\n",
            "13:38:58 01/03/20 Episode:, 835, reward:,21.0, frames: ,2976, epsilon: ,0.01, last_100_avgR: ,19.93\n",
            "13:39:09 01/03/20 Episode:, 836, reward:,21.0, frames: ,2967, epsilon: ,0.01, last_100_avgR: ,19.93\n",
            "13:39:22 01/03/20 Episode:, 837, reward:,18.0, frames: ,3498, epsilon: ,0.01, last_100_avgR: ,19.9\n",
            "13:39:35 01/03/20 Episode:, 838, reward:,18.0, frames: ,3865, epsilon: ,0.01, last_100_avgR: ,19.88\n",
            "13:39:46 01/03/20 Episode:, 839, reward:,21.0, frames: ,2977, epsilon: ,0.01, last_100_avgR: ,19.88\n",
            "13:39:57 01/03/20 Episode:, 840, reward:,21.0, frames: ,2976, epsilon: ,0.01, last_100_avgR: ,19.9\n",
            "13:40:08 01/03/20 Episode:, 841, reward:,21.0, frames: ,3060, epsilon: ,0.01, last_100_avgR: ,19.91\n",
            "13:40:20 01/03/20 Episode:, 842, reward:,21.0, frames: ,3331, epsilon: ,0.01, last_100_avgR: ,19.93\n",
            "13:40:30 01/03/20 Episode:, 843, reward:,21.0, frames: ,2982, epsilon: ,0.01, last_100_avgR: ,19.94\n",
            "13:40:44 01/03/20 Episode:, 844, reward:,18.0, frames: ,3759, epsilon: ,0.01, last_100_avgR: ,19.91\n",
            "13:40:54 01/03/20 Episode:, 845, reward:,21.0, frames: ,2982, epsilon: ,0.01, last_100_avgR: ,19.91\n",
            "13:41:06 01/03/20 Episode:, 846, reward:,20.0, frames: ,3480, epsilon: ,0.01, last_100_avgR: ,19.9\n",
            "13:41:20 01/03/20 Episode:, 847, reward:,16.0, frames: ,3873, epsilon: ,0.01, last_100_avgR: ,19.85\n",
            "13:41:32 01/03/20 Episode:, 848, reward:,21.0, frames: ,3246, epsilon: ,0.01, last_100_avgR: ,19.86\n",
            "13:41:44 01/03/20 Episode:, 849, reward:,18.0, frames: ,3403, epsilon: ,0.01, last_100_avgR: ,19.84\n",
            "13:41:57 01/03/20 Episode:, 850, reward:,18.0, frames: ,3867, epsilon: ,0.01, last_100_avgR: ,19.81\n",
            "GIF saved\n"
          ],
          "name": "stdout"
        },
        {
          "output_type": "stream",
          "text": [
            "MovieWriter imagemagick unavailable; trying to use <class 'matplotlib.animation.PillowWriter'> instead.\n"
          ],
          "name": "stderr"
        },
        {
          "output_type": "stream",
          "text": [
            "13:42:08 01/03/20 Episode:, 851, reward:,21.0, frames: ,2976, epsilon: ,0.01, last_100_avgR: ,19.81\n",
            "13:44:38 01/03/20 Episode:, 852, reward:,21.0, frames: ,3066, epsilon: ,0.01, last_100_avgR: ,19.81\n",
            "13:44:49 01/03/20 Episode:, 853, reward:,21.0, frames: ,3066, epsilon: ,0.01, last_100_avgR: ,19.81\n",
            "13:45:00 01/03/20 Episode:, 854, reward:,21.0, frames: ,3060, epsilon: ,0.01, last_100_avgR: ,19.81\n",
            "13:45:11 01/03/20 Episode:, 855, reward:,21.0, frames: ,3066, epsilon: ,0.01, last_100_avgR: ,19.81\n",
            "13:45:22 01/03/20 Episode:, 856, reward:,21.0, frames: ,3061, epsilon: ,0.01, last_100_avgR: ,19.81\n",
            "13:45:35 01/03/20 Episode:, 857, reward:,19.0, frames: ,3720, epsilon: ,0.01, last_100_avgR: ,19.79\n",
            "13:45:46 01/03/20 Episode:, 858, reward:,19.0, frames: ,3180, epsilon: ,0.01, last_100_avgR: ,19.77\n",
            "13:45:58 01/03/20 Episode:, 859, reward:,19.0, frames: ,3343, epsilon: ,0.01, last_100_avgR: ,19.77\n",
            "13:46:11 01/03/20 Episode:, 860, reward:,13.0, frames: ,3583, epsilon: ,0.01, last_100_avgR: ,19.69\n",
            "13:46:25 01/03/20 Episode:, 861, reward:,15.0, frames: ,4015, epsilon: ,0.01, last_100_avgR: ,19.63\n",
            "13:46:36 01/03/20 Episode:, 862, reward:,21.0, frames: ,3156, epsilon: ,0.01, last_100_avgR: ,19.64\n",
            "13:46:47 01/03/20 Episode:, 863, reward:,19.0, frames: ,3171, epsilon: ,0.01, last_100_avgR: ,19.66\n",
            "13:47:00 01/03/20 Episode:, 864, reward:,18.0, frames: ,3597, epsilon: ,0.01, last_100_avgR: ,19.66\n",
            "13:47:12 01/03/20 Episode:, 865, reward:,20.0, frames: ,3309, epsilon: ,0.01, last_100_avgR: ,19.67\n",
            "13:47:23 01/03/20 Episode:, 866, reward:,21.0, frames: ,2976, epsilon: ,0.01, last_100_avgR: ,19.67\n",
            "13:47:33 01/03/20 Episode:, 867, reward:,21.0, frames: ,2982, epsilon: ,0.01, last_100_avgR: ,19.67\n",
            "13:47:44 01/03/20 Episode:, 868, reward:,21.0, frames: ,2976, epsilon: ,0.01, last_100_avgR: ,19.69\n",
            "13:47:56 01/03/20 Episode:, 869, reward:,20.0, frames: ,3399, epsilon: ,0.01, last_100_avgR: ,19.7\n",
            "13:48:09 01/03/20 Episode:, 870, reward:,16.0, frames: ,3693, epsilon: ,0.01, last_100_avgR: ,19.7\n",
            "13:48:20 01/03/20 Episode:, 871, reward:,21.0, frames: ,3072, epsilon: ,0.01, last_100_avgR: ,19.7\n",
            "13:48:30 01/03/20 Episode:, 872, reward:,21.0, frames: ,2977, epsilon: ,0.01, last_100_avgR: ,19.74\n",
            "13:48:41 01/03/20 Episode:, 873, reward:,20.0, frames: ,3126, epsilon: ,0.01, last_100_avgR: ,19.78\n",
            "13:48:51 01/03/20 Episode:, 874, reward:,21.0, frames: ,2973, epsilon: ,0.01, last_100_avgR: ,19.78\n",
            "13:49:02 01/03/20 Episode:, 875, reward:,21.0, frames: ,2976, epsilon: ,0.01, last_100_avgR: ,19.78\n",
            "13:49:14 01/03/20 Episode:, 876, reward:,19.0, frames: ,3546, epsilon: ,0.01, last_100_avgR: ,19.77\n",
            "13:49:25 01/03/20 Episode:, 877, reward:,21.0, frames: ,2970, epsilon: ,0.01, last_100_avgR: ,19.8\n",
            "13:49:35 01/03/20 Episode:, 878, reward:,21.0, frames: ,2985, epsilon: ,0.01, last_100_avgR: ,19.8\n",
            "13:49:47 01/03/20 Episode:, 879, reward:,19.0, frames: ,3270, epsilon: ,0.01, last_100_avgR: ,19.78\n",
            "13:49:58 01/03/20 Episode:, 880, reward:,21.0, frames: ,3066, epsilon: ,0.01, last_100_avgR: ,19.78\n",
            "13:50:09 01/03/20 Episode:, 881, reward:,20.0, frames: ,3213, epsilon: ,0.01, last_100_avgR: ,19.78\n",
            "13:50:20 01/03/20 Episode:, 882, reward:,21.0, frames: ,2971, epsilon: ,0.01, last_100_avgR: ,19.79\n",
            "13:50:32 01/03/20 Episode:, 883, reward:,20.0, frames: ,3303, epsilon: ,0.01, last_100_avgR: ,19.78\n",
            "13:50:42 01/03/20 Episode:, 884, reward:,21.0, frames: ,2977, epsilon: ,0.01, last_100_avgR: ,19.79\n",
            "13:50:53 01/03/20 Episode:, 885, reward:,21.0, frames: ,2979, epsilon: ,0.01, last_100_avgR: ,19.79\n",
            "13:51:04 01/03/20 Episode:, 886, reward:,20.0, frames: ,3123, epsilon: ,0.01, last_100_avgR: ,19.82\n",
            "13:51:21 01/03/20 Episode:, 887, reward:,11.0, frames: ,4945, epsilon: ,0.01, last_100_avgR: ,19.75\n",
            "13:51:40 01/03/20 Episode:, 888, reward:,15.0, frames: ,5286, epsilon: ,0.01, last_100_avgR: ,19.7\n",
            "13:51:50 01/03/20 Episode:, 889, reward:,21.0, frames: ,2970, epsilon: ,0.01, last_100_avgR: ,19.75\n",
            "13:52:01 01/03/20 Episode:, 890, reward:,21.0, frames: ,2979, epsilon: ,0.01, last_100_avgR: ,19.75\n",
            "13:52:15 01/03/20 Episode:, 891, reward:,18.0, frames: ,4041, epsilon: ,0.01, last_100_avgR: ,19.72\n",
            "13:52:31 01/03/20 Episode:, 892, reward:,16.0, frames: ,4509, epsilon: ,0.01, last_100_avgR: ,19.7\n",
            "13:52:43 01/03/20 Episode:, 893, reward:,20.0, frames: ,3213, epsilon: ,0.01, last_100_avgR: ,19.69\n",
            "13:52:54 01/03/20 Episode:, 894, reward:,20.0, frames: ,3297, epsilon: ,0.01, last_100_avgR: ,19.7\n",
            "13:53:06 01/03/20 Episode:, 895, reward:,20.0, frames: ,3207, epsilon: ,0.01, last_100_avgR: ,19.71\n",
            "13:53:17 01/03/20 Episode:, 896, reward:,21.0, frames: ,2976, epsilon: ,0.01, last_100_avgR: ,19.73\n",
            "13:53:27 01/03/20 Episode:, 897, reward:,21.0, frames: ,2971, epsilon: ,0.01, last_100_avgR: ,19.76\n",
            "13:53:38 01/03/20 Episode:, 898, reward:,21.0, frames: ,2973, epsilon: ,0.01, last_100_avgR: ,19.76\n",
            "13:53:49 01/03/20 Episode:, 899, reward:,20.0, frames: ,3132, epsilon: ,0.01, last_100_avgR: ,19.75\n",
            "13:54:03 01/03/20 Episode:, 900, reward:,18.0, frames: ,4131, epsilon: ,0.01, last_100_avgR: ,19.72\n",
            "GIF saved\n"
          ],
          "name": "stdout"
        },
        {
          "output_type": "stream",
          "text": [
            "MovieWriter imagemagick unavailable; trying to use <class 'matplotlib.animation.PillowWriter'> instead.\n"
          ],
          "name": "stderr"
        },
        {
          "output_type": "stream",
          "text": [
            "13:54:15 01/03/20 Episode:, 901, reward:,20.0, frames: ,3123, epsilon: ,0.01, last_100_avgR: ,19.71\n",
            "13:56:57 01/03/20 Episode:, 902, reward:,21.0, frames: ,2982, epsilon: ,0.01, last_100_avgR: ,19.72\n",
            "13:57:10 01/03/20 Episode:, 903, reward:,18.0, frames: ,3498, epsilon: ,0.01, last_100_avgR: ,19.7\n",
            "13:57:20 01/03/20 Episode:, 904, reward:,21.0, frames: ,2982, epsilon: ,0.01, last_100_avgR: ,19.71\n",
            "13:57:34 01/03/20 Episode:, 905, reward:,18.0, frames: ,3865, epsilon: ,0.01, last_100_avgR: ,19.68\n",
            "13:57:46 01/03/20 Episode:, 906, reward:,19.0, frames: ,3273, epsilon: ,0.01, last_100_avgR: ,19.66\n",
            "13:57:56 01/03/20 Episode:, 907, reward:,20.0, frames: ,3033, epsilon: ,0.01, last_100_avgR: ,19.65\n",
            "13:58:08 01/03/20 Episode:, 908, reward:,20.0, frames: ,3126, epsilon: ,0.01, last_100_avgR: ,19.64\n",
            "13:58:19 01/03/20 Episode:, 909, reward:,21.0, frames: ,3246, epsilon: ,0.01, last_100_avgR: ,19.65\n",
            "13:58:32 01/03/20 Episode:, 910, reward:,16.0, frames: ,3516, epsilon: ,0.01, last_100_avgR: ,19.63\n",
            "13:58:45 01/03/20 Episode:, 911, reward:,18.0, frames: ,3762, epsilon: ,0.01, last_100_avgR: ,19.64\n",
            "13:58:56 01/03/20 Episode:, 912, reward:,20.0, frames: ,3114, epsilon: ,0.01, last_100_avgR: ,19.65\n",
            "13:59:10 01/03/20 Episode:, 913, reward:,20.0, frames: ,3853, epsilon: ,0.01, last_100_avgR: ,19.64\n",
            "13:59:22 01/03/20 Episode:, 914, reward:,20.0, frames: ,3390, epsilon: ,0.01, last_100_avgR: ,19.64\n",
            "13:59:33 01/03/20 Episode:, 915, reward:,21.0, frames: ,3162, epsilon: ,0.01, last_100_avgR: ,19.66\n",
            "13:59:44 01/03/20 Episode:, 916, reward:,20.0, frames: ,3036, epsilon: ,0.01, last_100_avgR: ,19.65\n",
            "13:59:54 01/03/20 Episode:, 917, reward:,21.0, frames: ,2977, epsilon: ,0.01, last_100_avgR: ,19.65\n",
            "14:00:05 01/03/20 Episode:, 918, reward:,21.0, frames: ,2983, epsilon: ,0.01, last_100_avgR: ,19.65\n",
            "14:00:16 01/03/20 Episode:, 919, reward:,21.0, frames: ,2970, epsilon: ,0.01, last_100_avgR: ,19.66\n",
            "14:00:26 01/03/20 Episode:, 920, reward:,21.0, frames: ,2971, epsilon: ,0.01, last_100_avgR: ,19.66\n",
            "14:00:37 01/03/20 Episode:, 921, reward:,21.0, frames: ,2976, epsilon: ,0.01, last_100_avgR: ,19.66\n",
            "14:00:49 01/03/20 Episode:, 922, reward:,20.0, frames: ,3306, epsilon: ,0.01, last_100_avgR: ,19.66\n",
            "14:01:00 01/03/20 Episode:, 923, reward:,21.0, frames: ,3157, epsilon: ,0.01, last_100_avgR: ,19.66\n",
            "14:01:11 01/03/20 Episode:, 924, reward:,20.0, frames: ,3031, epsilon: ,0.01, last_100_avgR: ,19.65\n",
            "14:01:21 01/03/20 Episode:, 925, reward:,20.0, frames: ,3024, epsilon: ,0.01, last_100_avgR: ,19.66\n",
            "14:01:32 01/03/20 Episode:, 926, reward:,21.0, frames: ,3060, epsilon: ,0.01, last_100_avgR: ,19.66\n",
            "14:01:43 01/03/20 Episode:, 927, reward:,21.0, frames: ,3075, epsilon: ,0.01, last_100_avgR: ,19.73\n",
            "14:01:54 01/03/20 Episode:, 928, reward:,21.0, frames: ,3159, epsilon: ,0.01, last_100_avgR: ,19.75\n",
            "14:02:06 01/03/20 Episode:, 929, reward:,20.0, frames: ,3114, epsilon: ,0.01, last_100_avgR: ,19.77\n",
            "14:02:16 01/03/20 Episode:, 930, reward:,21.0, frames: ,3073, epsilon: ,0.01, last_100_avgR: ,19.77\n",
            "14:02:27 01/03/20 Episode:, 931, reward:,21.0, frames: ,2970, epsilon: ,0.01, last_100_avgR: ,19.8\n",
            "14:02:38 01/03/20 Episode:, 932, reward:,21.0, frames: ,3156, epsilon: ,0.01, last_100_avgR: ,19.81\n",
            "14:02:49 01/03/20 Episode:, 933, reward:,21.0, frames: ,2977, epsilon: ,0.01, last_100_avgR: ,19.81\n",
            "14:02:59 01/03/20 Episode:, 934, reward:,21.0, frames: ,2973, epsilon: ,0.01, last_100_avgR: ,19.81\n",
            "14:03:10 01/03/20 Episode:, 935, reward:,21.0, frames: ,2970, epsilon: ,0.01, last_100_avgR: ,19.81\n",
            "14:03:22 01/03/20 Episode:, 936, reward:,21.0, frames: ,3429, epsilon: ,0.01, last_100_avgR: ,19.81\n",
            "14:03:33 01/03/20 Episode:, 937, reward:,21.0, frames: ,2982, epsilon: ,0.01, last_100_avgR: ,19.84\n",
            "14:03:47 01/03/20 Episode:, 938, reward:,19.0, frames: ,3897, epsilon: ,0.01, last_100_avgR: ,19.85\n",
            "14:03:57 01/03/20 Episode:, 939, reward:,21.0, frames: ,3066, epsilon: ,0.01, last_100_avgR: ,19.85\n",
            "14:04:08 01/03/20 Episode:, 940, reward:,21.0, frames: ,2982, epsilon: ,0.01, last_100_avgR: ,19.85\n",
            "14:04:19 01/03/20 Episode:, 941, reward:,20.0, frames: ,3210, epsilon: ,0.01, last_100_avgR: ,19.84\n",
            "14:04:30 01/03/20 Episode:, 942, reward:,21.0, frames: ,2982, epsilon: ,0.01, last_100_avgR: ,19.84\n",
            "14:04:41 01/03/20 Episode:, 943, reward:,21.0, frames: ,3069, epsilon: ,0.01, last_100_avgR: ,19.84\n",
            "14:04:56 01/03/20 Episode:, 944, reward:,8.0, frames: ,4381, epsilon: ,0.01, last_100_avgR: ,19.74\n",
            "14:05:08 01/03/20 Episode:, 945, reward:,19.0, frames: ,3357, epsilon: ,0.01, last_100_avgR: ,19.72\n",
            "14:05:19 01/03/20 Episode:, 946, reward:,20.0, frames: ,3217, epsilon: ,0.01, last_100_avgR: ,19.72\n",
            "14:05:36 01/03/20 Episode:, 947, reward:,20.0, frames: ,4560, epsilon: ,0.01, last_100_avgR: ,19.76\n",
            "14:05:51 01/03/20 Episode:, 948, reward:,14.0, frames: ,4263, epsilon: ,0.01, last_100_avgR: ,19.69\n",
            "14:06:01 01/03/20 Episode:, 949, reward:,21.0, frames: ,2976, epsilon: ,0.01, last_100_avgR: ,19.72\n",
            "14:06:11 01/03/20 Episode:, 950, reward:,21.0, frames: ,2982, epsilon: ,0.01, last_100_avgR: ,19.75\n",
            "GIF saved\n"
          ],
          "name": "stdout"
        },
        {
          "output_type": "stream",
          "text": [
            "MovieWriter imagemagick unavailable; trying to use <class 'matplotlib.animation.PillowWriter'> instead.\n"
          ],
          "name": "stderr"
        },
        {
          "output_type": "stream",
          "text": [
            "14:06:22 01/03/20 Episode:, 951, reward:,20.0, frames: ,3036, epsilon: ,0.01, last_100_avgR: ,19.74\n",
            "14:09:07 01/03/20 Episode:, 952, reward:,21.0, frames: ,2982, epsilon: ,0.01, last_100_avgR: ,19.74\n",
            "14:09:18 01/03/20 Episode:, 953, reward:,21.0, frames: ,2973, epsilon: ,0.01, last_100_avgR: ,19.74\n",
            "14:09:30 01/03/20 Episode:, 954, reward:,20.0, frames: ,3199, epsilon: ,0.01, last_100_avgR: ,19.73\n",
            "14:09:41 01/03/20 Episode:, 955, reward:,20.0, frames: ,3036, epsilon: ,0.01, last_100_avgR: ,19.72\n",
            "14:09:54 01/03/20 Episode:, 956, reward:,17.0, frames: ,3732, epsilon: ,0.01, last_100_avgR: ,19.68\n",
            "14:10:05 01/03/20 Episode:, 957, reward:,20.0, frames: ,3025, epsilon: ,0.01, last_100_avgR: ,19.69\n",
            "14:10:19 01/03/20 Episode:, 958, reward:,18.0, frames: ,4044, epsilon: ,0.01, last_100_avgR: ,19.68\n",
            "14:10:32 01/03/20 Episode:, 959, reward:,20.0, frames: ,3480, epsilon: ,0.01, last_100_avgR: ,19.69\n",
            "14:10:45 01/03/20 Episode:, 960, reward:,16.0, frames: ,3609, epsilon: ,0.01, last_100_avgR: ,19.72\n",
            "14:10:56 01/03/20 Episode:, 961, reward:,21.0, frames: ,3072, epsilon: ,0.01, last_100_avgR: ,19.78\n",
            "14:11:14 01/03/20 Episode:, 962, reward:,13.0, frames: ,5115, epsilon: ,0.01, last_100_avgR: ,19.7\n",
            "14:11:25 01/03/20 Episode:, 963, reward:,20.0, frames: ,3033, epsilon: ,0.01, last_100_avgR: ,19.71\n",
            "14:11:39 01/03/20 Episode:, 964, reward:,18.0, frames: ,4039, epsilon: ,0.01, last_100_avgR: ,19.71\n",
            "14:11:55 01/03/20 Episode:, 965, reward:,17.0, frames: ,4375, epsilon: ,0.01, last_100_avgR: ,19.68\n",
            "14:12:05 01/03/20 Episode:, 966, reward:,21.0, frames: ,2977, epsilon: ,0.01, last_100_avgR: ,19.68\n",
            "14:12:17 01/03/20 Episode:, 967, reward:,19.0, frames: ,3445, epsilon: ,0.01, last_100_avgR: ,19.66\n",
            "14:12:31 01/03/20 Episode:, 968, reward:,19.0, frames: ,3895, epsilon: ,0.01, last_100_avgR: ,19.64\n",
            "14:12:44 01/03/20 Episode:, 969, reward:,20.0, frames: ,3492, epsilon: ,0.01, last_100_avgR: ,19.64\n",
            "14:12:54 01/03/20 Episode:, 970, reward:,21.0, frames: ,2970, epsilon: ,0.01, last_100_avgR: ,19.69\n",
            "14:13:05 01/03/20 Episode:, 971, reward:,21.0, frames: ,2982, epsilon: ,0.01, last_100_avgR: ,19.69\n",
            "14:13:18 01/03/20 Episode:, 972, reward:,20.0, frames: ,3579, epsilon: ,0.01, last_100_avgR: ,19.68\n",
            "14:13:29 01/03/20 Episode:, 973, reward:,21.0, frames: ,3165, epsilon: ,0.01, last_100_avgR: ,19.69\n",
            "14:13:40 01/03/20 Episode:, 974, reward:,21.0, frames: ,3067, epsilon: ,0.01, last_100_avgR: ,19.69\n",
            "14:13:51 01/03/20 Episode:, 975, reward:,20.0, frames: ,3036, epsilon: ,0.01, last_100_avgR: ,19.68\n",
            "14:14:02 01/03/20 Episode:, 976, reward:,20.0, frames: ,3037, epsilon: ,0.01, last_100_avgR: ,19.69\n",
            "14:14:13 01/03/20 Episode:, 977, reward:,20.0, frames: ,3307, epsilon: ,0.01, last_100_avgR: ,19.68\n",
            "14:14:26 01/03/20 Episode:, 978, reward:,16.0, frames: ,3516, epsilon: ,0.01, last_100_avgR: ,19.63\n",
            "14:14:42 01/03/20 Episode:, 979, reward:,12.0, frames: ,4548, epsilon: ,0.01, last_100_avgR: ,19.56\n",
            "14:14:53 01/03/20 Episode:, 980, reward:,21.0, frames: ,2985, epsilon: ,0.01, last_100_avgR: ,19.56\n",
            "14:15:04 01/03/20 Episode:, 981, reward:,21.0, frames: ,3247, epsilon: ,0.01, last_100_avgR: ,19.57\n",
            "14:15:17 01/03/20 Episode:, 982, reward:,17.0, frames: ,3552, epsilon: ,0.01, last_100_avgR: ,19.53\n",
            "14:15:29 01/03/20 Episode:, 983, reward:,19.0, frames: ,3447, epsilon: ,0.01, last_100_avgR: ,19.52\n",
            "14:15:40 01/03/20 Episode:, 984, reward:,21.0, frames: ,2970, epsilon: ,0.01, last_100_avgR: ,19.52\n",
            "14:15:52 01/03/20 Episode:, 985, reward:,20.0, frames: ,3384, epsilon: ,0.01, last_100_avgR: ,19.51\n",
            "14:16:07 01/03/20 Episode:, 986, reward:,17.0, frames: ,4362, epsilon: ,0.01, last_100_avgR: ,19.48\n",
            "14:16:18 01/03/20 Episode:, 987, reward:,21.0, frames: ,2967, epsilon: ,0.01, last_100_avgR: ,19.58\n",
            "14:16:29 01/03/20 Episode:, 988, reward:,20.0, frames: ,3030, epsilon: ,0.01, last_100_avgR: ,19.63\n",
            "14:16:43 01/03/20 Episode:, 989, reward:,17.0, frames: ,3921, epsilon: ,0.01, last_100_avgR: ,19.59\n",
            "14:16:53 01/03/20 Episode:, 990, reward:,21.0, frames: ,2973, epsilon: ,0.01, last_100_avgR: ,19.59\n",
            "14:17:06 01/03/20 Episode:, 991, reward:,20.0, frames: ,3489, epsilon: ,0.01, last_100_avgR: ,19.61\n",
            "14:17:18 01/03/20 Episode:, 992, reward:,20.0, frames: ,3489, epsilon: ,0.01, last_100_avgR: ,19.65\n",
            "14:17:29 01/03/20 Episode:, 993, reward:,21.0, frames: ,2976, epsilon: ,0.01, last_100_avgR: ,19.66\n",
            "14:17:39 01/03/20 Episode:, 994, reward:,21.0, frames: ,2970, epsilon: ,0.01, last_100_avgR: ,19.67\n",
            "14:17:53 01/03/20 Episode:, 995, reward:,19.0, frames: ,3805, epsilon: ,0.01, last_100_avgR: ,19.66\n",
            "14:18:03 01/03/20 Episode:, 996, reward:,21.0, frames: ,2971, epsilon: ,0.01, last_100_avgR: ,19.66\n",
            "14:18:16 01/03/20 Episode:, 997, reward:,18.0, frames: ,3678, epsilon: ,0.01, last_100_avgR: ,19.63\n",
            "14:18:27 01/03/20 Episode:, 998, reward:,21.0, frames: ,2976, epsilon: ,0.01, last_100_avgR: ,19.63\n",
            "14:18:38 01/03/20 Episode:, 999, reward:,21.0, frames: ,2973, epsilon: ,0.01, last_100_avgR: ,19.64\n",
            "14:18:49 01/03/20 Episode:, 1000, reward:,20.0, frames: ,3294, epsilon: ,0.01, last_100_avgR: ,19.66\n",
            "GIF saved\n"
          ],
          "name": "stdout"
        },
        {
          "output_type": "display_data",
          "data": {
            "image/png": "[encoded data removed]",
            "text/plain": [
              "<Figure size 432x288 with 1 Axes>"
            ]
          },
          "metadata": {
            "tags": []
          }
        }
      ]
    },
    {
      "cell_type": "code",
      "metadata": {
        "id": "98yKXIARk2_4",
        "colab_type": "code",
        "colab": {}
      },
      "source": [
        "model_save_name = 'classifier.pt'\n",
        "path = F\"/content/gdrive/My Drive/\" + model_save_name\n",
        "torch.save({\n",
        "    'epoch': episode +1,\n",
        "    'policy_dqn': policy_dqn.state_dict(),\n",
        "    'target_dqn': target_dqn.state_dict(),\n",
        "    'optimizer': policy_dqn.optimizer.state_dict(),\n",
        "    'replay_mem': replay_memory,\n",
        "    'epsilon': epsilon,\n",
        "    'loss': loss\n",
        "}, path)"
      ],
      "execution_count": 0,
      "outputs": []
    }
  ]
}